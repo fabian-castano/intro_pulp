{
  "cells": [
    {
      "cell_type": "markdown",
      "metadata": {
        "id": "view-in-github",
        "colab_type": "text"
      },
      "source": [
        "<a href=\"https://colab.research.google.com/github/fancagi/intro_pulp/blob/main/Gestion_de_operaciones_L4.ipynb\" target=\"_parent\"><img src=\"https://colab.research.google.com/assets/colab-badge.svg\" alt=\"Open In Colab\"/></a>"
      ]
    },
    {
      "cell_type": "markdown",
      "metadata": {
        "id": "GUU60Z4FlC1T"
      },
      "source": [
        "# Problemas de programación de personal\n",
        "\n",
        "Muchas clínicas funcionan las 24 horas del día, durante los 7 días de la semana. El número de empleados necesarios puede variar de una hora a otra. \n",
        "\n",
        "Consideremos un contexto en el cual los empleados están asignados a un turno de 8 o 4 horas. Los posibles horarios de inicio de turno y la duración se presenta en la siguiente tabla . Cualquier persona que trabaje en el turno de noche recibirá un pago más alto por ese turno. El problema es determinar cuántos empleados asignar a cada uno de los turnos para cumplir con los requisitos de mano de obra por hora al mínimo costo posible.\n",
        "\n",
        "Existen, de esta forma, 7 diferentes tipos de turnos cada uno con unas demandas diferentes de personal. \n",
        "\n",
        "| Horarios de inicio| Duración del turno  | Pago  |\n",
        "|--------------------|--------------------|---------------|\n",
        "| 6 | 8  horas | 10 |\n",
        "| 12 | 8  horas | 10 |\n",
        "| 16 | 8  horas | 10 |\n",
        "| 20 | 8  horas | 20 |\n",
        "| 22 | 8  horas | 20 |\n",
        "| 6 | 4  horas | 6 |\n",
        "| 10 | 4  horas | 6 |\n",
        "| 14 | 4  horas | 6 |\n",
        "| 20 | 4  horas | 12 |\n"
      ]
    },
    {
      "cell_type": "code",
      "execution_count": null,
      "metadata": {
        "id": "MwQPvvYrlC1i",
        "outputId": "5f9bb410-342e-434d-fac9-bd17f7add65d"
      },
      "outputs": [
        {
          "data": {
            "text/plain": [
              "array([[ 6,  8, 10],\n",
              "       [12,  8, 10],\n",
              "       [16,  8, 10],\n",
              "       [20,  8, 20],\n",
              "       [22,  8, 20],\n",
              "       [ 6,  4,  6],\n",
              "       [10,  4,  6],\n",
              "       [14,  4,  6],\n",
              "       [20,  4, 12]])"
            ]
          },
          "execution_count": 68,
          "metadata": {},
          "output_type": "execute_result"
        }
      ],
      "source": [
        "# Requerimientos por hora\n",
        "\n",
        "import numpy as np\n",
        "\n",
        "dem=[4, 7, 6, 5, 6, 6, 6, 3, 7, 7, 6, 6, 5, 5, 3, 4, 5, 4, 6, 5, 6,2, 6, 4]\n",
        "start_time=[6,12,16,20,22,6,10,14,20]\n",
        "duration=[8,8,8,8,8,4,4,4,4]\n",
        "wage=[10,10,10,20,20,6,6,6,12]\n",
        "\n",
        "params=[]\n",
        "# print as markdown table\n",
        "for s in range(len(start_time)):\n",
        "    params.append([start_time[s],duration[s],wage[s]])\n",
        "\n",
        "params=np.array(params)    \n",
        "\n",
        "params"
      ]
    },
    {
      "cell_type": "code",
      "execution_count": null,
      "metadata": {
        "id": "58k8V4vslC1j",
        "outputId": "c236d6ec-819e-4366-fd2a-bd9708fa32ed"
      },
      "outputs": [
        {
          "data": {
            "text/plain": [
              "array([[0., 0., 0., 1., 1., 0., 0., 0., 0.],\n",
              "       [0., 0., 0., 1., 1., 0., 0., 0., 0.],\n",
              "       [0., 0., 0., 1., 1., 0., 0., 0., 0.],\n",
              "       [0., 0., 0., 1., 1., 0., 0., 0., 0.],\n",
              "       [0., 0., 0., 0., 1., 0., 0., 0., 0.],\n",
              "       [0., 0., 0., 0., 1., 0., 0., 0., 0.],\n",
              "       [1., 0., 0., 0., 0., 0., 0., 0., 0.],\n",
              "       [1., 0., 0., 0., 0., 0., 0., 0., 0.],\n",
              "       [1., 0., 0., 0., 0., 0., 0., 0., 0.],\n",
              "       [1., 0., 0., 0., 0., 0., 0., 0., 0.],\n",
              "       [1., 0., 0., 0., 0., 0., 1., 0., 0.],\n",
              "       [1., 0., 0., 0., 0., 0., 1., 0., 0.],\n",
              "       [1., 1., 0., 0., 0., 0., 1., 0., 0.],\n",
              "       [1., 1., 0., 0., 0., 0., 1., 0., 0.],\n",
              "       [0., 1., 0., 0., 0., 0., 0., 1., 0.],\n",
              "       [0., 1., 0., 0., 0., 0., 0., 1., 0.],\n",
              "       [0., 1., 1., 0., 0., 0., 0., 1., 0.],\n",
              "       [0., 1., 1., 0., 0., 0., 0., 1., 0.],\n",
              "       [0., 1., 1., 0., 0., 0., 0., 0., 0.],\n",
              "       [0., 1., 1., 0., 0., 0., 0., 0., 0.],\n",
              "       [0., 0., 1., 1., 0., 0., 0., 0., 0.],\n",
              "       [0., 0., 1., 1., 0., 0., 0., 0., 0.],\n",
              "       [0., 0., 1., 1., 1., 0., 0., 0., 0.],\n",
              "       [0., 0., 1., 1., 1., 0., 0., 0., 0.]])"
            ]
          },
          "execution_count": 69,
          "metadata": {},
          "output_type": "execute_result"
        }
      ],
      "source": [
        "contribution_shift_hour=np.zeros((len(dem),len(start_time)))\n",
        "for i in start_time:\n",
        "    for j in range(duration[start_time.index(i)]):\n",
        "        contribution_shift_hour[(i+j)%24,start_time.index(i)]=1\n",
        "            \n",
        "contribution_shift_hour            "
      ]
    },
    {
      "cell_type": "code",
      "execution_count": null,
      "metadata": {
        "id": "rv1cpEzClC1k"
      },
      "outputs": [],
      "source": [
        "# Sets\n",
        "\n",
        "shifts=set(range(len(start_time)))\n",
        "# set of shifts that work during hour h\n",
        "M=[set() for h in range(len(dem))]\n",
        "for h in range(len(dem)):\n",
        "    M[h].union({s for s in shifts if contribution_shift_hour[h,s]==1})"
      ]
    },
    {
      "cell_type": "code",
      "execution_count": null,
      "metadata": {
        "id": "bacRC20flC1k",
        "outputId": "baf5c2ed-7b08-4491-8892-180befa9f013"
      },
      "outputs": [
        {
          "name": "stdout",
          "output_type": "stream",
          "text": [
            "Welcome to the CBC MILP Solver \n",
            "Version: 2.10.3 \n",
            "Build Date: Dec 15 2019 \n",
            "\n",
            "command line - /Users/user/opt/anaconda3/envs/apricot-env/lib/python3.9/site-packages/pulp/solverdir/cbc/osx/64/cbc /var/folders/xc/t5gbnt3n5sq5bkg65xw9f1g00000gn/T/88fcae2ea1834deca5e7d6b72e67c609-pulp.mps timeMode elapsed branch printingOptions all solution /var/folders/xc/t5gbnt3n5sq5bkg65xw9f1g00000gn/T/88fcae2ea1834deca5e7d6b72e67c609-pulp.sol (default strategy 1)\n",
            "At line 2 NAME          MODEL\n",
            "At line 3 ROWS\n",
            "At line 29 COLUMNS\n",
            "At line 105 RHS\n",
            "At line 130 BOUNDS\n",
            "At line 140 ENDATA\n",
            "Problem MODEL has 24 rows, 9 columns and 48 elements\n",
            "Coin0008I MODEL read with 0 errors\n",
            "Option for timeMode changed from cpu to elapsed\n",
            "Continuous objective value is 288 - 0.00 seconds\n",
            "Cgl0003I 0 fixed, 5 tightened bounds, 0 strengthened rows, 0 substitutions\n",
            "Cgl0004I processed model has 5 rows, 5 columns (5 integer (0 of which binary)) and 11 elements\n",
            "Cutoff increment increased from 1e-05 to 1.9999\n",
            "Cbc0012I Integer solution of 288 found by greedy cover after 0 iterations and 0 nodes (0.03 seconds)\n",
            "Cbc0001I Search completed - best objective 288, took 0 iterations and 0 nodes (0.03 seconds)\n",
            "Cbc0035I Maximum depth 0, 0 variables fixed on reduced cost\n",
            "Cuts at root node changed objective from 288 to 288\n",
            "Probing was tried 0 times and created 0 cuts of which 0 were active after adding rounds of cuts (0.000 seconds)\n",
            "Gomory was tried 0 times and created 0 cuts of which 0 were active after adding rounds of cuts (0.000 seconds)\n",
            "Knapsack was tried 0 times and created 0 cuts of which 0 were active after adding rounds of cuts (0.000 seconds)\n",
            "Clique was tried 0 times and created 0 cuts of which 0 were active after adding rounds of cuts (0.000 seconds)\n",
            "MixedIntegerRounding2 was tried 0 times and created 0 cuts of which 0 were active after adding rounds of cuts (0.000 seconds)\n",
            "FlowCover was tried 0 times and created 0 cuts of which 0 were active after adding rounds of cuts (0.000 seconds)\n",
            "TwoMirCuts was tried 0 times and created 0 cuts of which 0 were active after adding rounds of cuts (0.000 seconds)\n",
            "ZeroHalf was tried 0 times and created 0 cuts of which 0 were active after adding rounds of cuts (0.000 seconds)\n",
            "\n",
            "Result - Optimal solution found\n",
            "\n",
            "Objective value:                288.00000000\n",
            "Enumerated nodes:               0\n",
            "Total iterations:               0\n",
            "Time (CPU seconds):             0.00\n",
            "Time (Wallclock seconds):       0.03\n",
            "\n",
            "Option for printingOptions changed from normal to all\n",
            "Total time (CPU seconds):       0.00   (Wallclock seconds):       0.04\n",
            "\n"
          ]
        },
        {
          "name": "stderr",
          "output_type": "stream",
          "text": [
            "/Users/user/opt/anaconda3/envs/apricot-env/lib/python3.9/site-packages/pulp/pulp.py:1352: UserWarning: Spaces are not permitted in the name. Converted to '_'\n",
            "  warnings.warn(\"Spaces are not permitted in the name. Converted to '_'\")\n"
          ]
        },
        {
          "data": {
            "text/plain": [
              "1"
            ]
          },
          "execution_count": 71,
          "metadata": {},
          "output_type": "execute_result"
        }
      ],
      "source": [
        "import pulp as plp\n",
        "\n",
        "# Create the 'prob' variable to contain the problem data\n",
        "prob = plp.LpProblem(\"The problem\", plp.LpMinimize)\n",
        "\n",
        "x=plp.LpVariable.dicts(\"x\", (shifts), lowBound=0, cat='Integer')\n",
        "\n",
        "prob += plp.lpSum([wage[s]*x[s] for s in shifts])\n",
        "\n",
        "for h in range(len(dem)):\n",
        "    prob += plp.lpSum([contribution_shift_hour[h,s]*x[s] for s in shifts]) >= dem[h], \"Demand\"+str(h)\n",
        "\n",
        "prob.solve()"
      ]
    },
    {
      "cell_type": "code",
      "execution_count": null,
      "metadata": {
        "id": "873UPwoPlC1l",
        "outputId": "175f783d-7b76-46c5-9a6c-28774c42ef09"
      },
      "outputs": [
        {
          "name": "stdout",
          "output_type": "stream",
          "text": [
            "x_0 = 7.0\n",
            "x_1 = 1.0\n",
            "x_2 = 5.0\n",
            "x_3 = 1.0\n",
            "x_4 = 6.0\n",
            "x_5 = 0.0\n",
            "x_6 = 0.0\n",
            "x_7 = 3.0\n",
            "x_8 = 0.0\n"
          ]
        }
      ],
      "source": [
        "for v in prob.variables():\n",
        "    print(v.name, \"=\", v.varValue)"
      ]
    }
  ],
  "metadata": {
    "kernelspec": {
      "display_name": "apricot-env",
      "language": "python",
      "name": "python3"
    },
    "language_info": {
      "codemirror_mode": {
        "name": "ipython",
        "version": 3
      },
      "file_extension": ".py",
      "mimetype": "text/x-python",
      "name": "python",
      "nbconvert_exporter": "python",
      "pygments_lexer": "ipython3",
      "version": "3.9.12"
    },
    "orig_nbformat": 4,
    "colab": {
      "provenance": [],
      "include_colab_link": true
    }
  },
  "nbformat": 4,
  "nbformat_minor": 0
}