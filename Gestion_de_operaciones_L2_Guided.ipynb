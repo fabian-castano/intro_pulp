{
  "cells": [
    {
      "cell_type": "markdown",
      "metadata": {
        "colab_type": "text",
        "id": "view-in-github"
      },
      "source": [
        "<a href=\"https://colab.research.google.com/github/fancagi/intro_pulp/blob/main/Gestion_de_operaciones_L2.ipynb\" target=\"_parent\"><img src=\"https://colab.research.google.com/assets/colab-badge.svg\" alt=\"Open In Colab\"/></a>"
      ]
    },
    {
      "attachments": {},
      "cell_type": "markdown",
      "metadata": {
        "id": "rGYb7jF_sVtC"
      },
      "source": [
        "# Problema de localización de ambulancias\n"
      ]
    },
    {
      "attachments": {},
      "cell_type": "markdown",
      "metadata": {
        "id": "dPZPYPF6sVtE"
      },
      "source": [
        "## Objetivo y Prerrequisitos\n",
        "En este ejemplo, resolveremos un problema de ubicación de amnbulancias en el cual queremos construir almacenes para abastecer a un cierto número de hospitales. Construiremos un modelo de programación entera mixta (MIP) de este problema, implementaremos este modelo en la interfaz de Python de PuLP + Cbc y calcularemos una solución óptima.\n",
        "\n"
      ]
    },
    {
      "attachments": {},
      "cell_type": "markdown",
      "metadata": {
        "id": "g2nNArFIsVtF"
      },
      "source": [
        "## Motivación\n",
        "\n",
        "El `maximal coverage location problem` es un problema de optimización que busca determinar la ubicación óptima de un conjunto de instalaciones para maximizar la cobertura de un conjunto de demandas o necesidades. \n",
        "\n",
        "Este problema se puede aplicar en diferentes campos, como la planificación de servicios públicos, la ubicación de tiendas minoristas o la asignación de recursos en emergencias. En este ejercicio, los estudiantes deben utilizar programación lineal para abordar un problema de ubicación de instalaciones que maximice la cobertura de una serie de puntos de demanda dentro de un área determinada, utilizando un conjunto limitado de recursos. Los estudiantes deberán definir las variables de decisión, las restricciones y la función objetivo, y utilizar un solver de programación lineal para encontrar la solución óptima al problema planteado."
      ]
    },
    {
      "attachments": {},
      "cell_type": "markdown",
      "metadata": {
        "id": "PtyzyqlDsVtF"
      },
      "source": [
        "## Descripción del problema\n",
        "\n",
        "El problema de ubicación de ambulancias con cobertura máxima (maximal coverage location problem) es un problema de optimización que tiene como objetivo encontrar la ubicación óptima para las estaciones de ambulancias para que la mayor cantidad de personas posible pueda ser atendida en el menor tiempo posible. El objetivo es maximizar el número de personas cubiertas  considerando las limitaciones de recursos como la cantidad de ambulancias disponibles y la distancia máxima permitida para ser recorrida para cada una de ellas.\n",
        "\n",
        "El problema implica encontrar una ubicación óptima para cada estación de ambulancias de manera que se maximice el número de personas que puedan ser atendidas en un tiempo límite determinado. La ubicación óptima de las estaciones de ambulancias debe ser tal que la mayor cantidad de personas posible estén dentro del rango de tiempo máximo permitido y se pueda prestar atención médica en el menor tiempo posible. Este problema puede ser resuelto utilizando técnicas de programación lineal para encontrar la solución óptima en términos de costo y eficiencia."
      ]
    },
    {
      "attachments": {},
      "cell_type": "markdown",
      "metadata": {
        "id": "q0oY4oXZsVtG"
      },
      "source": [
        "## Formulación del Modelo\n",
        "\n",
        "\n",
        "### Conjuntos e Índices\n",
        "\n",
        "$i \\in I$: Índice y conjunto de ubicaciones de demanda (o pacientes).\n",
        "\n",
        "$j \\in J$: Índice y conjunto de ubicaciones candidatas de ambulancias (o bases).\n",
        "\n",
        "\n",
        "### Parámetros\n",
        "\n",
        "\n",
        "$d_{i,j} \\in \\mathbb{R}^+$: Distancia entre la base $j \\in J$ y el paciente $i \\in I$.\n",
        "\n",
        "$\\theta_{i,j} \\in {0,1}$: Si una ambulancia ubicada en $j \\in J$ puede atender a un barrio  $i \\in I$ o no. Si $\\theta_{i,j}=1$, entonces $j \\in J$ puede atender a $i \\in I$, y $\\theta_{i,j}=0$ en caso contrario.\n",
        "\n",
        "\n",
        "### Variables de Decisión\n",
        "$y_{j} \\in {0, 1 }$: Esta variable es igual a 1 si se ubica una ambulancia en la ubicación candidata $j \\in J$; y 0 en caso contrario.\n",
        "\n",
        "$ x_{i} \\in {0, 1 }$: Esta variable es igual a 1 si la ubicación i es cubierta por alguna  ambulancia \n",
        "\n",
        "### Función Objetivo\n",
        "***Cobertura máxima.*** Queremos maximizar la cantidad de barrios que pueden ser atendidos por las ambulancias ubicadas en las bases seleccionadas. Esto se logra maximizando la suma de las variables que indican que un barrio es cubierto o no.\n",
        "\n",
        "\\begin{equation}\n",
        "\\text{Max} \\quad Z =  \\sum_{i \\in I}x_{i} \n",
        "\\tag{0}\n",
        "\\end{equation}\n",
        "\n",
        "### Restricciones\n",
        "\n",
        "***Cobertura***\n",
        "\n",
        "Para que una ubicación se considere cubierta debe estar dentro del rango de tiempo permitido.\n",
        "\n",
        "\\begin{equation}\n",
        " x_{i} \\leq \\sum_{j \\in J} y_{j}\\cdot \\theta_{i,j}  \\quad \\forall j \\in J\n",
        "\\tag{1}\n",
        "\\end{equation}\n",
        "\n",
        "***Límite de ambulancias.***\n",
        "\n",
        "Debemos asegurarnos de que solo se ubiquen tantas ambulancias como disponibilidad se tiene de estas.\n",
        "\n",
        "\\begin{equation}\n",
        "\\sum_{i \\in I}x_{i}\\leq N \n",
        "\\tag{2}\n",
        "\\end{equation}\n",
        "\n",
        "***Naturaleza de las variables.***\n",
        "\n",
        "\\begin{equation}\n",
        "x_{i} \\in {0, 1 }\n",
        "\\tag{3}\n",
        "\\end{equation}\n",
        "\n",
        "\\begin{equation}\n",
        "y_{j} \\in {0, 1 }\n",
        "\\tag{4}\n",
        "\\end{equation}\n"
      ]
    },
    {
      "cell_type": "code",
      "execution_count": 9,
      "metadata": {},
      "outputs": [],
      "source": [
        "import numpy as np\n",
        "\n",
        "# Determina la distancia euclidiana entre la bodega seleccionalada y los clientes\n",
        "\n",
        "def compute_distance(loc1, loc2):\n",
        "    \"\"\"compute the distance between two locations\n",
        "\n",
        "    Args:\n",
        "        loc1 (tuple): location 1\n",
        "        loc1 (tuple): location 2\n",
        "\n",
        "    Returns:\n",
        "        float: distance between loc1 and loc2\n",
        "    \"\"\"\n",
        "    dx = loc1[0] - loc2[0]\n",
        "    dy = loc1[1] - loc2[1]\n",
        "    return sqrt(dx*dx + dy*dy)\n",
        "\n",
        "\n",
        "\n",
        "def create_grid(x_min, x_max, y_min, y_max, n_points):\n",
        "    \"\"\"\n",
        "    Creates a square grid of points between the specified boundaries.\n",
        "    \n",
        "    Parameters\n",
        "    ----------\n",
        "    x_min : float\n",
        "        Minimum x value.\n",
        "    x_max : float\n",
        "        Maximum x value.\n",
        "    y_min : float\n",
        "        Minimum y value.\n",
        "    y_max : float\n",
        "        Maximum y value.\n",
        "    n_points : int\n",
        "        Number of points in each dimension.\n",
        "        \n",
        "    Returns\n",
        "    -------\n",
        "    grid : array\n",
        "        Array of shape (n_points, n_points, 2) containing the grid of points.\n",
        "    \"\"\"\n",
        "    x = np.linspace(x_min, x_max, n_points)\n",
        "    y = np.linspace(y_min, y_max, n_points)\n",
        "    grid = np.array(np.meshgrid(x, y)).T.reshape(-1, 2)\n",
        "    # convert the grid to a list of tuples\n",
        "    grid = [tuple(x) for x in grid]\n",
        "    return grid\n",
        "\n",
        "\n",
        "\n"
      ]
    },
    {
      "cell_type": "code",
      "execution_count": 30,
      "metadata": {
        "id": "0Js96xrUsVtI"
      },
      "outputs": [],
      "source": [
        "from itertools import product\n",
        "from math import sqrt\n",
        "\n",
        "import pulp as plp\n",
        "\n",
        "\n",
        "# tested with PuLP and Python 3.7.0\n",
        "\n",
        "# Parameters\n",
        " \n",
        "customers = create_grid(0, 3, 0, 3, 10)\n",
        "\n",
        "facilities = [(0.18, 1.02),\n",
        "            (0.6, 2.85),\n",
        "            (1.23, 0.84),\n",
        "            (0.63, 1.5),\n",
        "            (1.71, 1.74),\n",
        "            (0.24, 0.03),\n",
        "            (1.2, 2.28),\n",
        "            (0.42, 2.13),\n",
        "            (0.09, 2.49),\n",
        "            (1.62, 2.64),\n",
        "            (2.46, 0.39),\n",
        "            (1.83, 0.09),\n",
        "            (0.78, 1.68),\n",
        "            (2.76, 0.87),\n",
        "            (0.48, 1.86),\n",
        "            (1.86, 0.63),\n",
        "            (1.59, 2.7),\n",
        "            (2.04, 1.44),\n",
        "            (0.54, 1.89),\n",
        "            (0.06, 2.94)]\n",
        "setup_cost = [1, 4, 1, 4, 3, 4, 5, 3, 5, 1, 5, 1, 1, 2, 1, 4, 5, 2, 4, 1]\n",
        "max_distance = 1.5\n",
        "num_ambulances = 5\n",
        "\n",
        "beta=np.array((len(facilities),len(customers)))"
      ]
    },
    {
      "attachments": {},
      "cell_type": "markdown",
      "metadata": {},
      "source": [
        "# Vamos a visualizar la instancia que estaremos resolviendo"
      ]
    },
    {
      "cell_type": "code",
      "execution_count": 62,
      "metadata": {
        "id": "yGOH-DY4sVtJ",
        "outputId": "6f278647-b2c7-4c34-cb0b-a865473c5583"
      },
      "outputs": [
        {
          "data": {
            "application/vnd.plotly.v1+json": {
              "config": {
                "plotlyServerURL": "https://plot.ly"
              },
              "data": [
                {
                  "mode": "markers",
                  "name": "Facilities",
                  "type": "scatter",
                  "x": [
                    0.18,
                    0.6,
                    1.23,
                    0.63,
                    1.71,
                    0.24,
                    1.2,
                    0.42,
                    0.09,
                    1.62,
                    2.46,
                    1.83,
                    0.78,
                    2.76,
                    0.48,
                    1.86,
                    1.59,
                    2.04,
                    0.54,
                    0.06
                  ],
                  "y": [
                    1.02,
                    2.85,
                    0.84,
                    1.5,
                    1.74,
                    0.03,
                    2.28,
                    2.13,
                    2.49,
                    2.64,
                    0.39,
                    0.09,
                    1.68,
                    0.87,
                    1.86,
                    0.63,
                    2.7,
                    1.44,
                    1.89,
                    2.94
                  ]
                },
                {
                  "mode": "markers",
                  "name": "Hospital",
                  "type": "scatter",
                  "x": [
                    0,
                    0,
                    0,
                    0,
                    0,
                    0,
                    0,
                    0,
                    0,
                    0,
                    0.3333333333333333,
                    0.3333333333333333,
                    0.3333333333333333,
                    0.3333333333333333,
                    0.3333333333333333,
                    0.3333333333333333,
                    0.3333333333333333,
                    0.3333333333333333,
                    0.3333333333333333,
                    0.3333333333333333,
                    0.6666666666666666,
                    0.6666666666666666,
                    0.6666666666666666,
                    0.6666666666666666,
                    0.6666666666666666,
                    0.6666666666666666,
                    0.6666666666666666,
                    0.6666666666666666,
                    0.6666666666666666,
                    0.6666666666666666,
                    1,
                    1,
                    1,
                    1,
                    1,
                    1,
                    1,
                    1,
                    1,
                    1,
                    1.3333333333333333,
                    1.3333333333333333,
                    1.3333333333333333,
                    1.3333333333333333,
                    1.3333333333333333,
                    1.3333333333333333,
                    1.3333333333333333,
                    1.3333333333333333,
                    1.3333333333333333,
                    1.3333333333333333,
                    1.6666666666666665,
                    1.6666666666666665,
                    1.6666666666666665,
                    1.6666666666666665,
                    1.6666666666666665,
                    1.6666666666666665,
                    1.6666666666666665,
                    1.6666666666666665,
                    1.6666666666666665,
                    1.6666666666666665,
                    2,
                    2,
                    2,
                    2,
                    2,
                    2,
                    2,
                    2,
                    2,
                    2,
                    2.333333333333333,
                    2.333333333333333,
                    2.333333333333333,
                    2.333333333333333,
                    2.333333333333333,
                    2.333333333333333,
                    2.333333333333333,
                    2.333333333333333,
                    2.333333333333333,
                    2.333333333333333,
                    2.6666666666666665,
                    2.6666666666666665,
                    2.6666666666666665,
                    2.6666666666666665,
                    2.6666666666666665,
                    2.6666666666666665,
                    2.6666666666666665,
                    2.6666666666666665,
                    2.6666666666666665,
                    2.6666666666666665,
                    3,
                    3,
                    3,
                    3,
                    3,
                    3,
                    3,
                    3,
                    3,
                    3
                  ],
                  "y": [
                    0,
                    0.3333333333333333,
                    0.6666666666666666,
                    1,
                    1.3333333333333333,
                    1.6666666666666665,
                    2,
                    2.333333333333333,
                    2.6666666666666665,
                    3,
                    0,
                    0.3333333333333333,
                    0.6666666666666666,
                    1,
                    1.3333333333333333,
                    1.6666666666666665,
                    2,
                    2.333333333333333,
                    2.6666666666666665,
                    3,
                    0,
                    0.3333333333333333,
                    0.6666666666666666,
                    1,
                    1.3333333333333333,
                    1.6666666666666665,
                    2,
                    2.333333333333333,
                    2.6666666666666665,
                    3,
                    0,
                    0.3333333333333333,
                    0.6666666666666666,
                    1,
                    1.3333333333333333,
                    1.6666666666666665,
                    2,
                    2.333333333333333,
                    2.6666666666666665,
                    3,
                    0,
                    0.3333333333333333,
                    0.6666666666666666,
                    1,
                    1.3333333333333333,
                    1.6666666666666665,
                    2,
                    2.333333333333333,
                    2.6666666666666665,
                    3,
                    0,
                    0.3333333333333333,
                    0.6666666666666666,
                    1,
                    1.3333333333333333,
                    1.6666666666666665,
                    2,
                    2.333333333333333,
                    2.6666666666666665,
                    3,
                    0,
                    0.3333333333333333,
                    0.6666666666666666,
                    1,
                    1.3333333333333333,
                    1.6666666666666665,
                    2,
                    2.333333333333333,
                    2.6666666666666665,
                    3,
                    0,
                    0.3333333333333333,
                    0.6666666666666666,
                    1,
                    1.3333333333333333,
                    1.6666666666666665,
                    2,
                    2.333333333333333,
                    2.6666666666666665,
                    3,
                    0,
                    0.3333333333333333,
                    0.6666666666666666,
                    1,
                    1.3333333333333333,
                    1.6666666666666665,
                    2,
                    2.333333333333333,
                    2.6666666666666665,
                    3,
                    0,
                    0.3333333333333333,
                    0.6666666666666666,
                    1,
                    1.3333333333333333,
                    1.6666666666666665,
                    2,
                    2.333333333333333,
                    2.6666666666666665,
                    3
                  ]
                },
                {
                  "marker": {
                    "color": "rgba(255, 0, 0, 0.2)",
                    "size": 250
                  },
                  "mode": "markers",
                  "name": "Facilities",
                  "type": "scatter",
                  "x": [
                    0.18,
                    0.6,
                    1.23,
                    0.63,
                    1.71,
                    0.24,
                    1.2,
                    0.42,
                    0.09,
                    1.62,
                    2.46,
                    1.83,
                    0.78,
                    2.76,
                    0.48,
                    1.86,
                    1.59,
                    2.04,
                    0.54,
                    0.06
                  ],
                  "y": [
                    1.02,
                    2.85,
                    0.84,
                    1.5,
                    1.74,
                    0.03,
                    2.28,
                    2.13,
                    2.49,
                    2.64,
                    0.39,
                    0.09,
                    1.68,
                    0.87,
                    1.86,
                    0.63,
                    2.7,
                    1.44,
                    1.89,
                    2.94
                  ]
                }
              ],
              "layout": {
                "template": {
                  "data": {
                    "bar": [
                      {
                        "error_x": {
                          "color": "#2a3f5f"
                        },
                        "error_y": {
                          "color": "#2a3f5f"
                        },
                        "marker": {
                          "line": {
                            "color": "#E5ECF6",
                            "width": 0.5
                          },
                          "pattern": {
                            "fillmode": "overlay",
                            "size": 10,
                            "solidity": 0.2
                          }
                        },
                        "type": "bar"
                      }
                    ],
                    "barpolar": [
                      {
                        "marker": {
                          "line": {
                            "color": "#E5ECF6",
                            "width": 0.5
                          },
                          "pattern": {
                            "fillmode": "overlay",
                            "size": 10,
                            "solidity": 0.2
                          }
                        },
                        "type": "barpolar"
                      }
                    ],
                    "carpet": [
                      {
                        "aaxis": {
                          "endlinecolor": "#2a3f5f",
                          "gridcolor": "white",
                          "linecolor": "white",
                          "minorgridcolor": "white",
                          "startlinecolor": "#2a3f5f"
                        },
                        "baxis": {
                          "endlinecolor": "#2a3f5f",
                          "gridcolor": "white",
                          "linecolor": "white",
                          "minorgridcolor": "white",
                          "startlinecolor": "#2a3f5f"
                        },
                        "type": "carpet"
                      }
                    ],
                    "choropleth": [
                      {
                        "colorbar": {
                          "outlinewidth": 0,
                          "ticks": ""
                        },
                        "type": "choropleth"
                      }
                    ],
                    "contour": [
                      {
                        "colorbar": {
                          "outlinewidth": 0,
                          "ticks": ""
                        },
                        "colorscale": [
                          [
                            0,
                            "#0d0887"
                          ],
                          [
                            0.1111111111111111,
                            "#46039f"
                          ],
                          [
                            0.2222222222222222,
                            "#7201a8"
                          ],
                          [
                            0.3333333333333333,
                            "#9c179e"
                          ],
                          [
                            0.4444444444444444,
                            "#bd3786"
                          ],
                          [
                            0.5555555555555556,
                            "#d8576b"
                          ],
                          [
                            0.6666666666666666,
                            "#ed7953"
                          ],
                          [
                            0.7777777777777778,
                            "#fb9f3a"
                          ],
                          [
                            0.8888888888888888,
                            "#fdca26"
                          ],
                          [
                            1,
                            "#f0f921"
                          ]
                        ],
                        "type": "contour"
                      }
                    ],
                    "contourcarpet": [
                      {
                        "colorbar": {
                          "outlinewidth": 0,
                          "ticks": ""
                        },
                        "type": "contourcarpet"
                      }
                    ],
                    "heatmap": [
                      {
                        "colorbar": {
                          "outlinewidth": 0,
                          "ticks": ""
                        },
                        "colorscale": [
                          [
                            0,
                            "#0d0887"
                          ],
                          [
                            0.1111111111111111,
                            "#46039f"
                          ],
                          [
                            0.2222222222222222,
                            "#7201a8"
                          ],
                          [
                            0.3333333333333333,
                            "#9c179e"
                          ],
                          [
                            0.4444444444444444,
                            "#bd3786"
                          ],
                          [
                            0.5555555555555556,
                            "#d8576b"
                          ],
                          [
                            0.6666666666666666,
                            "#ed7953"
                          ],
                          [
                            0.7777777777777778,
                            "#fb9f3a"
                          ],
                          [
                            0.8888888888888888,
                            "#fdca26"
                          ],
                          [
                            1,
                            "#f0f921"
                          ]
                        ],
                        "type": "heatmap"
                      }
                    ],
                    "heatmapgl": [
                      {
                        "colorbar": {
                          "outlinewidth": 0,
                          "ticks": ""
                        },
                        "colorscale": [
                          [
                            0,
                            "#0d0887"
                          ],
                          [
                            0.1111111111111111,
                            "#46039f"
                          ],
                          [
                            0.2222222222222222,
                            "#7201a8"
                          ],
                          [
                            0.3333333333333333,
                            "#9c179e"
                          ],
                          [
                            0.4444444444444444,
                            "#bd3786"
                          ],
                          [
                            0.5555555555555556,
                            "#d8576b"
                          ],
                          [
                            0.6666666666666666,
                            "#ed7953"
                          ],
                          [
                            0.7777777777777778,
                            "#fb9f3a"
                          ],
                          [
                            0.8888888888888888,
                            "#fdca26"
                          ],
                          [
                            1,
                            "#f0f921"
                          ]
                        ],
                        "type": "heatmapgl"
                      }
                    ],
                    "histogram": [
                      {
                        "marker": {
                          "pattern": {
                            "fillmode": "overlay",
                            "size": 10,
                            "solidity": 0.2
                          }
                        },
                        "type": "histogram"
                      }
                    ],
                    "histogram2d": [
                      {
                        "colorbar": {
                          "outlinewidth": 0,
                          "ticks": ""
                        },
                        "colorscale": [
                          [
                            0,
                            "#0d0887"
                          ],
                          [
                            0.1111111111111111,
                            "#46039f"
                          ],
                          [
                            0.2222222222222222,
                            "#7201a8"
                          ],
                          [
                            0.3333333333333333,
                            "#9c179e"
                          ],
                          [
                            0.4444444444444444,
                            "#bd3786"
                          ],
                          [
                            0.5555555555555556,
                            "#d8576b"
                          ],
                          [
                            0.6666666666666666,
                            "#ed7953"
                          ],
                          [
                            0.7777777777777778,
                            "#fb9f3a"
                          ],
                          [
                            0.8888888888888888,
                            "#fdca26"
                          ],
                          [
                            1,
                            "#f0f921"
                          ]
                        ],
                        "type": "histogram2d"
                      }
                    ],
                    "histogram2dcontour": [
                      {
                        "colorbar": {
                          "outlinewidth": 0,
                          "ticks": ""
                        },
                        "colorscale": [
                          [
                            0,
                            "#0d0887"
                          ],
                          [
                            0.1111111111111111,
                            "#46039f"
                          ],
                          [
                            0.2222222222222222,
                            "#7201a8"
                          ],
                          [
                            0.3333333333333333,
                            "#9c179e"
                          ],
                          [
                            0.4444444444444444,
                            "#bd3786"
                          ],
                          [
                            0.5555555555555556,
                            "#d8576b"
                          ],
                          [
                            0.6666666666666666,
                            "#ed7953"
                          ],
                          [
                            0.7777777777777778,
                            "#fb9f3a"
                          ],
                          [
                            0.8888888888888888,
                            "#fdca26"
                          ],
                          [
                            1,
                            "#f0f921"
                          ]
                        ],
                        "type": "histogram2dcontour"
                      }
                    ],
                    "mesh3d": [
                      {
                        "colorbar": {
                          "outlinewidth": 0,
                          "ticks": ""
                        },
                        "type": "mesh3d"
                      }
                    ],
                    "parcoords": [
                      {
                        "line": {
                          "colorbar": {
                            "outlinewidth": 0,
                            "ticks": ""
                          }
                        },
                        "type": "parcoords"
                      }
                    ],
                    "pie": [
                      {
                        "automargin": true,
                        "type": "pie"
                      }
                    ],
                    "scatter": [
                      {
                        "fillpattern": {
                          "fillmode": "overlay",
                          "size": 10,
                          "solidity": 0.2
                        },
                        "type": "scatter"
                      }
                    ],
                    "scatter3d": [
                      {
                        "line": {
                          "colorbar": {
                            "outlinewidth": 0,
                            "ticks": ""
                          }
                        },
                        "marker": {
                          "colorbar": {
                            "outlinewidth": 0,
                            "ticks": ""
                          }
                        },
                        "type": "scatter3d"
                      }
                    ],
                    "scattercarpet": [
                      {
                        "marker": {
                          "colorbar": {
                            "outlinewidth": 0,
                            "ticks": ""
                          }
                        },
                        "type": "scattercarpet"
                      }
                    ],
                    "scattergeo": [
                      {
                        "marker": {
                          "colorbar": {
                            "outlinewidth": 0,
                            "ticks": ""
                          }
                        },
                        "type": "scattergeo"
                      }
                    ],
                    "scattergl": [
                      {
                        "marker": {
                          "colorbar": {
                            "outlinewidth": 0,
                            "ticks": ""
                          }
                        },
                        "type": "scattergl"
                      }
                    ],
                    "scattermapbox": [
                      {
                        "marker": {
                          "colorbar": {
                            "outlinewidth": 0,
                            "ticks": ""
                          }
                        },
                        "type": "scattermapbox"
                      }
                    ],
                    "scatterpolar": [
                      {
                        "marker": {
                          "colorbar": {
                            "outlinewidth": 0,
                            "ticks": ""
                          }
                        },
                        "type": "scatterpolar"
                      }
                    ],
                    "scatterpolargl": [
                      {
                        "marker": {
                          "colorbar": {
                            "outlinewidth": 0,
                            "ticks": ""
                          }
                        },
                        "type": "scatterpolargl"
                      }
                    ],
                    "scatterternary": [
                      {
                        "marker": {
                          "colorbar": {
                            "outlinewidth": 0,
                            "ticks": ""
                          }
                        },
                        "type": "scatterternary"
                      }
                    ],
                    "surface": [
                      {
                        "colorbar": {
                          "outlinewidth": 0,
                          "ticks": ""
                        },
                        "colorscale": [
                          [
                            0,
                            "#0d0887"
                          ],
                          [
                            0.1111111111111111,
                            "#46039f"
                          ],
                          [
                            0.2222222222222222,
                            "#7201a8"
                          ],
                          [
                            0.3333333333333333,
                            "#9c179e"
                          ],
                          [
                            0.4444444444444444,
                            "#bd3786"
                          ],
                          [
                            0.5555555555555556,
                            "#d8576b"
                          ],
                          [
                            0.6666666666666666,
                            "#ed7953"
                          ],
                          [
                            0.7777777777777778,
                            "#fb9f3a"
                          ],
                          [
                            0.8888888888888888,
                            "#fdca26"
                          ],
                          [
                            1,
                            "#f0f921"
                          ]
                        ],
                        "type": "surface"
                      }
                    ],
                    "table": [
                      {
                        "cells": {
                          "fill": {
                            "color": "#EBF0F8"
                          },
                          "line": {
                            "color": "white"
                          }
                        },
                        "header": {
                          "fill": {
                            "color": "#C8D4E3"
                          },
                          "line": {
                            "color": "white"
                          }
                        },
                        "type": "table"
                      }
                    ]
                  },
                  "layout": {
                    "annotationdefaults": {
                      "arrowcolor": "#2a3f5f",
                      "arrowhead": 0,
                      "arrowwidth": 1
                    },
                    "autotypenumbers": "strict",
                    "coloraxis": {
                      "colorbar": {
                        "outlinewidth": 0,
                        "ticks": ""
                      }
                    },
                    "colorscale": {
                      "diverging": [
                        [
                          0,
                          "#8e0152"
                        ],
                        [
                          0.1,
                          "#c51b7d"
                        ],
                        [
                          0.2,
                          "#de77ae"
                        ],
                        [
                          0.3,
                          "#f1b6da"
                        ],
                        [
                          0.4,
                          "#fde0ef"
                        ],
                        [
                          0.5,
                          "#f7f7f7"
                        ],
                        [
                          0.6,
                          "#e6f5d0"
                        ],
                        [
                          0.7,
                          "#b8e186"
                        ],
                        [
                          0.8,
                          "#7fbc41"
                        ],
                        [
                          0.9,
                          "#4d9221"
                        ],
                        [
                          1,
                          "#276419"
                        ]
                      ],
                      "sequential": [
                        [
                          0,
                          "#0d0887"
                        ],
                        [
                          0.1111111111111111,
                          "#46039f"
                        ],
                        [
                          0.2222222222222222,
                          "#7201a8"
                        ],
                        [
                          0.3333333333333333,
                          "#9c179e"
                        ],
                        [
                          0.4444444444444444,
                          "#bd3786"
                        ],
                        [
                          0.5555555555555556,
                          "#d8576b"
                        ],
                        [
                          0.6666666666666666,
                          "#ed7953"
                        ],
                        [
                          0.7777777777777778,
                          "#fb9f3a"
                        ],
                        [
                          0.8888888888888888,
                          "#fdca26"
                        ],
                        [
                          1,
                          "#f0f921"
                        ]
                      ],
                      "sequentialminus": [
                        [
                          0,
                          "#0d0887"
                        ],
                        [
                          0.1111111111111111,
                          "#46039f"
                        ],
                        [
                          0.2222222222222222,
                          "#7201a8"
                        ],
                        [
                          0.3333333333333333,
                          "#9c179e"
                        ],
                        [
                          0.4444444444444444,
                          "#bd3786"
                        ],
                        [
                          0.5555555555555556,
                          "#d8576b"
                        ],
                        [
                          0.6666666666666666,
                          "#ed7953"
                        ],
                        [
                          0.7777777777777778,
                          "#fb9f3a"
                        ],
                        [
                          0.8888888888888888,
                          "#fdca26"
                        ],
                        [
                          1,
                          "#f0f921"
                        ]
                      ]
                    },
                    "colorway": [
                      "#636efa",
                      "#EF553B",
                      "#00cc96",
                      "#ab63fa",
                      "#FFA15A",
                      "#19d3f3",
                      "#FF6692",
                      "#B6E880",
                      "#FF97FF",
                      "#FECB52"
                    ],
                    "font": {
                      "color": "#2a3f5f"
                    },
                    "geo": {
                      "bgcolor": "white",
                      "lakecolor": "white",
                      "landcolor": "#E5ECF6",
                      "showlakes": true,
                      "showland": true,
                      "subunitcolor": "white"
                    },
                    "hoverlabel": {
                      "align": "left"
                    },
                    "hovermode": "closest",
                    "mapbox": {
                      "style": "light"
                    },
                    "paper_bgcolor": "white",
                    "plot_bgcolor": "#E5ECF6",
                    "polar": {
                      "angularaxis": {
                        "gridcolor": "white",
                        "linecolor": "white",
                        "ticks": ""
                      },
                      "bgcolor": "#E5ECF6",
                      "radialaxis": {
                        "gridcolor": "white",
                        "linecolor": "white",
                        "ticks": ""
                      }
                    },
                    "scene": {
                      "xaxis": {
                        "backgroundcolor": "#E5ECF6",
                        "gridcolor": "white",
                        "gridwidth": 2,
                        "linecolor": "white",
                        "showbackground": true,
                        "ticks": "",
                        "zerolinecolor": "white"
                      },
                      "yaxis": {
                        "backgroundcolor": "#E5ECF6",
                        "gridcolor": "white",
                        "gridwidth": 2,
                        "linecolor": "white",
                        "showbackground": true,
                        "ticks": "",
                        "zerolinecolor": "white"
                      },
                      "zaxis": {
                        "backgroundcolor": "#E5ECF6",
                        "gridcolor": "white",
                        "gridwidth": 2,
                        "linecolor": "white",
                        "showbackground": true,
                        "ticks": "",
                        "zerolinecolor": "white"
                      }
                    },
                    "shapedefaults": {
                      "line": {
                        "color": "#2a3f5f"
                      }
                    },
                    "ternary": {
                      "aaxis": {
                        "gridcolor": "white",
                        "linecolor": "white",
                        "ticks": ""
                      },
                      "baxis": {
                        "gridcolor": "white",
                        "linecolor": "white",
                        "ticks": ""
                      },
                      "bgcolor": "#E5ECF6",
                      "caxis": {
                        "gridcolor": "white",
                        "linecolor": "white",
                        "ticks": ""
                      }
                    },
                    "title": {
                      "x": 0.05
                    },
                    "xaxis": {
                      "automargin": true,
                      "gridcolor": "white",
                      "linecolor": "white",
                      "ticks": "",
                      "title": {
                        "standoff": 15
                      },
                      "zerolinecolor": "white",
                      "zerolinewidth": 2
                    },
                    "yaxis": {
                      "automargin": true,
                      "gridcolor": "white",
                      "linecolor": "white",
                      "ticks": "",
                      "title": {
                        "standoff": 15
                      },
                      "zerolinecolor": "white",
                      "zerolinewidth": 2
                    }
                  }
                },
                "title": {
                  "text": "Facilities and hospitals"
                },
                "xaxis": {
                  "range": [
                    0,
                    3
                  ],
                  "title": {
                    "text": "x"
                  }
                },
                "yaxis": {
                  "range": [
                    0,
                    3
                  ],
                  "title": {
                    "text": "y"
                  }
                }
              }
            }
          },
          "metadata": {},
          "output_type": "display_data"
        }
      ],
      "source": [
        "import plotly.express as px\n",
        "import plotly.graph_objects as go\n",
        "\n",
        "# Plot the problem configuration (facilities and customers)\n",
        "fig = go.Figure()\n",
        "fig.add_trace(go.Scatter(x=[x for x,y in facilities], y=[y for x,y in facilities], mode='markers', name='Facilities'))\n",
        "fig.add_trace(go.Scatter(x=[x for x,y in customers], y=[y for x,y in customers], mode='markers', name='Hospital'))\n",
        "# large circle around the facilities\n",
        "fig.add_trace(go.Scatter(x=[x for x,y in facilities], y=[y for x,y in facilities], mode='markers', name='Facilities', marker=dict(size=250, color='rgba(255, 0, 0, 0.2)')))\n",
        "fig.update_layout(title='Facilities and hospitals', xaxis_title='x', yaxis_title='y')\n",
        "# set plot limits\n",
        "fig.update_xaxes(range=[0, 3])\n",
        "fig.update_yaxes(range=[0, 3])\n",
        "fig.show()"
      ]
    },
    {
      "cell_type": "markdown",
      "metadata": {
        "id": "Gf6-u3fjsVtL"
      },
      "source": [
        "### Preprocesamiento\n",
        "Definimos una función que determina la distancia euclidiana entre cada instalación y los sitios de los clientes. Además, calculamos los parámetros clave requeridos por la formulación del modelo MIP del problema de ubicación de la instalación."
      ]
    },
    {
      "cell_type": "code",
      "execution_count": 37,
      "metadata": {
        "id": "bT-veB7csVtL"
      },
      "outputs": [],
      "source": [
        "\n",
        "# computamos algunos parámetros auxiliares que se necesitán para construir el modelo MIP\n",
        "\n",
        "# set de clientes y bodegas\n",
        "I = set(range(len(customers)))\n",
        "J = set(range(len(facilities)))\n",
        "cartesian_prod = list(product( I,J))\n",
        "\n",
        "# Computamos los costos de envío\n",
        "\n",
        "beta = {(c,f): 1 if compute_distance(customers[c], facilities[f]) <= max_distance else 0 for c, f in cartesian_prod}\n",
        "\n"
      ]
    },
    {
      "cell_type": "markdown",
      "metadata": {
        "id": "wPS5DPggsVtM"
      },
      "source": [
        "## Despliegue del modelo\n",
        "\n",
        "Ahora definimos el modelo MIP para el problema de ubicación de instalaciones, mediante la definición de las variables de decisión, restricciones y función objetivo. A continuación, iniciamos el proceso de optimización y Gurobi encuentra el plan para construir instalaciones que minimiza los costos totales."
      ]
    },
    {
      "cell_type": "code",
      "execution_count": 45,
      "metadata": {
        "id": "y35bIH_asVtM",
        "scrolled": true
      },
      "outputs": [],
      "source": [
        "import pulp as plp\n",
        "from itertools import product\n",
        "\n",
        "# MIP model formulation\n",
        "m = plp.LpProblem('ambulance_location', plp.LpMaximize)\n"
      ]
    },
    {
      "cell_type": "markdown",
      "metadata": {
        "id": "VZY2jLSmsVtM"
      },
      "source": [
        "### Definir las variables del modelo"
      ]
    },
    {
      "cell_type": "code",
      "execution_count": 46,
      "metadata": {
        "id": "XlJ9wcvvsVtM"
      },
      "outputs": [],
      "source": [
        "# Decisión binaria indicando que una ubicaciónn es seleccionada\n",
        "y = plp.LpVariable.dicts('Select', J, lowBound=0, upBound=1, cat='Binary')\n",
        "\n",
        "# El barrio es cubierto por una ambulancia\n",
        "x = plp.LpVariable.dicts('covered', I, lowBound=0, upBound=1, cat='Binary')"
      ]
    },
    {
      "attachments": {},
      "cell_type": "markdown",
      "metadata": {
        "id": "dXvAh0otsVtN"
      },
      "source": [
        "Establezca una restricción que asegure que un barrio solo se considera cubierto si hay una ambulancia en una ubicación cercana"
      ]
    },
    {
      "cell_type": "code",
      "execution_count": 47,
      "metadata": {
        "id": "HufiQgA-sVtN"
      },
      "outputs": [],
      "source": [
        "for i in I:    \n",
        "     m+=x[i]<=plp.lpSum([y[j]*beta[i,j] for j in J])\n"
      ]
    },
    {
      "attachments": {},
      "cell_type": "markdown",
      "metadata": {
        "id": "oC53-u4ssVtN"
      },
      "source": [
        "Escriba una restricción que garantice que no se asignan más ambulancias de las que se tienen disponibles."
      ]
    },
    {
      "cell_type": "code",
      "execution_count": 48,
      "metadata": {
        "id": "DB0YAm_bsVtN"
      },
      "outputs": [],
      "source": [
        "m+=plp.lpSum([y[j] for j in J])<=num_ambulances"
      ]
    },
    {
      "attachments": {},
      "cell_type": "markdown",
      "metadata": {
        "id": "VkgRug-OsVtN"
      },
      "source": [
        "Escriba la función objetivo del problema:\n",
        "\n",
        "Maximizar el número de barrios cubiertos con las ambulancias disponibles."
      ]
    },
    {
      "cell_type": "code",
      "execution_count": 49,
      "metadata": {
        "id": "3FsCJImnsVtO",
        "outputId": "532b0634-3e87-4d1f-bcf2-6285978d4968"
      },
      "outputs": [],
      "source": [
        "m += plp.lpSum([x[i] for i in I])\n",
        "               \n"
      ]
    },
    {
      "cell_type": "markdown",
      "metadata": {
        "id": "PvqWoAwMsVtO"
      },
      "source": [
        "Resuelva el problema "
      ]
    },
    {
      "cell_type": "code",
      "execution_count": 50,
      "metadata": {
        "id": "-XZe1IpasVtO",
        "outputId": "21d7d719-4ca7-44af-9115-1b26ae308c50"
      },
      "outputs": [
        {
          "name": "stdout",
          "output_type": "stream",
          "text": [
            "Welcome to the CBC MILP Solver \n",
            "Version: 2.10.3 \n",
            "Build Date: Dec 15 2019 \n",
            "\n",
            "command line - /Users/user/opt/anaconda3/envs/apricot-env/lib/python3.9/site-packages/pulp/solverdir/cbc/osx/64/cbc /var/folders/xc/t5gbnt3n5sq5bkg65xw9f1g00000gn/T/4ed89e72951c4ba2ade3a0d18360b47f-pulp.mps max timeMode elapsed branch printingOptions all solution /var/folders/xc/t5gbnt3n5sq5bkg65xw9f1g00000gn/T/4ed89e72951c4ba2ade3a0d18360b47f-pulp.sol (default strategy 1)\n",
            "At line 2 NAME          MODEL\n",
            "At line 3 ROWS\n",
            "At line 106 COLUMNS\n",
            "At line 1446 RHS\n",
            "At line 1548 BOUNDS\n",
            "At line 1669 ENDATA\n",
            "Problem MODEL has 101 rows, 120 columns and 999 elements\n",
            "Coin0008I MODEL read with 0 errors\n",
            "Option for timeMode changed from cpu to elapsed\n",
            "Continuous objective value is 100 - 0.00 seconds\n",
            "Cgl0004I processed model has 101 rows, 120 columns (120 integer (120 of which binary)) and 999 elements\n",
            "Cutoff increment increased from 1e-05 to 0.9999\n",
            "Cbc0038I Initial state - 0 integers unsatisfied sum - 0\n",
            "Cbc0038I Solution found of -100\n",
            "Cbc0038I Before mini branch and bound, 120 integers at bound fixed and 0 continuous\n",
            "Cbc0038I Mini branch and bound did not improve solution (0.01 seconds)\n",
            "Cbc0038I After 0.01 seconds - Feasibility pump exiting with objective of -100 - took 0.00 seconds\n",
            "Cbc0012I Integer solution of -100 found by feasibility pump after 0 iterations and 0 nodes (0.01 seconds)\n",
            "Cbc0001I Search completed - best objective -100, took 0 iterations and 0 nodes (0.01 seconds)\n",
            "Cbc0035I Maximum depth 0, 0 variables fixed on reduced cost\n",
            "Cuts at root node changed objective from -100 to -100\n",
            "Probing was tried 0 times and created 0 cuts of which 0 were active after adding rounds of cuts (0.000 seconds)\n",
            "Gomory was tried 0 times and created 0 cuts of which 0 were active after adding rounds of cuts (0.000 seconds)\n",
            "Knapsack was tried 0 times and created 0 cuts of which 0 were active after adding rounds of cuts (0.000 seconds)\n",
            "Clique was tried 0 times and created 0 cuts of which 0 were active after adding rounds of cuts (0.000 seconds)\n",
            "MixedIntegerRounding2 was tried 0 times and created 0 cuts of which 0 were active after adding rounds of cuts (0.000 seconds)\n",
            "FlowCover was tried 0 times and created 0 cuts of which 0 were active after adding rounds of cuts (0.000 seconds)\n",
            "TwoMirCuts was tried 0 times and created 0 cuts of which 0 were active after adding rounds of cuts (0.000 seconds)\n",
            "ZeroHalf was tried 0 times and created 0 cuts of which 0 were active after adding rounds of cuts (0.000 seconds)\n",
            "\n",
            "Result - Optimal solution found\n",
            "\n",
            "Objective value:                100.00000000\n",
            "Enumerated nodes:               0\n",
            "Total iterations:               0\n",
            "Time (CPU seconds):             0.01\n",
            "Time (Wallclock seconds):       0.01\n",
            "\n",
            "Option for printingOptions changed from normal to all\n",
            "Total time (CPU seconds):       0.01   (Wallclock seconds):       0.01\n",
            "\n"
          ]
        },
        {
          "data": {
            "text/plain": [
              "1"
            ]
          },
          "execution_count": 50,
          "metadata": {},
          "output_type": "execute_result"
        }
      ],
      "source": [
        "m.solve()"
      ]
    },
    {
      "cell_type": "markdown",
      "metadata": {
        "id": "RJEegSIjsVtO"
      },
      "source": [
        "Modifique la función objetivo del problema."
      ]
    },
    {
      "attachments": {},
      "cell_type": "markdown",
      "metadata": {
        "id": "OpsaN4FRsVtP"
      },
      "source": [
        "## Análisis\n",
        "El resultado del modelo de optimización muestra que el valor mínimo del costo total es de 4.72 millones de USD. Veamos la solución que logra ese resultado óptimo.\n",
        "\n",
        "## Plan de construcción de almacenes\n",
        "Este plan determina en qué ubicaciones de sitios construir un almacén."
      ]
    },
    {
      "cell_type": "code",
      "execution_count": 54,
      "metadata": {
        "id": "Ym8zxTqWsVtP"
      },
      "outputs": [
        {
          "name": "stdout",
          "output_type": "stream",
          "text": [
            "Select_1 = 1.0\n",
            "Select_2 = 1.0\n",
            "Select_13 = 1.0\n",
            "Select_16 = 1.0\n"
          ]
        }
      ],
      "source": [
        "# display optimal values of decision variables using pulp notation\n",
        "\n",
        "for j in J:\n",
        "    if y[j].varValue > 0.5:\n",
        "        print(y[j].name, \"=\", y[j].varValue)"
      ]
    },
    {
      "cell_type": "code",
      "execution_count": 63,
      "metadata": {
        "id": "tlwzpgnzsVtP",
        "outputId": "02b18975-ba7a-4bca-e197-604d81207090"
      },
      "outputs": [
        {
          "data": {
            "application/vnd.plotly.v1+json": {
              "config": {
                "plotlyServerURL": "https://plot.ly"
              },
              "data": [
                {
                  "mode": "markers",
                  "name": "Facilities",
                  "type": "scatter",
                  "x": [
                    0.18,
                    0.6,
                    1.23,
                    0.63,
                    1.71,
                    0.24,
                    1.2,
                    0.42,
                    0.09,
                    1.62,
                    2.46,
                    1.83,
                    0.78,
                    2.76,
                    0.48,
                    1.86,
                    1.59,
                    2.04,
                    0.54,
                    0.06
                  ],
                  "y": [
                    1.02,
                    2.85,
                    0.84,
                    1.5,
                    1.74,
                    0.03,
                    2.28,
                    2.13,
                    2.49,
                    2.64,
                    0.39,
                    0.09,
                    1.68,
                    0.87,
                    1.86,
                    0.63,
                    2.7,
                    1.44,
                    1.89,
                    2.94
                  ]
                },
                {
                  "mode": "markers",
                  "name": "Hospitals",
                  "type": "scatter",
                  "x": [
                    0,
                    0,
                    0,
                    0,
                    0,
                    0,
                    0,
                    0,
                    0,
                    0,
                    0.3333333333333333,
                    0.3333333333333333,
                    0.3333333333333333,
                    0.3333333333333333,
                    0.3333333333333333,
                    0.3333333333333333,
                    0.3333333333333333,
                    0.3333333333333333,
                    0.3333333333333333,
                    0.3333333333333333,
                    0.6666666666666666,
                    0.6666666666666666,
                    0.6666666666666666,
                    0.6666666666666666,
                    0.6666666666666666,
                    0.6666666666666666,
                    0.6666666666666666,
                    0.6666666666666666,
                    0.6666666666666666,
                    0.6666666666666666,
                    1,
                    1,
                    1,
                    1,
                    1,
                    1,
                    1,
                    1,
                    1,
                    1,
                    1.3333333333333333,
                    1.3333333333333333,
                    1.3333333333333333,
                    1.3333333333333333,
                    1.3333333333333333,
                    1.3333333333333333,
                    1.3333333333333333,
                    1.3333333333333333,
                    1.3333333333333333,
                    1.3333333333333333,
                    1.6666666666666665,
                    1.6666666666666665,
                    1.6666666666666665,
                    1.6666666666666665,
                    1.6666666666666665,
                    1.6666666666666665,
                    1.6666666666666665,
                    1.6666666666666665,
                    1.6666666666666665,
                    1.6666666666666665,
                    2,
                    2,
                    2,
                    2,
                    2,
                    2,
                    2,
                    2,
                    2,
                    2,
                    2.333333333333333,
                    2.333333333333333,
                    2.333333333333333,
                    2.333333333333333,
                    2.333333333333333,
                    2.333333333333333,
                    2.333333333333333,
                    2.333333333333333,
                    2.333333333333333,
                    2.333333333333333,
                    2.6666666666666665,
                    2.6666666666666665,
                    2.6666666666666665,
                    2.6666666666666665,
                    2.6666666666666665,
                    2.6666666666666665,
                    2.6666666666666665,
                    2.6666666666666665,
                    2.6666666666666665,
                    2.6666666666666665,
                    3,
                    3,
                    3,
                    3,
                    3,
                    3,
                    3,
                    3,
                    3,
                    3
                  ],
                  "y": [
                    0,
                    0.3333333333333333,
                    0.6666666666666666,
                    1,
                    1.3333333333333333,
                    1.6666666666666665,
                    2,
                    2.333333333333333,
                    2.6666666666666665,
                    3,
                    0,
                    0.3333333333333333,
                    0.6666666666666666,
                    1,
                    1.3333333333333333,
                    1.6666666666666665,
                    2,
                    2.333333333333333,
                    2.6666666666666665,
                    3,
                    0,
                    0.3333333333333333,
                    0.6666666666666666,
                    1,
                    1.3333333333333333,
                    1.6666666666666665,
                    2,
                    2.333333333333333,
                    2.6666666666666665,
                    3,
                    0,
                    0.3333333333333333,
                    0.6666666666666666,
                    1,
                    1.3333333333333333,
                    1.6666666666666665,
                    2,
                    2.333333333333333,
                    2.6666666666666665,
                    3,
                    0,
                    0.3333333333333333,
                    0.6666666666666666,
                    1,
                    1.3333333333333333,
                    1.6666666666666665,
                    2,
                    2.333333333333333,
                    2.6666666666666665,
                    3,
                    0,
                    0.3333333333333333,
                    0.6666666666666666,
                    1,
                    1.3333333333333333,
                    1.6666666666666665,
                    2,
                    2.333333333333333,
                    2.6666666666666665,
                    3,
                    0,
                    0.3333333333333333,
                    0.6666666666666666,
                    1,
                    1.3333333333333333,
                    1.6666666666666665,
                    2,
                    2.333333333333333,
                    2.6666666666666665,
                    3,
                    0,
                    0.3333333333333333,
                    0.6666666666666666,
                    1,
                    1.3333333333333333,
                    1.6666666666666665,
                    2,
                    2.333333333333333,
                    2.6666666666666665,
                    3,
                    0,
                    0.3333333333333333,
                    0.6666666666666666,
                    1,
                    1.3333333333333333,
                    1.6666666666666665,
                    2,
                    2.333333333333333,
                    2.6666666666666665,
                    3,
                    0,
                    0.3333333333333333,
                    0.6666666666666666,
                    1,
                    1.3333333333333333,
                    1.6666666666666665,
                    2,
                    2.333333333333333,
                    2.6666666666666665,
                    3
                  ]
                },
                {
                  "marker": {
                    "color": "rgba(255, 0, 0, 0.2)",
                    "size": 250
                  },
                  "mode": "markers",
                  "name": "Selected facilities",
                  "type": "scatter",
                  "x": [
                    0.6,
                    1.23,
                    2.76,
                    1.59
                  ],
                  "y": [
                    2.85,
                    0.84,
                    0.87,
                    2.7
                  ]
                }
              ],
              "layout": {
                "template": {
                  "data": {
                    "bar": [
                      {
                        "error_x": {
                          "color": "#2a3f5f"
                        },
                        "error_y": {
                          "color": "#2a3f5f"
                        },
                        "marker": {
                          "line": {
                            "color": "#E5ECF6",
                            "width": 0.5
                          },
                          "pattern": {
                            "fillmode": "overlay",
                            "size": 10,
                            "solidity": 0.2
                          }
                        },
                        "type": "bar"
                      }
                    ],
                    "barpolar": [
                      {
                        "marker": {
                          "line": {
                            "color": "#E5ECF6",
                            "width": 0.5
                          },
                          "pattern": {
                            "fillmode": "overlay",
                            "size": 10,
                            "solidity": 0.2
                          }
                        },
                        "type": "barpolar"
                      }
                    ],
                    "carpet": [
                      {
                        "aaxis": {
                          "endlinecolor": "#2a3f5f",
                          "gridcolor": "white",
                          "linecolor": "white",
                          "minorgridcolor": "white",
                          "startlinecolor": "#2a3f5f"
                        },
                        "baxis": {
                          "endlinecolor": "#2a3f5f",
                          "gridcolor": "white",
                          "linecolor": "white",
                          "minorgridcolor": "white",
                          "startlinecolor": "#2a3f5f"
                        },
                        "type": "carpet"
                      }
                    ],
                    "choropleth": [
                      {
                        "colorbar": {
                          "outlinewidth": 0,
                          "ticks": ""
                        },
                        "type": "choropleth"
                      }
                    ],
                    "contour": [
                      {
                        "colorbar": {
                          "outlinewidth": 0,
                          "ticks": ""
                        },
                        "colorscale": [
                          [
                            0,
                            "#0d0887"
                          ],
                          [
                            0.1111111111111111,
                            "#46039f"
                          ],
                          [
                            0.2222222222222222,
                            "#7201a8"
                          ],
                          [
                            0.3333333333333333,
                            "#9c179e"
                          ],
                          [
                            0.4444444444444444,
                            "#bd3786"
                          ],
                          [
                            0.5555555555555556,
                            "#d8576b"
                          ],
                          [
                            0.6666666666666666,
                            "#ed7953"
                          ],
                          [
                            0.7777777777777778,
                            "#fb9f3a"
                          ],
                          [
                            0.8888888888888888,
                            "#fdca26"
                          ],
                          [
                            1,
                            "#f0f921"
                          ]
                        ],
                        "type": "contour"
                      }
                    ],
                    "contourcarpet": [
                      {
                        "colorbar": {
                          "outlinewidth": 0,
                          "ticks": ""
                        },
                        "type": "contourcarpet"
                      }
                    ],
                    "heatmap": [
                      {
                        "colorbar": {
                          "outlinewidth": 0,
                          "ticks": ""
                        },
                        "colorscale": [
                          [
                            0,
                            "#0d0887"
                          ],
                          [
                            0.1111111111111111,
                            "#46039f"
                          ],
                          [
                            0.2222222222222222,
                            "#7201a8"
                          ],
                          [
                            0.3333333333333333,
                            "#9c179e"
                          ],
                          [
                            0.4444444444444444,
                            "#bd3786"
                          ],
                          [
                            0.5555555555555556,
                            "#d8576b"
                          ],
                          [
                            0.6666666666666666,
                            "#ed7953"
                          ],
                          [
                            0.7777777777777778,
                            "#fb9f3a"
                          ],
                          [
                            0.8888888888888888,
                            "#fdca26"
                          ],
                          [
                            1,
                            "#f0f921"
                          ]
                        ],
                        "type": "heatmap"
                      }
                    ],
                    "heatmapgl": [
                      {
                        "colorbar": {
                          "outlinewidth": 0,
                          "ticks": ""
                        },
                        "colorscale": [
                          [
                            0,
                            "#0d0887"
                          ],
                          [
                            0.1111111111111111,
                            "#46039f"
                          ],
                          [
                            0.2222222222222222,
                            "#7201a8"
                          ],
                          [
                            0.3333333333333333,
                            "#9c179e"
                          ],
                          [
                            0.4444444444444444,
                            "#bd3786"
                          ],
                          [
                            0.5555555555555556,
                            "#d8576b"
                          ],
                          [
                            0.6666666666666666,
                            "#ed7953"
                          ],
                          [
                            0.7777777777777778,
                            "#fb9f3a"
                          ],
                          [
                            0.8888888888888888,
                            "#fdca26"
                          ],
                          [
                            1,
                            "#f0f921"
                          ]
                        ],
                        "type": "heatmapgl"
                      }
                    ],
                    "histogram": [
                      {
                        "marker": {
                          "pattern": {
                            "fillmode": "overlay",
                            "size": 10,
                            "solidity": 0.2
                          }
                        },
                        "type": "histogram"
                      }
                    ],
                    "histogram2d": [
                      {
                        "colorbar": {
                          "outlinewidth": 0,
                          "ticks": ""
                        },
                        "colorscale": [
                          [
                            0,
                            "#0d0887"
                          ],
                          [
                            0.1111111111111111,
                            "#46039f"
                          ],
                          [
                            0.2222222222222222,
                            "#7201a8"
                          ],
                          [
                            0.3333333333333333,
                            "#9c179e"
                          ],
                          [
                            0.4444444444444444,
                            "#bd3786"
                          ],
                          [
                            0.5555555555555556,
                            "#d8576b"
                          ],
                          [
                            0.6666666666666666,
                            "#ed7953"
                          ],
                          [
                            0.7777777777777778,
                            "#fb9f3a"
                          ],
                          [
                            0.8888888888888888,
                            "#fdca26"
                          ],
                          [
                            1,
                            "#f0f921"
                          ]
                        ],
                        "type": "histogram2d"
                      }
                    ],
                    "histogram2dcontour": [
                      {
                        "colorbar": {
                          "outlinewidth": 0,
                          "ticks": ""
                        },
                        "colorscale": [
                          [
                            0,
                            "#0d0887"
                          ],
                          [
                            0.1111111111111111,
                            "#46039f"
                          ],
                          [
                            0.2222222222222222,
                            "#7201a8"
                          ],
                          [
                            0.3333333333333333,
                            "#9c179e"
                          ],
                          [
                            0.4444444444444444,
                            "#bd3786"
                          ],
                          [
                            0.5555555555555556,
                            "#d8576b"
                          ],
                          [
                            0.6666666666666666,
                            "#ed7953"
                          ],
                          [
                            0.7777777777777778,
                            "#fb9f3a"
                          ],
                          [
                            0.8888888888888888,
                            "#fdca26"
                          ],
                          [
                            1,
                            "#f0f921"
                          ]
                        ],
                        "type": "histogram2dcontour"
                      }
                    ],
                    "mesh3d": [
                      {
                        "colorbar": {
                          "outlinewidth": 0,
                          "ticks": ""
                        },
                        "type": "mesh3d"
                      }
                    ],
                    "parcoords": [
                      {
                        "line": {
                          "colorbar": {
                            "outlinewidth": 0,
                            "ticks": ""
                          }
                        },
                        "type": "parcoords"
                      }
                    ],
                    "pie": [
                      {
                        "automargin": true,
                        "type": "pie"
                      }
                    ],
                    "scatter": [
                      {
                        "fillpattern": {
                          "fillmode": "overlay",
                          "size": 10,
                          "solidity": 0.2
                        },
                        "type": "scatter"
                      }
                    ],
                    "scatter3d": [
                      {
                        "line": {
                          "colorbar": {
                            "outlinewidth": 0,
                            "ticks": ""
                          }
                        },
                        "marker": {
                          "colorbar": {
                            "outlinewidth": 0,
                            "ticks": ""
                          }
                        },
                        "type": "scatter3d"
                      }
                    ],
                    "scattercarpet": [
                      {
                        "marker": {
                          "colorbar": {
                            "outlinewidth": 0,
                            "ticks": ""
                          }
                        },
                        "type": "scattercarpet"
                      }
                    ],
                    "scattergeo": [
                      {
                        "marker": {
                          "colorbar": {
                            "outlinewidth": 0,
                            "ticks": ""
                          }
                        },
                        "type": "scattergeo"
                      }
                    ],
                    "scattergl": [
                      {
                        "marker": {
                          "colorbar": {
                            "outlinewidth": 0,
                            "ticks": ""
                          }
                        },
                        "type": "scattergl"
                      }
                    ],
                    "scattermapbox": [
                      {
                        "marker": {
                          "colorbar": {
                            "outlinewidth": 0,
                            "ticks": ""
                          }
                        },
                        "type": "scattermapbox"
                      }
                    ],
                    "scatterpolar": [
                      {
                        "marker": {
                          "colorbar": {
                            "outlinewidth": 0,
                            "ticks": ""
                          }
                        },
                        "type": "scatterpolar"
                      }
                    ],
                    "scatterpolargl": [
                      {
                        "marker": {
                          "colorbar": {
                            "outlinewidth": 0,
                            "ticks": ""
                          }
                        },
                        "type": "scatterpolargl"
                      }
                    ],
                    "scatterternary": [
                      {
                        "marker": {
                          "colorbar": {
                            "outlinewidth": 0,
                            "ticks": ""
                          }
                        },
                        "type": "scatterternary"
                      }
                    ],
                    "surface": [
                      {
                        "colorbar": {
                          "outlinewidth": 0,
                          "ticks": ""
                        },
                        "colorscale": [
                          [
                            0,
                            "#0d0887"
                          ],
                          [
                            0.1111111111111111,
                            "#46039f"
                          ],
                          [
                            0.2222222222222222,
                            "#7201a8"
                          ],
                          [
                            0.3333333333333333,
                            "#9c179e"
                          ],
                          [
                            0.4444444444444444,
                            "#bd3786"
                          ],
                          [
                            0.5555555555555556,
                            "#d8576b"
                          ],
                          [
                            0.6666666666666666,
                            "#ed7953"
                          ],
                          [
                            0.7777777777777778,
                            "#fb9f3a"
                          ],
                          [
                            0.8888888888888888,
                            "#fdca26"
                          ],
                          [
                            1,
                            "#f0f921"
                          ]
                        ],
                        "type": "surface"
                      }
                    ],
                    "table": [
                      {
                        "cells": {
                          "fill": {
                            "color": "#EBF0F8"
                          },
                          "line": {
                            "color": "white"
                          }
                        },
                        "header": {
                          "fill": {
                            "color": "#C8D4E3"
                          },
                          "line": {
                            "color": "white"
                          }
                        },
                        "type": "table"
                      }
                    ]
                  },
                  "layout": {
                    "annotationdefaults": {
                      "arrowcolor": "#2a3f5f",
                      "arrowhead": 0,
                      "arrowwidth": 1
                    },
                    "autotypenumbers": "strict",
                    "coloraxis": {
                      "colorbar": {
                        "outlinewidth": 0,
                        "ticks": ""
                      }
                    },
                    "colorscale": {
                      "diverging": [
                        [
                          0,
                          "#8e0152"
                        ],
                        [
                          0.1,
                          "#c51b7d"
                        ],
                        [
                          0.2,
                          "#de77ae"
                        ],
                        [
                          0.3,
                          "#f1b6da"
                        ],
                        [
                          0.4,
                          "#fde0ef"
                        ],
                        [
                          0.5,
                          "#f7f7f7"
                        ],
                        [
                          0.6,
                          "#e6f5d0"
                        ],
                        [
                          0.7,
                          "#b8e186"
                        ],
                        [
                          0.8,
                          "#7fbc41"
                        ],
                        [
                          0.9,
                          "#4d9221"
                        ],
                        [
                          1,
                          "#276419"
                        ]
                      ],
                      "sequential": [
                        [
                          0,
                          "#0d0887"
                        ],
                        [
                          0.1111111111111111,
                          "#46039f"
                        ],
                        [
                          0.2222222222222222,
                          "#7201a8"
                        ],
                        [
                          0.3333333333333333,
                          "#9c179e"
                        ],
                        [
                          0.4444444444444444,
                          "#bd3786"
                        ],
                        [
                          0.5555555555555556,
                          "#d8576b"
                        ],
                        [
                          0.6666666666666666,
                          "#ed7953"
                        ],
                        [
                          0.7777777777777778,
                          "#fb9f3a"
                        ],
                        [
                          0.8888888888888888,
                          "#fdca26"
                        ],
                        [
                          1,
                          "#f0f921"
                        ]
                      ],
                      "sequentialminus": [
                        [
                          0,
                          "#0d0887"
                        ],
                        [
                          0.1111111111111111,
                          "#46039f"
                        ],
                        [
                          0.2222222222222222,
                          "#7201a8"
                        ],
                        [
                          0.3333333333333333,
                          "#9c179e"
                        ],
                        [
                          0.4444444444444444,
                          "#bd3786"
                        ],
                        [
                          0.5555555555555556,
                          "#d8576b"
                        ],
                        [
                          0.6666666666666666,
                          "#ed7953"
                        ],
                        [
                          0.7777777777777778,
                          "#fb9f3a"
                        ],
                        [
                          0.8888888888888888,
                          "#fdca26"
                        ],
                        [
                          1,
                          "#f0f921"
                        ]
                      ]
                    },
                    "colorway": [
                      "#636efa",
                      "#EF553B",
                      "#00cc96",
                      "#ab63fa",
                      "#FFA15A",
                      "#19d3f3",
                      "#FF6692",
                      "#B6E880",
                      "#FF97FF",
                      "#FECB52"
                    ],
                    "font": {
                      "color": "#2a3f5f"
                    },
                    "geo": {
                      "bgcolor": "white",
                      "lakecolor": "white",
                      "landcolor": "#E5ECF6",
                      "showlakes": true,
                      "showland": true,
                      "subunitcolor": "white"
                    },
                    "hoverlabel": {
                      "align": "left"
                    },
                    "hovermode": "closest",
                    "mapbox": {
                      "style": "light"
                    },
                    "paper_bgcolor": "white",
                    "plot_bgcolor": "#E5ECF6",
                    "polar": {
                      "angularaxis": {
                        "gridcolor": "white",
                        "linecolor": "white",
                        "ticks": ""
                      },
                      "bgcolor": "#E5ECF6",
                      "radialaxis": {
                        "gridcolor": "white",
                        "linecolor": "white",
                        "ticks": ""
                      }
                    },
                    "scene": {
                      "xaxis": {
                        "backgroundcolor": "#E5ECF6",
                        "gridcolor": "white",
                        "gridwidth": 2,
                        "linecolor": "white",
                        "showbackground": true,
                        "ticks": "",
                        "zerolinecolor": "white"
                      },
                      "yaxis": {
                        "backgroundcolor": "#E5ECF6",
                        "gridcolor": "white",
                        "gridwidth": 2,
                        "linecolor": "white",
                        "showbackground": true,
                        "ticks": "",
                        "zerolinecolor": "white"
                      },
                      "zaxis": {
                        "backgroundcolor": "#E5ECF6",
                        "gridcolor": "white",
                        "gridwidth": 2,
                        "linecolor": "white",
                        "showbackground": true,
                        "ticks": "",
                        "zerolinecolor": "white"
                      }
                    },
                    "shapedefaults": {
                      "line": {
                        "color": "#2a3f5f"
                      }
                    },
                    "ternary": {
                      "aaxis": {
                        "gridcolor": "white",
                        "linecolor": "white",
                        "ticks": ""
                      },
                      "baxis": {
                        "gridcolor": "white",
                        "linecolor": "white",
                        "ticks": ""
                      },
                      "bgcolor": "#E5ECF6",
                      "caxis": {
                        "gridcolor": "white",
                        "linecolor": "white",
                        "ticks": ""
                      }
                    },
                    "title": {
                      "x": 0.05
                    },
                    "xaxis": {
                      "automargin": true,
                      "gridcolor": "white",
                      "linecolor": "white",
                      "ticks": "",
                      "title": {
                        "standoff": 15
                      },
                      "zerolinecolor": "white",
                      "zerolinewidth": 2
                    },
                    "yaxis": {
                      "automargin": true,
                      "gridcolor": "white",
                      "linecolor": "white",
                      "ticks": "",
                      "title": {
                        "standoff": 15
                      },
                      "zerolinecolor": "white",
                      "zerolinewidth": 2
                    }
                  }
                },
                "title": {
                  "text": "Facilities and hospitals"
                },
                "xaxis": {
                  "range": [
                    0,
                    3
                  ],
                  "title": {
                    "text": "x"
                  }
                },
                "yaxis": {
                  "range": [
                    0,
                    3
                  ],
                  "title": {
                    "text": "y"
                  }
                }
              }
            }
          },
          "metadata": {},
          "output_type": "display_data"
        }
      ],
      "source": [
        "# Depict the optimal solution in plotly figure, use lines to depict  allocation of customers to facilities\n",
        "\n",
        "fig = go.Figure()\n",
        "fig.add_trace(go.Scatter(x=[x for x,y in facilities], y=[y for x,y in facilities], mode='markers', name='Facilities'))\n",
        "fig.add_trace(go.Scatter(x=[x for x,y in customers], y=[y for x,y in customers], mode='markers', name='Hospitals'))\n",
        "\n",
        "selected_facilities = [facilities[j] for j in J if y[j].varValue > 0.5]\n",
        "\n",
        "# set marker size with a fixed value in the same scale as the plot\n",
        "\n",
        "fig.add_trace(go.Scatter(x=[x for x,y in selected_facilities], y=[y for x,y in selected_facilities], mode='markers', name='Selected facilities', marker=dict(size=250, color='rgba(255, 0, 0, 0.2)')))\n",
        "fig.update_layout(title='Facilities and hospitals', xaxis_title='x', yaxis_title='y')\n",
        "# set plot limits\n",
        "fig.update_xaxes(range=[0, 3])\n",
        "fig.update_yaxes(range=[0, 3])\n",
        "fig.show()"
      ]
    },
    {
      "cell_type": "markdown",
      "metadata": {
        "id": "2_TPnpucsVtP"
      },
      "source": [
        "### Plan de Envío\n",
        "Este plan determina el porcentaje de envíos que se enviarán desde cada instalación construida a cada cliente."
      ]
    },
    {
      "cell_type": "code",
      "execution_count": 66,
      "metadata": {
        "id": "IyIis9dHsVtQ",
        "outputId": "a74205ab-47fa-4d40-daa5-f9c9bedbf3fb"
      },
      "outputs": [
        {
          "name": "stdout",
          "output_type": "stream",
          "text": [
            "Facility 1 serves customers:\n",
            "[5, 6, 7, 8, 9, 15, 16, 17, 18, 19, 25, 26, 27, 28, 29, 35, 36, 37, 38, 39, 45, 46, 47, 48, 49, 56, 57, 58, 59, 67, 68, 69]\n",
            "Facility 2 serves customers:\n",
            "[0, 1, 2, 3, 4, 5, 10, 11, 12, 13, 14, 15, 16, 20, 21, 22, 23, 24, 25, 26, 30, 31, 32, 33, 34, 35, 36, 40, 41, 42, 43, 44, 45, 46, 47, 50, 51, 52, 53, 54, 55, 56, 60, 61, 62, 63, 64, 65, 66, 70, 71, 72, 73, 74, 75, 82, 83]\n",
            "Facility 13 serves customers:\n",
            "[42, 43, 50, 51, 52, 53, 54, 55, 60, 61, 62, 63, 64, 65, 66, 70, 71, 72, 73, 74, 75, 76, 80, 81, 82, 83, 84, 85, 86, 87, 90, 91, 92, 93, 94, 95, 96, 97]\n",
            "Facility 16 serves customers:\n",
            "[16, 17, 18, 19, 25, 26, 27, 28, 29, 34, 35, 36, 37, 38, 39, 44, 45, 46, 47, 48, 49, 54, 55, 56, 57, 58, 59, 64, 65, 66, 67, 68, 69, 75, 76, 77, 78, 79, 85, 86, 87, 88, 89, 97, 98, 99]\n"
          ]
        }
      ],
      "source": [
        "# Shipments from facilities to customers.\n",
        "\n",
        "for j in J:\n",
        "    if (abs(y[j].varValue) > 1e-6):\n",
        "        print('Facility', j, 'serves customers:')\n",
        "        print([i for i in I if (abs(beta[i,j]) ==1)])\n",
        "\n"
      ]
    },
    {
      "attachments": {},
      "cell_type": "markdown",
      "metadata": {
        "id": "0s2f2aHLsVtQ"
      },
      "source": [
        "##  Conclusión\n",
        "En este ejemplo, abordamos un problema de ubicación de ambulancias en el que deseamos satisfacer la demanda la mayor cantidad posible de barrios sin sobrepasar la cantidad de ambulancias disponibles. Aprendimos cómo formular el problema como un modelo MIP. \n",
        "\n",
        "También aprendimos cómo implementar la formulación del modelo MIP y resolverlo utilizando la API de Python de Cbc Solver. "
      ]
    },
    {
      "cell_type": "markdown",
      "metadata": {
        "id": "eEeB4VLAsVtQ"
      },
      "source": [
        "##  Referencias\n",
        "[1] Laporte, Gilbert, Stefan Nickel, and Saldanha da Gama, Francisco. Location Science. Springer, 2015."
      ]
    }
  ],
  "metadata": {
    "colab": {
      "include_colab_link": true,
      "provenance": []
    },
    "kernelspec": {
      "display_name": "Python 3",
      "language": "python",
      "name": "python3"
    },
    "language_info": {
      "codemirror_mode": {
        "name": "ipython",
        "version": 3
      },
      "file_extension": ".py",
      "mimetype": "text/x-python",
      "name": "python",
      "nbconvert_exporter": "python",
      "pygments_lexer": "ipython3",
      "version": "3.9.12"
    }
  },
  "nbformat": 4,
  "nbformat_minor": 0
}
