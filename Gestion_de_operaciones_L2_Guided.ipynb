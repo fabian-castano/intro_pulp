{
  "cells": [
    {
      "cell_type": "markdown",
      "metadata": {
        "id": "view-in-github",
        "colab_type": "text"
      },
      "source": [
        "<a href=\"https://colab.research.google.com/github/fancagi/intro_pulp/blob/main/Gestion_de_operaciones_L2_Guided.ipynb\" target=\"_parent\"><img src=\"https://colab.research.google.com/assets/colab-badge.svg\" alt=\"Open In Colab\"/></a>"
      ]
    },
    {
      "cell_type": "markdown",
      "metadata": {
        "id": "rGYb7jF_sVtC"
      },
      "source": [
        "# Problema de localización de ambulancias\n"
      ]
    },
    {
      "cell_type": "markdown",
      "metadata": {
        "id": "dPZPYPF6sVtE"
      },
      "source": [
        "## Objetivo y Prerrequisitos\n",
        "En este ejemplo, resolveremos un problema de ubicación de amnbulancias en el cual queremos seleccionar puntos de localización para cubrir las necesidades de la mayor cantidad de barrios posibles. Construiremos un modelo de programación entera mixta (MIP) de este problema, implementaremos este modelo en la interfaz de Python de PuLP + Cbc y calcularemos una solución óptima.\n",
        "\n"
      ]
    },
    {
      "cell_type": "markdown",
      "metadata": {
        "id": "g2nNArFIsVtF"
      },
      "source": [
        "## Motivación\n",
        "\n",
        "El `maximal coverage location problem` es un problema de optimización que busca determinar la ubicación óptima de un conjunto de instalaciones para maximizar la cobertura de un conjunto de demandas o necesidades. \n",
        "\n",
        "Este problema se puede aplicar en diferentes campos, como la planificación de servicios públicos, la ubicación de tiendas minoristas o la asignación de recursos en emergencias. En este ejercicio, los estudiantes deben utilizar programación lineal para abordar un problema de ubicación de instalaciones que maximice la cobertura de una serie de puntos de demanda dentro de un área determinada, utilizando un conjunto limitado de recursos. Los estudiantes deberán definir las variables de decisión, las restricciones y la función objetivo, y utilizar un solver de programación lineal para encontrar la solución óptima al problema planteado."
      ]
    },
    {
      "cell_type": "markdown",
      "metadata": {
        "id": "PtyzyqlDsVtF"
      },
      "source": [
        "## Descripción del problema\n",
        "\n",
        "El problema de ubicación de ambulancias con cobertura máxima (maximal coverage location problem) es un problema de optimización que tiene como objetivo encontrar la ubicación óptima para las estaciones de ambulancias para que la mayor cantidad de personas posible pueda ser atendida en el menor tiempo posible. El objetivo es maximizar el número de personas cubiertas  considerando las limitaciones de recursos como la cantidad de ambulancias disponibles y la distancia máxima permitida para ser recorrida para cada una de ellas.\n",
        "\n",
        "El problema implica encontrar una ubicación óptima para cada estación de ambulancias de manera que se maximice el número de personas que puedan ser atendidas en un tiempo límite determinado. La ubicación óptima de las estaciones de ambulancias debe ser tal que la mayor cantidad de personas posible estén dentro del rango de tiempo máximo permitido y se pueda prestar atención médica en el menor tiempo posible. Este problema puede ser resuelto utilizando técnicas de programación lineal para encontrar la solución óptima en términos de costo y eficiencia."
      ]
    },
    {
      "cell_type": "markdown",
      "metadata": {
        "id": "q0oY4oXZsVtG"
      },
      "source": [
        "## Formulación del Modelo\n",
        "\n",
        "\n",
        "### Conjuntos e Índices\n",
        "\n",
        "$i \\in I$: Índice y conjunto de ubicaciones de demanda (o pacientes).\n",
        "\n",
        "$j \\in J$: Índice y conjunto de ubicaciones candidatas de ambulancias (o bases).\n",
        "\n",
        "\n",
        "### Parámetros\n",
        "\n",
        "\n",
        "$d_{i,j} \\in \\mathbb{R}^+$: Distancia entre la base $j \\in J$ y el paciente $i \\in I$.\n",
        "\n",
        "$\\theta_{i,j} \\in {0,1}$: Si una ambulancia ubicada en $j \\in J$ puede atender a un barrio  $i \\in I$ o no. Si $\\theta_{i,j}=1$, entonces $j \\in J$ puede atender a $i \\in I$, y $\\theta_{i,j}=0$ en caso contrario.\n",
        "\n",
        "\n",
        "### Variables de Decisión\n",
        "$y_{j} \\in {0, 1 }$: Esta variable es igual a 1 si se ubica una ambulancia en la ubicación candidata $j \\in J$; y 0 en caso contrario.\n",
        "\n",
        "$ x_{i} \\in {0, 1 }$: Esta variable es igual a 1 si la ubicación i es cubierta por alguna  ambulancia \n",
        "\n",
        "### Función Objetivo\n",
        "***Cobertura máxima.*** Queremos maximizar la cantidad de barrios que pueden ser atendidos por las ambulancias ubicadas en las bases seleccionadas. Esto se logra maximizando la suma de las variables que indican que un barrio es cubierto o no.\n",
        "\n",
        "\\begin{equation}\n",
        "\\text{Max} \\quad Z =  \\sum_{i \\in I}x_{i} \n",
        "\\tag{0}\n",
        "\\end{equation}\n",
        "\n",
        "### Restricciones\n",
        "\n",
        "***Cobertura***\n",
        "\n",
        "Para que una ubicación se considere cubierta debe estar dentro del rango de tiempo permitido.\n",
        "\n",
        "\\begin{equation}\n",
        " x_{i} \\leq \\sum_{j \\in J} y_{j}\\cdot \\theta_{i,j}  \\quad \\forall j \\in J\n",
        "\\tag{1}\n",
        "\\end{equation}\n",
        "\n",
        "***Límite de ambulancias.***\n",
        "\n",
        "Debemos asegurarnos de que solo se ubiquen tantas ambulancias como disponibilidad se tiene de estas.\n",
        "\n",
        "\\begin{equation}\n",
        "\\sum_{i \\in I}x_{i}\\leq N \n",
        "\\tag{2}\n",
        "\\end{equation}\n",
        "\n",
        "***Naturaleza de las variables.***\n",
        "\n",
        "\\begin{equation}\n",
        "x_{i} \\in {0, 1 }\n",
        "\\tag{3}\n",
        "\\end{equation}\n",
        "\n",
        "\\begin{equation}\n",
        "y_{j} \\in {0, 1 }\n",
        "\\tag{4}\n",
        "\\end{equation}\n"
      ]
    },
    {
      "cell_type": "code",
      "source": [
        "!pip install pulp"
      ],
      "metadata": {
        "colab": {
          "base_uri": "https://localhost:8080/"
        },
        "id": "S_vsbmQ2aISE",
        "outputId": "1497dc6b-e054-4dd4-b795-d9cfa9c74415"
      },
      "execution_count": null,
      "outputs": [
        {
          "output_type": "stream",
          "name": "stdout",
          "text": [
            "Looking in indexes: https://pypi.org/simple, https://us-python.pkg.dev/colab-wheels/public/simple/\n",
            "Requirement already satisfied: pulp in /usr/local/lib/python3.9/dist-packages (2.7.0)\n"
          ]
        }
      ]
    },
    {
      "cell_type": "code",
      "execution_count": null,
      "metadata": {
        "id": "GeQOWSFQZ7Re"
      },
      "outputs": [],
      "source": [
        "import numpy as np\n",
        "\n",
        "# Determina la distancia euclidiana entre la bodega seleccionalada y los clientes\n",
        "\n",
        "def compute_distance(loc1, loc2):\n",
        "    \"\"\"compute the distance between two locations\n",
        "\n",
        "    Args:\n",
        "        loc1 (tuple): location 1\n",
        "        loc1 (tuple): location 2\n",
        "\n",
        "    Returns:\n",
        "        float: distance between loc1 and loc2\n",
        "    \"\"\"\n",
        "    dx = loc1[0] - loc2[0]\n",
        "    dy = loc1[1] - loc2[1]\n",
        "    return sqrt(dx*dx + dy*dy)\n",
        "\n",
        "\n",
        "\n",
        "def create_grid(x_min, x_max, y_min, y_max, n_points):\n",
        "    \"\"\"\n",
        "    Creates a square grid of points between the specified boundaries.\n",
        "    \n",
        "    Parameters\n",
        "    ----------\n",
        "    x_min : float\n",
        "        Minimum x value.\n",
        "    x_max : float\n",
        "        Maximum x value.\n",
        "    y_min : float\n",
        "        Minimum y value.\n",
        "    y_max : float\n",
        "        Maximum y value.\n",
        "    n_points : int\n",
        "        Number of points in each dimension.\n",
        "        \n",
        "    Returns\n",
        "    -------\n",
        "    grid : array\n",
        "        Array of shape (n_points, n_points, 2) containing the grid of points.\n",
        "    \"\"\"\n",
        "    x = np.linspace(x_min, x_max, n_points)\n",
        "    y = np.linspace(y_min, y_max, n_points)\n",
        "    grid = np.array(np.meshgrid(x, y)).T.reshape(-1, 2)\n",
        "    # convert the grid to a list of tuples\n",
        "    grid = [tuple(x) for x in grid]\n",
        "    return grid\n",
        "\n",
        "\n",
        "\n"
      ]
    },
    {
      "cell_type": "code",
      "execution_count": null,
      "metadata": {
        "id": "0Js96xrUsVtI"
      },
      "outputs": [],
      "source": [
        "from itertools import product\n",
        "from math import sqrt\n",
        "\n",
        "import pulp as plp\n",
        "\n",
        "\n",
        "# tested with PuLP and Python 3.7.0\n",
        "\n",
        "# Parameters\n",
        " \n",
        "customers = create_grid(0, 3, 0, 3, 10)\n",
        "\n",
        "facilities = [(0.18, 1.02),\n",
        "            (0.6, 2.85),\n",
        "            (1.23, 0.84),\n",
        "            (0.63, 1.5),\n",
        "            (1.71, 1.74),\n",
        "            (0.24, 0.03),\n",
        "            (1.2, 2.28),\n",
        "            (0.42, 2.13),\n",
        "            (0.09, 2.49),\n",
        "            (1.62, 2.64),\n",
        "            (2.46, 0.39),\n",
        "            (1.83, 0.09),\n",
        "            (0.78, 1.68),\n",
        "            (2.76, 0.87),\n",
        "            (0.48, 1.86),\n",
        "            (1.86, 0.63),\n",
        "            (1.59, 2.7),\n",
        "            (2.04, 1.44),\n",
        "            (0.54, 1.89),\n",
        "            (0.06, 2.94)]\n",
        "setup_cost = [1, 4, 1, 4, 3, 4, 5, 3, 5, 1, 5, 1, 1, 2, 1, 4, 5, 2, 4, 1]\n",
        "max_distance = 0.75\n",
        "num_ambulances = 5\n",
        "\n",
        "beta=np.array((len(facilities),len(customers)))"
      ]
    },
    {
      "cell_type": "markdown",
      "metadata": {
        "id": "hK6CHBZvZ7Rf"
      },
      "source": [
        "# Vamos a visualizar la instancia que estaremos resolviendo"
      ]
    },
    {
      "cell_type": "code",
      "execution_count": null,
      "metadata": {
        "id": "yGOH-DY4sVtJ",
        "outputId": "9b16cb84-5ffa-4819-edbe-df90ca2462ee",
        "colab": {
          "base_uri": "https://localhost:8080/",
          "height": 542
        }
      },
      "outputs": [
        {
          "output_type": "display_data",
          "data": {
            "text/html": [
              "<html>\n",
              "<head><meta charset=\"utf-8\" /></head>\n",
              "<body>\n",
              "    <div>            <script src=\"https://cdnjs.cloudflare.com/ajax/libs/mathjax/2.7.5/MathJax.js?config=TeX-AMS-MML_SVG\"></script><script type=\"text/javascript\">if (window.MathJax && window.MathJax.Hub && window.MathJax.Hub.Config) {window.MathJax.Hub.Config({SVG: {font: \"STIX-Web\"}});}</script>                <script type=\"text/javascript\">window.PlotlyConfig = {MathJaxConfig: 'local'};</script>\n",
              "        <script src=\"https://cdn.plot.ly/plotly-2.18.2.min.js\"></script>                <div id=\"aa1745dc-9392-44f4-8dde-668bcedb0c30\" class=\"plotly-graph-div\" style=\"height:525px; width:100%;\"></div>            <script type=\"text/javascript\">                                    window.PLOTLYENV=window.PLOTLYENV || {};                                    if (document.getElementById(\"aa1745dc-9392-44f4-8dde-668bcedb0c30\")) {                    Plotly.newPlot(                        \"aa1745dc-9392-44f4-8dde-668bcedb0c30\",                        [{\"mode\":\"markers\",\"name\":\"Facilities\",\"x\":[0.18,0.6,1.23,0.63,1.71,0.24,1.2,0.42,0.09,1.62,2.46,1.83,0.78,2.76,0.48,1.86,1.59,2.04,0.54,0.06],\"y\":[1.02,2.85,0.84,1.5,1.74,0.03,2.28,2.13,2.49,2.64,0.39,0.09,1.68,0.87,1.86,0.63,2.7,1.44,1.89,2.94],\"type\":\"scatter\"},{\"mode\":\"markers\",\"name\":\"Hospital\",\"x\":[0.0,0.0,0.0,0.0,0.0,0.0,0.0,0.0,0.0,0.0,0.3333333333333333,0.3333333333333333,0.3333333333333333,0.3333333333333333,0.3333333333333333,0.3333333333333333,0.3333333333333333,0.3333333333333333,0.3333333333333333,0.3333333333333333,0.6666666666666666,0.6666666666666666,0.6666666666666666,0.6666666666666666,0.6666666666666666,0.6666666666666666,0.6666666666666666,0.6666666666666666,0.6666666666666666,0.6666666666666666,1.0,1.0,1.0,1.0,1.0,1.0,1.0,1.0,1.0,1.0,1.3333333333333333,1.3333333333333333,1.3333333333333333,1.3333333333333333,1.3333333333333333,1.3333333333333333,1.3333333333333333,1.3333333333333333,1.3333333333333333,1.3333333333333333,1.6666666666666665,1.6666666666666665,1.6666666666666665,1.6666666666666665,1.6666666666666665,1.6666666666666665,1.6666666666666665,1.6666666666666665,1.6666666666666665,1.6666666666666665,2.0,2.0,2.0,2.0,2.0,2.0,2.0,2.0,2.0,2.0,2.333333333333333,2.333333333333333,2.333333333333333,2.333333333333333,2.333333333333333,2.333333333333333,2.333333333333333,2.333333333333333,2.333333333333333,2.333333333333333,2.6666666666666665,2.6666666666666665,2.6666666666666665,2.6666666666666665,2.6666666666666665,2.6666666666666665,2.6666666666666665,2.6666666666666665,2.6666666666666665,2.6666666666666665,3.0,3.0,3.0,3.0,3.0,3.0,3.0,3.0,3.0,3.0],\"y\":[0.0,0.3333333333333333,0.6666666666666666,1.0,1.3333333333333333,1.6666666666666665,2.0,2.333333333333333,2.6666666666666665,3.0,0.0,0.3333333333333333,0.6666666666666666,1.0,1.3333333333333333,1.6666666666666665,2.0,2.333333333333333,2.6666666666666665,3.0,0.0,0.3333333333333333,0.6666666666666666,1.0,1.3333333333333333,1.6666666666666665,2.0,2.333333333333333,2.6666666666666665,3.0,0.0,0.3333333333333333,0.6666666666666666,1.0,1.3333333333333333,1.6666666666666665,2.0,2.333333333333333,2.6666666666666665,3.0,0.0,0.3333333333333333,0.6666666666666666,1.0,1.3333333333333333,1.6666666666666665,2.0,2.333333333333333,2.6666666666666665,3.0,0.0,0.3333333333333333,0.6666666666666666,1.0,1.3333333333333333,1.6666666666666665,2.0,2.333333333333333,2.6666666666666665,3.0,0.0,0.3333333333333333,0.6666666666666666,1.0,1.3333333333333333,1.6666666666666665,2.0,2.333333333333333,2.6666666666666665,3.0,0.0,0.3333333333333333,0.6666666666666666,1.0,1.3333333333333333,1.6666666666666665,2.0,2.333333333333333,2.6666666666666665,3.0,0.0,0.3333333333333333,0.6666666666666666,1.0,1.3333333333333333,1.6666666666666665,2.0,2.333333333333333,2.6666666666666665,3.0,0.0,0.3333333333333333,0.6666666666666666,1.0,1.3333333333333333,1.6666666666666665,2.0,2.333333333333333,2.6666666666666665,3.0],\"type\":\"scatter\"},{\"marker\":{\"color\":\"rgba(255, 0, 0, 0.2)\",\"size\":250},\"mode\":\"markers\",\"name\":\"Facilities\",\"x\":[0.18,0.6,1.23,0.63,1.71,0.24,1.2,0.42,0.09,1.62,2.46,1.83,0.78,2.76,0.48,1.86,1.59,2.04,0.54,0.06],\"y\":[1.02,2.85,0.84,1.5,1.74,0.03,2.28,2.13,2.49,2.64,0.39,0.09,1.68,0.87,1.86,0.63,2.7,1.44,1.89,2.94],\"type\":\"scatter\"}],                        {\"template\":{\"data\":{\"histogram2dcontour\":[{\"type\":\"histogram2dcontour\",\"colorbar\":{\"outlinewidth\":0,\"ticks\":\"\"},\"colorscale\":[[0.0,\"#0d0887\"],[0.1111111111111111,\"#46039f\"],[0.2222222222222222,\"#7201a8\"],[0.3333333333333333,\"#9c179e\"],[0.4444444444444444,\"#bd3786\"],[0.5555555555555556,\"#d8576b\"],[0.6666666666666666,\"#ed7953\"],[0.7777777777777778,\"#fb9f3a\"],[0.8888888888888888,\"#fdca26\"],[1.0,\"#f0f921\"]]}],\"choropleth\":[{\"type\":\"choropleth\",\"colorbar\":{\"outlinewidth\":0,\"ticks\":\"\"}}],\"histogram2d\":[{\"type\":\"histogram2d\",\"colorbar\":{\"outlinewidth\":0,\"ticks\":\"\"},\"colorscale\":[[0.0,\"#0d0887\"],[0.1111111111111111,\"#46039f\"],[0.2222222222222222,\"#7201a8\"],[0.3333333333333333,\"#9c179e\"],[0.4444444444444444,\"#bd3786\"],[0.5555555555555556,\"#d8576b\"],[0.6666666666666666,\"#ed7953\"],[0.7777777777777778,\"#fb9f3a\"],[0.8888888888888888,\"#fdca26\"],[1.0,\"#f0f921\"]]}],\"heatmap\":[{\"type\":\"heatmap\",\"colorbar\":{\"outlinewidth\":0,\"ticks\":\"\"},\"colorscale\":[[0.0,\"#0d0887\"],[0.1111111111111111,\"#46039f\"],[0.2222222222222222,\"#7201a8\"],[0.3333333333333333,\"#9c179e\"],[0.4444444444444444,\"#bd3786\"],[0.5555555555555556,\"#d8576b\"],[0.6666666666666666,\"#ed7953\"],[0.7777777777777778,\"#fb9f3a\"],[0.8888888888888888,\"#fdca26\"],[1.0,\"#f0f921\"]]}],\"heatmapgl\":[{\"type\":\"heatmapgl\",\"colorbar\":{\"outlinewidth\":0,\"ticks\":\"\"},\"colorscale\":[[0.0,\"#0d0887\"],[0.1111111111111111,\"#46039f\"],[0.2222222222222222,\"#7201a8\"],[0.3333333333333333,\"#9c179e\"],[0.4444444444444444,\"#bd3786\"],[0.5555555555555556,\"#d8576b\"],[0.6666666666666666,\"#ed7953\"],[0.7777777777777778,\"#fb9f3a\"],[0.8888888888888888,\"#fdca26\"],[1.0,\"#f0f921\"]]}],\"contourcarpet\":[{\"type\":\"contourcarpet\",\"colorbar\":{\"outlinewidth\":0,\"ticks\":\"\"}}],\"contour\":[{\"type\":\"contour\",\"colorbar\":{\"outlinewidth\":0,\"ticks\":\"\"},\"colorscale\":[[0.0,\"#0d0887\"],[0.1111111111111111,\"#46039f\"],[0.2222222222222222,\"#7201a8\"],[0.3333333333333333,\"#9c179e\"],[0.4444444444444444,\"#bd3786\"],[0.5555555555555556,\"#d8576b\"],[0.6666666666666666,\"#ed7953\"],[0.7777777777777778,\"#fb9f3a\"],[0.8888888888888888,\"#fdca26\"],[1.0,\"#f0f921\"]]}],\"surface\":[{\"type\":\"surface\",\"colorbar\":{\"outlinewidth\":0,\"ticks\":\"\"},\"colorscale\":[[0.0,\"#0d0887\"],[0.1111111111111111,\"#46039f\"],[0.2222222222222222,\"#7201a8\"],[0.3333333333333333,\"#9c179e\"],[0.4444444444444444,\"#bd3786\"],[0.5555555555555556,\"#d8576b\"],[0.6666666666666666,\"#ed7953\"],[0.7777777777777778,\"#fb9f3a\"],[0.8888888888888888,\"#fdca26\"],[1.0,\"#f0f921\"]]}],\"mesh3d\":[{\"type\":\"mesh3d\",\"colorbar\":{\"outlinewidth\":0,\"ticks\":\"\"}}],\"scatter\":[{\"fillpattern\":{\"fillmode\":\"overlay\",\"size\":10,\"solidity\":0.2},\"type\":\"scatter\"}],\"parcoords\":[{\"type\":\"parcoords\",\"line\":{\"colorbar\":{\"outlinewidth\":0,\"ticks\":\"\"}}}],\"scatterpolargl\":[{\"type\":\"scatterpolargl\",\"marker\":{\"colorbar\":{\"outlinewidth\":0,\"ticks\":\"\"}}}],\"bar\":[{\"error_x\":{\"color\":\"#2a3f5f\"},\"error_y\":{\"color\":\"#2a3f5f\"},\"marker\":{\"line\":{\"color\":\"#E5ECF6\",\"width\":0.5},\"pattern\":{\"fillmode\":\"overlay\",\"size\":10,\"solidity\":0.2}},\"type\":\"bar\"}],\"scattergeo\":[{\"type\":\"scattergeo\",\"marker\":{\"colorbar\":{\"outlinewidth\":0,\"ticks\":\"\"}}}],\"scatterpolar\":[{\"type\":\"scatterpolar\",\"marker\":{\"colorbar\":{\"outlinewidth\":0,\"ticks\":\"\"}}}],\"histogram\":[{\"marker\":{\"pattern\":{\"fillmode\":\"overlay\",\"size\":10,\"solidity\":0.2}},\"type\":\"histogram\"}],\"scattergl\":[{\"type\":\"scattergl\",\"marker\":{\"colorbar\":{\"outlinewidth\":0,\"ticks\":\"\"}}}],\"scatter3d\":[{\"type\":\"scatter3d\",\"line\":{\"colorbar\":{\"outlinewidth\":0,\"ticks\":\"\"}},\"marker\":{\"colorbar\":{\"outlinewidth\":0,\"ticks\":\"\"}}}],\"scattermapbox\":[{\"type\":\"scattermapbox\",\"marker\":{\"colorbar\":{\"outlinewidth\":0,\"ticks\":\"\"}}}],\"scatterternary\":[{\"type\":\"scatterternary\",\"marker\":{\"colorbar\":{\"outlinewidth\":0,\"ticks\":\"\"}}}],\"scattercarpet\":[{\"type\":\"scattercarpet\",\"marker\":{\"colorbar\":{\"outlinewidth\":0,\"ticks\":\"\"}}}],\"carpet\":[{\"aaxis\":{\"endlinecolor\":\"#2a3f5f\",\"gridcolor\":\"white\",\"linecolor\":\"white\",\"minorgridcolor\":\"white\",\"startlinecolor\":\"#2a3f5f\"},\"baxis\":{\"endlinecolor\":\"#2a3f5f\",\"gridcolor\":\"white\",\"linecolor\":\"white\",\"minorgridcolor\":\"white\",\"startlinecolor\":\"#2a3f5f\"},\"type\":\"carpet\"}],\"table\":[{\"cells\":{\"fill\":{\"color\":\"#EBF0F8\"},\"line\":{\"color\":\"white\"}},\"header\":{\"fill\":{\"color\":\"#C8D4E3\"},\"line\":{\"color\":\"white\"}},\"type\":\"table\"}],\"barpolar\":[{\"marker\":{\"line\":{\"color\":\"#E5ECF6\",\"width\":0.5},\"pattern\":{\"fillmode\":\"overlay\",\"size\":10,\"solidity\":0.2}},\"type\":\"barpolar\"}],\"pie\":[{\"automargin\":true,\"type\":\"pie\"}]},\"layout\":{\"autotypenumbers\":\"strict\",\"colorway\":[\"#636efa\",\"#EF553B\",\"#00cc96\",\"#ab63fa\",\"#FFA15A\",\"#19d3f3\",\"#FF6692\",\"#B6E880\",\"#FF97FF\",\"#FECB52\"],\"font\":{\"color\":\"#2a3f5f\"},\"hovermode\":\"closest\",\"hoverlabel\":{\"align\":\"left\"},\"paper_bgcolor\":\"white\",\"plot_bgcolor\":\"#E5ECF6\",\"polar\":{\"bgcolor\":\"#E5ECF6\",\"angularaxis\":{\"gridcolor\":\"white\",\"linecolor\":\"white\",\"ticks\":\"\"},\"radialaxis\":{\"gridcolor\":\"white\",\"linecolor\":\"white\",\"ticks\":\"\"}},\"ternary\":{\"bgcolor\":\"#E5ECF6\",\"aaxis\":{\"gridcolor\":\"white\",\"linecolor\":\"white\",\"ticks\":\"\"},\"baxis\":{\"gridcolor\":\"white\",\"linecolor\":\"white\",\"ticks\":\"\"},\"caxis\":{\"gridcolor\":\"white\",\"linecolor\":\"white\",\"ticks\":\"\"}},\"coloraxis\":{\"colorbar\":{\"outlinewidth\":0,\"ticks\":\"\"}},\"colorscale\":{\"sequential\":[[0.0,\"#0d0887\"],[0.1111111111111111,\"#46039f\"],[0.2222222222222222,\"#7201a8\"],[0.3333333333333333,\"#9c179e\"],[0.4444444444444444,\"#bd3786\"],[0.5555555555555556,\"#d8576b\"],[0.6666666666666666,\"#ed7953\"],[0.7777777777777778,\"#fb9f3a\"],[0.8888888888888888,\"#fdca26\"],[1.0,\"#f0f921\"]],\"sequentialminus\":[[0.0,\"#0d0887\"],[0.1111111111111111,\"#46039f\"],[0.2222222222222222,\"#7201a8\"],[0.3333333333333333,\"#9c179e\"],[0.4444444444444444,\"#bd3786\"],[0.5555555555555556,\"#d8576b\"],[0.6666666666666666,\"#ed7953\"],[0.7777777777777778,\"#fb9f3a\"],[0.8888888888888888,\"#fdca26\"],[1.0,\"#f0f921\"]],\"diverging\":[[0,\"#8e0152\"],[0.1,\"#c51b7d\"],[0.2,\"#de77ae\"],[0.3,\"#f1b6da\"],[0.4,\"#fde0ef\"],[0.5,\"#f7f7f7\"],[0.6,\"#e6f5d0\"],[0.7,\"#b8e186\"],[0.8,\"#7fbc41\"],[0.9,\"#4d9221\"],[1,\"#276419\"]]},\"xaxis\":{\"gridcolor\":\"white\",\"linecolor\":\"white\",\"ticks\":\"\",\"title\":{\"standoff\":15},\"zerolinecolor\":\"white\",\"automargin\":true,\"zerolinewidth\":2},\"yaxis\":{\"gridcolor\":\"white\",\"linecolor\":\"white\",\"ticks\":\"\",\"title\":{\"standoff\":15},\"zerolinecolor\":\"white\",\"automargin\":true,\"zerolinewidth\":2},\"scene\":{\"xaxis\":{\"backgroundcolor\":\"#E5ECF6\",\"gridcolor\":\"white\",\"linecolor\":\"white\",\"showbackground\":true,\"ticks\":\"\",\"zerolinecolor\":\"white\",\"gridwidth\":2},\"yaxis\":{\"backgroundcolor\":\"#E5ECF6\",\"gridcolor\":\"white\",\"linecolor\":\"white\",\"showbackground\":true,\"ticks\":\"\",\"zerolinecolor\":\"white\",\"gridwidth\":2},\"zaxis\":{\"backgroundcolor\":\"#E5ECF6\",\"gridcolor\":\"white\",\"linecolor\":\"white\",\"showbackground\":true,\"ticks\":\"\",\"zerolinecolor\":\"white\",\"gridwidth\":2}},\"shapedefaults\":{\"line\":{\"color\":\"#2a3f5f\"}},\"annotationdefaults\":{\"arrowcolor\":\"#2a3f5f\",\"arrowhead\":0,\"arrowwidth\":1},\"geo\":{\"bgcolor\":\"white\",\"landcolor\":\"#E5ECF6\",\"subunitcolor\":\"white\",\"showland\":true,\"showlakes\":true,\"lakecolor\":\"white\"},\"title\":{\"x\":0.05},\"mapbox\":{\"style\":\"light\"}}},\"title\":{\"text\":\"Facilities and hospitals\"},\"xaxis\":{\"title\":{\"text\":\"x\"},\"range\":[0,3]},\"yaxis\":{\"title\":{\"text\":\"y\"},\"range\":[0,3]}},                        {\"responsive\": true}                    ).then(function(){\n",
              "                            \n",
              "var gd = document.getElementById('aa1745dc-9392-44f4-8dde-668bcedb0c30');\n",
              "var x = new MutationObserver(function (mutations, observer) {{\n",
              "        var display = window.getComputedStyle(gd).display;\n",
              "        if (!display || display === 'none') {{\n",
              "            console.log([gd, 'removed!']);\n",
              "            Plotly.purge(gd);\n",
              "            observer.disconnect();\n",
              "        }}\n",
              "}});\n",
              "\n",
              "// Listen for the removal of the full notebook cells\n",
              "var notebookContainer = gd.closest('#notebook-container');\n",
              "if (notebookContainer) {{\n",
              "    x.observe(notebookContainer, {childList: true});\n",
              "}}\n",
              "\n",
              "// Listen for the clearing of the current output cell\n",
              "var outputEl = gd.closest('.output');\n",
              "if (outputEl) {{\n",
              "    x.observe(outputEl, {childList: true});\n",
              "}}\n",
              "\n",
              "                        })                };                            </script>        </div>\n",
              "</body>\n",
              "</html>"
            ]
          },
          "metadata": {}
        }
      ],
      "source": [
        "import plotly.express as px\n",
        "import plotly.graph_objects as go\n",
        "\n",
        "# Plot the problem configuration (facilities and customers)\n",
        "fig = go.Figure()\n",
        "fig.add_trace(go.Scatter(x=[x for x,y in facilities], y=[y for x,y in facilities], mode='markers', name='Facilities'))\n",
        "fig.add_trace(go.Scatter(x=[x for x,y in customers], y=[y for x,y in customers], mode='markers', name='Hospital'))\n",
        "# large circle around the facilities\n",
        "fig.add_trace(go.Scatter(x=[x for x,y in facilities], y=[y for x,y in facilities], mode='markers', name='Facilities', marker=dict(size=250, color='rgba(255, 0, 0, 0.2)')))\n",
        "fig.update_layout(title='Facilities and hospitals', xaxis_title='x', yaxis_title='y')\n",
        "# set plot limits\n",
        "fig.update_xaxes(range=[0, 3])\n",
        "fig.update_yaxes(range=[0, 3])\n",
        "fig.show()"
      ]
    },
    {
      "cell_type": "markdown",
      "metadata": {
        "id": "Gf6-u3fjsVtL"
      },
      "source": [
        "### Preprocesamiento\n",
        "Definimos una función que determina la distancia euclidiana entre cada instalación y los sitios de los clientes. Además, calculamos los parámetros clave requeridos por la formulación del modelo MIP del problema de ubicación de la instalación."
      ]
    },
    {
      "cell_type": "code",
      "execution_count": null,
      "metadata": {
        "id": "bT-veB7csVtL"
      },
      "outputs": [],
      "source": [
        "\n",
        "# computamos algunos parámetros auxiliares que se necesitán para construir el modelo MIP\n",
        "\n",
        "# set de clientes y bodegas\n",
        "I = set(range(len(customers)))\n",
        "J = set(range(len(facilities)))\n",
        "cartesian_prod = list(product( I,J))\n",
        "\n",
        "# Computamos los costos de envío\n",
        "\n",
        "beta = {(c,f): 1 if compute_distance(customers[c], facilities[f]) <= max_distance else 0 for c, f in cartesian_prod}\n",
        "\n"
      ]
    },
    {
      "cell_type": "markdown",
      "metadata": {
        "id": "wPS5DPggsVtM"
      },
      "source": [
        "## Despliegue del modelo\n",
        "\n",
        "Ahora definimos el modelo MIP para el problema de ubicación de instalaciones, mediante la definición de las variables de decisión, restricciones y función objetivo. A continuación, iniciamos el proceso de optimización y Gurobi encuentra el plan para construir instalaciones que minimiza los costos totales."
      ]
    },
    {
      "cell_type": "code",
      "execution_count": null,
      "metadata": {
        "id": "y35bIH_asVtM",
        "scrolled": true
      },
      "outputs": [],
      "source": [
        "import pulp as plp\n",
        "from itertools import product\n",
        "\n",
        "# MIP model formulation\n",
        "m = plp.LpProblem('ambulance_location', plp.LpMaximize)\n"
      ]
    },
    {
      "cell_type": "markdown",
      "metadata": {
        "id": "VZY2jLSmsVtM"
      },
      "source": [
        "### Definir las variables del modelo"
      ]
    },
    {
      "cell_type": "code",
      "execution_count": null,
      "metadata": {
        "id": "XlJ9wcvvsVtM"
      },
      "outputs": [],
      "source": [
        "# Decisión binaria indicando que una ubicaciónn es seleccionada\n",
        "y = plp.LpVariable.dicts('Select', J, lowBound=0, upBound=1, cat='Binary')\n",
        "\n",
        "# El barrio es cubierto por una ambulancia\n",
        "x = plp.LpVariable.dicts('covered', I, lowBound=0, upBound=1, cat='Binary')"
      ]
    },
    {
      "cell_type": "markdown",
      "metadata": {
        "id": "dXvAh0otsVtN"
      },
      "source": [
        "Establezca una restricción que asegure que un barrio solo se considera cubierto si hay una ambulancia en una ubicación cercana"
      ]
    },
    {
      "cell_type": "code",
      "execution_count": null,
      "metadata": {
        "id": "HufiQgA-sVtN"
      },
      "outputs": [],
      "source": [
        "for i in I:    \n",
        "     m+=x[i]<=plp.lpSum([y[j]*beta[i,j] for j in J])\n"
      ]
    },
    {
      "cell_type": "markdown",
      "metadata": {
        "id": "oC53-u4ssVtN"
      },
      "source": [
        "Escriba una restricción que garantice que no se asignan más ambulancias de las que se tienen disponibles."
      ]
    },
    {
      "cell_type": "code",
      "execution_count": null,
      "metadata": {
        "id": "DB0YAm_bsVtN"
      },
      "outputs": [],
      "source": [
        "m+=plp.lpSum([y[j] for j in J])<=num_ambulances"
      ]
    },
    {
      "cell_type": "markdown",
      "metadata": {
        "id": "VkgRug-OsVtN"
      },
      "source": [
        "Escriba la función objetivo del problema:\n",
        "\n",
        "Maximizar el número de barrios cubiertos con las ambulancias disponibles."
      ]
    },
    {
      "cell_type": "code",
      "execution_count": null,
      "metadata": {
        "id": "3FsCJImnsVtO"
      },
      "outputs": [],
      "source": [
        "m += plp.lpSum([x[i] for i in I])\n",
        "               \n"
      ]
    },
    {
      "cell_type": "markdown",
      "metadata": {
        "id": "PvqWoAwMsVtO"
      },
      "source": [
        "Resuelva el problema "
      ]
    },
    {
      "cell_type": "code",
      "execution_count": null,
      "metadata": {
        "id": "-XZe1IpasVtO",
        "outputId": "c5af4b2e-b7ea-41cb-c1c7-c784001cec39",
        "colab": {
          "base_uri": "https://localhost:8080/"
        }
      },
      "outputs": [
        {
          "output_type": "execute_result",
          "data": {
            "text/plain": [
              "1"
            ]
          },
          "metadata": {},
          "execution_count": 30
        }
      ],
      "source": [
        "m.solve()"
      ]
    },
    {
      "cell_type": "code",
      "source": [
        "print(plp.value(m.objective))"
      ],
      "metadata": {
        "colab": {
          "base_uri": "https://localhost:8080/"
        },
        "id": "0c9jNaWxaxPs",
        "outputId": "41fd4673-c97d-4064-b11f-e97fd7bfae63"
      },
      "execution_count": null,
      "outputs": [
        {
          "output_type": "stream",
          "name": "stdout",
          "text": [
            "69.0\n"
          ]
        }
      ]
    },
    {
      "cell_type": "markdown",
      "metadata": {
        "id": "RJEegSIjsVtO"
      },
      "source": [
        "Modifique la función objetivo del problema."
      ]
    },
    {
      "cell_type": "markdown",
      "metadata": {
        "id": "OpsaN4FRsVtP"
      },
      "source": [
        "## Análisis\n",
        "El resultado del modelo de optimización muestra que se cubren 69 (de 100) barrios. Veamos la solución que logra ese resultado óptimo.\n",
        "\n",
        "## Plan de ubicación de ambulancias\n",
        "Este plan determina en qué ubicaciones poner las ambulancias."
      ]
    },
    {
      "cell_type": "code",
      "execution_count": null,
      "metadata": {
        "id": "Ym8zxTqWsVtP",
        "colab": {
          "base_uri": "https://localhost:8080/"
        },
        "outputId": "de6238ce-250d-4112-c39d-e76217b909db"
      },
      "outputs": [
        {
          "output_type": "stream",
          "name": "stdout",
          "text": [
            "Select_2 = 1.0\n",
            "Select_7 = 1.0\n",
            "Select_10 = 1.0\n",
            "Select_16 = 1.0\n",
            "Select_17 = 1.0\n"
          ]
        }
      ],
      "source": [
        "# display optimal values of decision variables using pulp notation\n",
        "\n",
        "for j in J:\n",
        "    if y[j].varValue > 0.5:\n",
        "        print(y[j].name, \"=\", y[j].varValue)"
      ]
    },
    {
      "cell_type": "code",
      "execution_count": null,
      "metadata": {
        "id": "tlwzpgnzsVtP",
        "outputId": "8a0256d9-db2b-48e7-889d-1cb0801b6e1e",
        "colab": {
          "base_uri": "https://localhost:8080/",
          "height": 542
        }
      },
      "outputs": [
        {
          "output_type": "display_data",
          "data": {
            "text/html": [
              "<html>\n",
              "<head><meta charset=\"utf-8\" /></head>\n",
              "<body>\n",
              "    <div>            <script src=\"https://cdnjs.cloudflare.com/ajax/libs/mathjax/2.7.5/MathJax.js?config=TeX-AMS-MML_SVG\"></script><script type=\"text/javascript\">if (window.MathJax && window.MathJax.Hub && window.MathJax.Hub.Config) {window.MathJax.Hub.Config({SVG: {font: \"STIX-Web\"}});}</script>                <script type=\"text/javascript\">window.PlotlyConfig = {MathJaxConfig: 'local'};</script>\n",
              "        <script src=\"https://cdn.plot.ly/plotly-2.18.2.min.js\"></script>                <div id=\"1d0a5dd8-50d2-4d6d-96d5-a3a172ac2ca5\" class=\"plotly-graph-div\" style=\"height:525px; width:100%;\"></div>            <script type=\"text/javascript\">                                    window.PLOTLYENV=window.PLOTLYENV || {};                                    if (document.getElementById(\"1d0a5dd8-50d2-4d6d-96d5-a3a172ac2ca5\")) {                    Plotly.newPlot(                        \"1d0a5dd8-50d2-4d6d-96d5-a3a172ac2ca5\",                        [{\"mode\":\"markers\",\"name\":\"Facilities\",\"x\":[0.18,0.6,1.23,0.63,1.71,0.24,1.2,0.42,0.09,1.62,2.46,1.83,0.78,2.76,0.48,1.86,1.59,2.04,0.54,0.06],\"y\":[1.02,2.85,0.84,1.5,1.74,0.03,2.28,2.13,2.49,2.64,0.39,0.09,1.68,0.87,1.86,0.63,2.7,1.44,1.89,2.94],\"type\":\"scatter\"},{\"mode\":\"markers\",\"name\":\"Hospitals\",\"x\":[0.0,0.0,0.0,0.0,0.0,0.0,0.0,0.0,0.0,0.0,0.3333333333333333,0.3333333333333333,0.3333333333333333,0.3333333333333333,0.3333333333333333,0.3333333333333333,0.3333333333333333,0.3333333333333333,0.3333333333333333,0.3333333333333333,0.6666666666666666,0.6666666666666666,0.6666666666666666,0.6666666666666666,0.6666666666666666,0.6666666666666666,0.6666666666666666,0.6666666666666666,0.6666666666666666,0.6666666666666666,1.0,1.0,1.0,1.0,1.0,1.0,1.0,1.0,1.0,1.0,1.3333333333333333,1.3333333333333333,1.3333333333333333,1.3333333333333333,1.3333333333333333,1.3333333333333333,1.3333333333333333,1.3333333333333333,1.3333333333333333,1.3333333333333333,1.6666666666666665,1.6666666666666665,1.6666666666666665,1.6666666666666665,1.6666666666666665,1.6666666666666665,1.6666666666666665,1.6666666666666665,1.6666666666666665,1.6666666666666665,2.0,2.0,2.0,2.0,2.0,2.0,2.0,2.0,2.0,2.0,2.333333333333333,2.333333333333333,2.333333333333333,2.333333333333333,2.333333333333333,2.333333333333333,2.333333333333333,2.333333333333333,2.333333333333333,2.333333333333333,2.6666666666666665,2.6666666666666665,2.6666666666666665,2.6666666666666665,2.6666666666666665,2.6666666666666665,2.6666666666666665,2.6666666666666665,2.6666666666666665,2.6666666666666665,3.0,3.0,3.0,3.0,3.0,3.0,3.0,3.0,3.0,3.0],\"y\":[0.0,0.3333333333333333,0.6666666666666666,1.0,1.3333333333333333,1.6666666666666665,2.0,2.333333333333333,2.6666666666666665,3.0,0.0,0.3333333333333333,0.6666666666666666,1.0,1.3333333333333333,1.6666666666666665,2.0,2.333333333333333,2.6666666666666665,3.0,0.0,0.3333333333333333,0.6666666666666666,1.0,1.3333333333333333,1.6666666666666665,2.0,2.333333333333333,2.6666666666666665,3.0,0.0,0.3333333333333333,0.6666666666666666,1.0,1.3333333333333333,1.6666666666666665,2.0,2.333333333333333,2.6666666666666665,3.0,0.0,0.3333333333333333,0.6666666666666666,1.0,1.3333333333333333,1.6666666666666665,2.0,2.333333333333333,2.6666666666666665,3.0,0.0,0.3333333333333333,0.6666666666666666,1.0,1.3333333333333333,1.6666666666666665,2.0,2.333333333333333,2.6666666666666665,3.0,0.0,0.3333333333333333,0.6666666666666666,1.0,1.3333333333333333,1.6666666666666665,2.0,2.333333333333333,2.6666666666666665,3.0,0.0,0.3333333333333333,0.6666666666666666,1.0,1.3333333333333333,1.6666666666666665,2.0,2.333333333333333,2.6666666666666665,3.0,0.0,0.3333333333333333,0.6666666666666666,1.0,1.3333333333333333,1.6666666666666665,2.0,2.333333333333333,2.6666666666666665,3.0,0.0,0.3333333333333333,0.6666666666666666,1.0,1.3333333333333333,1.6666666666666665,2.0,2.333333333333333,2.6666666666666665,3.0],\"type\":\"scatter\"},{\"marker\":{\"color\":\"rgba(255, 0, 0, 0.2)\",\"size\":250},\"mode\":\"markers\",\"name\":\"Selected facilities\",\"x\":[1.23,0.42,2.46,1.59,2.04],\"y\":[0.84,2.13,0.39,2.7,1.44],\"type\":\"scatter\"}],                        {\"template\":{\"data\":{\"histogram2dcontour\":[{\"type\":\"histogram2dcontour\",\"colorbar\":{\"outlinewidth\":0,\"ticks\":\"\"},\"colorscale\":[[0.0,\"#0d0887\"],[0.1111111111111111,\"#46039f\"],[0.2222222222222222,\"#7201a8\"],[0.3333333333333333,\"#9c179e\"],[0.4444444444444444,\"#bd3786\"],[0.5555555555555556,\"#d8576b\"],[0.6666666666666666,\"#ed7953\"],[0.7777777777777778,\"#fb9f3a\"],[0.8888888888888888,\"#fdca26\"],[1.0,\"#f0f921\"]]}],\"choropleth\":[{\"type\":\"choropleth\",\"colorbar\":{\"outlinewidth\":0,\"ticks\":\"\"}}],\"histogram2d\":[{\"type\":\"histogram2d\",\"colorbar\":{\"outlinewidth\":0,\"ticks\":\"\"},\"colorscale\":[[0.0,\"#0d0887\"],[0.1111111111111111,\"#46039f\"],[0.2222222222222222,\"#7201a8\"],[0.3333333333333333,\"#9c179e\"],[0.4444444444444444,\"#bd3786\"],[0.5555555555555556,\"#d8576b\"],[0.6666666666666666,\"#ed7953\"],[0.7777777777777778,\"#fb9f3a\"],[0.8888888888888888,\"#fdca26\"],[1.0,\"#f0f921\"]]}],\"heatmap\":[{\"type\":\"heatmap\",\"colorbar\":{\"outlinewidth\":0,\"ticks\":\"\"},\"colorscale\":[[0.0,\"#0d0887\"],[0.1111111111111111,\"#46039f\"],[0.2222222222222222,\"#7201a8\"],[0.3333333333333333,\"#9c179e\"],[0.4444444444444444,\"#bd3786\"],[0.5555555555555556,\"#d8576b\"],[0.6666666666666666,\"#ed7953\"],[0.7777777777777778,\"#fb9f3a\"],[0.8888888888888888,\"#fdca26\"],[1.0,\"#f0f921\"]]}],\"heatmapgl\":[{\"type\":\"heatmapgl\",\"colorbar\":{\"outlinewidth\":0,\"ticks\":\"\"},\"colorscale\":[[0.0,\"#0d0887\"],[0.1111111111111111,\"#46039f\"],[0.2222222222222222,\"#7201a8\"],[0.3333333333333333,\"#9c179e\"],[0.4444444444444444,\"#bd3786\"],[0.5555555555555556,\"#d8576b\"],[0.6666666666666666,\"#ed7953\"],[0.7777777777777778,\"#fb9f3a\"],[0.8888888888888888,\"#fdca26\"],[1.0,\"#f0f921\"]]}],\"contourcarpet\":[{\"type\":\"contourcarpet\",\"colorbar\":{\"outlinewidth\":0,\"ticks\":\"\"}}],\"contour\":[{\"type\":\"contour\",\"colorbar\":{\"outlinewidth\":0,\"ticks\":\"\"},\"colorscale\":[[0.0,\"#0d0887\"],[0.1111111111111111,\"#46039f\"],[0.2222222222222222,\"#7201a8\"],[0.3333333333333333,\"#9c179e\"],[0.4444444444444444,\"#bd3786\"],[0.5555555555555556,\"#d8576b\"],[0.6666666666666666,\"#ed7953\"],[0.7777777777777778,\"#fb9f3a\"],[0.8888888888888888,\"#fdca26\"],[1.0,\"#f0f921\"]]}],\"surface\":[{\"type\":\"surface\",\"colorbar\":{\"outlinewidth\":0,\"ticks\":\"\"},\"colorscale\":[[0.0,\"#0d0887\"],[0.1111111111111111,\"#46039f\"],[0.2222222222222222,\"#7201a8\"],[0.3333333333333333,\"#9c179e\"],[0.4444444444444444,\"#bd3786\"],[0.5555555555555556,\"#d8576b\"],[0.6666666666666666,\"#ed7953\"],[0.7777777777777778,\"#fb9f3a\"],[0.8888888888888888,\"#fdca26\"],[1.0,\"#f0f921\"]]}],\"mesh3d\":[{\"type\":\"mesh3d\",\"colorbar\":{\"outlinewidth\":0,\"ticks\":\"\"}}],\"scatter\":[{\"fillpattern\":{\"fillmode\":\"overlay\",\"size\":10,\"solidity\":0.2},\"type\":\"scatter\"}],\"parcoords\":[{\"type\":\"parcoords\",\"line\":{\"colorbar\":{\"outlinewidth\":0,\"ticks\":\"\"}}}],\"scatterpolargl\":[{\"type\":\"scatterpolargl\",\"marker\":{\"colorbar\":{\"outlinewidth\":0,\"ticks\":\"\"}}}],\"bar\":[{\"error_x\":{\"color\":\"#2a3f5f\"},\"error_y\":{\"color\":\"#2a3f5f\"},\"marker\":{\"line\":{\"color\":\"#E5ECF6\",\"width\":0.5},\"pattern\":{\"fillmode\":\"overlay\",\"size\":10,\"solidity\":0.2}},\"type\":\"bar\"}],\"scattergeo\":[{\"type\":\"scattergeo\",\"marker\":{\"colorbar\":{\"outlinewidth\":0,\"ticks\":\"\"}}}],\"scatterpolar\":[{\"type\":\"scatterpolar\",\"marker\":{\"colorbar\":{\"outlinewidth\":0,\"ticks\":\"\"}}}],\"histogram\":[{\"marker\":{\"pattern\":{\"fillmode\":\"overlay\",\"size\":10,\"solidity\":0.2}},\"type\":\"histogram\"}],\"scattergl\":[{\"type\":\"scattergl\",\"marker\":{\"colorbar\":{\"outlinewidth\":0,\"ticks\":\"\"}}}],\"scatter3d\":[{\"type\":\"scatter3d\",\"line\":{\"colorbar\":{\"outlinewidth\":0,\"ticks\":\"\"}},\"marker\":{\"colorbar\":{\"outlinewidth\":0,\"ticks\":\"\"}}}],\"scattermapbox\":[{\"type\":\"scattermapbox\",\"marker\":{\"colorbar\":{\"outlinewidth\":0,\"ticks\":\"\"}}}],\"scatterternary\":[{\"type\":\"scatterternary\",\"marker\":{\"colorbar\":{\"outlinewidth\":0,\"ticks\":\"\"}}}],\"scattercarpet\":[{\"type\":\"scattercarpet\",\"marker\":{\"colorbar\":{\"outlinewidth\":0,\"ticks\":\"\"}}}],\"carpet\":[{\"aaxis\":{\"endlinecolor\":\"#2a3f5f\",\"gridcolor\":\"white\",\"linecolor\":\"white\",\"minorgridcolor\":\"white\",\"startlinecolor\":\"#2a3f5f\"},\"baxis\":{\"endlinecolor\":\"#2a3f5f\",\"gridcolor\":\"white\",\"linecolor\":\"white\",\"minorgridcolor\":\"white\",\"startlinecolor\":\"#2a3f5f\"},\"type\":\"carpet\"}],\"table\":[{\"cells\":{\"fill\":{\"color\":\"#EBF0F8\"},\"line\":{\"color\":\"white\"}},\"header\":{\"fill\":{\"color\":\"#C8D4E3\"},\"line\":{\"color\":\"white\"}},\"type\":\"table\"}],\"barpolar\":[{\"marker\":{\"line\":{\"color\":\"#E5ECF6\",\"width\":0.5},\"pattern\":{\"fillmode\":\"overlay\",\"size\":10,\"solidity\":0.2}},\"type\":\"barpolar\"}],\"pie\":[{\"automargin\":true,\"type\":\"pie\"}]},\"layout\":{\"autotypenumbers\":\"strict\",\"colorway\":[\"#636efa\",\"#EF553B\",\"#00cc96\",\"#ab63fa\",\"#FFA15A\",\"#19d3f3\",\"#FF6692\",\"#B6E880\",\"#FF97FF\",\"#FECB52\"],\"font\":{\"color\":\"#2a3f5f\"},\"hovermode\":\"closest\",\"hoverlabel\":{\"align\":\"left\"},\"paper_bgcolor\":\"white\",\"plot_bgcolor\":\"#E5ECF6\",\"polar\":{\"bgcolor\":\"#E5ECF6\",\"angularaxis\":{\"gridcolor\":\"white\",\"linecolor\":\"white\",\"ticks\":\"\"},\"radialaxis\":{\"gridcolor\":\"white\",\"linecolor\":\"white\",\"ticks\":\"\"}},\"ternary\":{\"bgcolor\":\"#E5ECF6\",\"aaxis\":{\"gridcolor\":\"white\",\"linecolor\":\"white\",\"ticks\":\"\"},\"baxis\":{\"gridcolor\":\"white\",\"linecolor\":\"white\",\"ticks\":\"\"},\"caxis\":{\"gridcolor\":\"white\",\"linecolor\":\"white\",\"ticks\":\"\"}},\"coloraxis\":{\"colorbar\":{\"outlinewidth\":0,\"ticks\":\"\"}},\"colorscale\":{\"sequential\":[[0.0,\"#0d0887\"],[0.1111111111111111,\"#46039f\"],[0.2222222222222222,\"#7201a8\"],[0.3333333333333333,\"#9c179e\"],[0.4444444444444444,\"#bd3786\"],[0.5555555555555556,\"#d8576b\"],[0.6666666666666666,\"#ed7953\"],[0.7777777777777778,\"#fb9f3a\"],[0.8888888888888888,\"#fdca26\"],[1.0,\"#f0f921\"]],\"sequentialminus\":[[0.0,\"#0d0887\"],[0.1111111111111111,\"#46039f\"],[0.2222222222222222,\"#7201a8\"],[0.3333333333333333,\"#9c179e\"],[0.4444444444444444,\"#bd3786\"],[0.5555555555555556,\"#d8576b\"],[0.6666666666666666,\"#ed7953\"],[0.7777777777777778,\"#fb9f3a\"],[0.8888888888888888,\"#fdca26\"],[1.0,\"#f0f921\"]],\"diverging\":[[0,\"#8e0152\"],[0.1,\"#c51b7d\"],[0.2,\"#de77ae\"],[0.3,\"#f1b6da\"],[0.4,\"#fde0ef\"],[0.5,\"#f7f7f7\"],[0.6,\"#e6f5d0\"],[0.7,\"#b8e186\"],[0.8,\"#7fbc41\"],[0.9,\"#4d9221\"],[1,\"#276419\"]]},\"xaxis\":{\"gridcolor\":\"white\",\"linecolor\":\"white\",\"ticks\":\"\",\"title\":{\"standoff\":15},\"zerolinecolor\":\"white\",\"automargin\":true,\"zerolinewidth\":2},\"yaxis\":{\"gridcolor\":\"white\",\"linecolor\":\"white\",\"ticks\":\"\",\"title\":{\"standoff\":15},\"zerolinecolor\":\"white\",\"automargin\":true,\"zerolinewidth\":2},\"scene\":{\"xaxis\":{\"backgroundcolor\":\"#E5ECF6\",\"gridcolor\":\"white\",\"linecolor\":\"white\",\"showbackground\":true,\"ticks\":\"\",\"zerolinecolor\":\"white\",\"gridwidth\":2},\"yaxis\":{\"backgroundcolor\":\"#E5ECF6\",\"gridcolor\":\"white\",\"linecolor\":\"white\",\"showbackground\":true,\"ticks\":\"\",\"zerolinecolor\":\"white\",\"gridwidth\":2},\"zaxis\":{\"backgroundcolor\":\"#E5ECF6\",\"gridcolor\":\"white\",\"linecolor\":\"white\",\"showbackground\":true,\"ticks\":\"\",\"zerolinecolor\":\"white\",\"gridwidth\":2}},\"shapedefaults\":{\"line\":{\"color\":\"#2a3f5f\"}},\"annotationdefaults\":{\"arrowcolor\":\"#2a3f5f\",\"arrowhead\":0,\"arrowwidth\":1},\"geo\":{\"bgcolor\":\"white\",\"landcolor\":\"#E5ECF6\",\"subunitcolor\":\"white\",\"showland\":true,\"showlakes\":true,\"lakecolor\":\"white\"},\"title\":{\"x\":0.05},\"mapbox\":{\"style\":\"light\"}}},\"title\":{\"text\":\"Facilities and hospitals\"},\"xaxis\":{\"title\":{\"text\":\"x\"},\"range\":[0,3]},\"yaxis\":{\"title\":{\"text\":\"y\"},\"range\":[0,3]}},                        {\"responsive\": true}                    ).then(function(){\n",
              "                            \n",
              "var gd = document.getElementById('1d0a5dd8-50d2-4d6d-96d5-a3a172ac2ca5');\n",
              "var x = new MutationObserver(function (mutations, observer) {{\n",
              "        var display = window.getComputedStyle(gd).display;\n",
              "        if (!display || display === 'none') {{\n",
              "            console.log([gd, 'removed!']);\n",
              "            Plotly.purge(gd);\n",
              "            observer.disconnect();\n",
              "        }}\n",
              "}});\n",
              "\n",
              "// Listen for the removal of the full notebook cells\n",
              "var notebookContainer = gd.closest('#notebook-container');\n",
              "if (notebookContainer) {{\n",
              "    x.observe(notebookContainer, {childList: true});\n",
              "}}\n",
              "\n",
              "// Listen for the clearing of the current output cell\n",
              "var outputEl = gd.closest('.output');\n",
              "if (outputEl) {{\n",
              "    x.observe(outputEl, {childList: true});\n",
              "}}\n",
              "\n",
              "                        })                };                            </script>        </div>\n",
              "</body>\n",
              "</html>"
            ]
          },
          "metadata": {}
        }
      ],
      "source": [
        "# Depict the optimal solution in plotly figure, use lines to depict  allocation of customers to facilities\n",
        "\n",
        "fig = go.Figure()\n",
        "fig.add_trace(go.Scatter(x=[x for x,y in facilities], y=[y for x,y in facilities], mode='markers', name='Facilities'))\n",
        "fig.add_trace(go.Scatter(x=[x for x,y in customers], y=[y for x,y in customers], mode='markers', name='Hospitals'))\n",
        "\n",
        "selected_facilities = [facilities[j] for j in J if y[j].varValue > 0.5]\n",
        "\n",
        "# set marker size with a fixed value in the same scale as the plot\n",
        "\n",
        "fig.add_trace(go.Scatter(x=[x for x,y in selected_facilities], y=[y for x,y in selected_facilities], mode='markers', name='Selected facilities', marker=dict(size=250, color='rgba(255, 0, 0, 0.2)')))\n",
        "fig.update_layout(title='Facilities and hospitals', xaxis_title='x', yaxis_title='y')\n",
        "# set plot limits\n",
        "fig.update_xaxes(range=[0, 3])\n",
        "fig.update_yaxes(range=[0, 3])\n",
        "fig.show()"
      ]
    },
    {
      "cell_type": "markdown",
      "metadata": {
        "id": "2_TPnpucsVtP"
      },
      "source": [
        "### Plan de Envío\n",
        "Este plan determina el porcentaje de envíos que se enviarán desde cada instalación construida a cada cliente."
      ]
    },
    {
      "cell_type": "code",
      "execution_count": null,
      "metadata": {
        "id": "IyIis9dHsVtQ",
        "outputId": "d854b1d0-a706-4531-8444-91210a34718a",
        "colab": {
          "base_uri": "https://localhost:8080/"
        }
      },
      "outputs": [
        {
          "output_type": "stream",
          "name": "stdout",
          "text": [
            "Ubicación 2 Cubre los clientes:\n",
            "[22, 23, 24, 31, 32, 33, 34, 41, 42, 43, 44, 51, 52, 53, 54]\n",
            "Ubicación 7 Cubre los clientes:\n",
            "[5, 6, 7, 8, 15, 16, 17, 18, 25, 26, 27, 28, 35, 36, 37]\n",
            "Ubicación 10 Cubre los clientes:\n",
            "[60, 61, 62, 70, 71, 72, 73, 80, 81, 82, 83, 90, 91, 92]\n",
            "Ubicación 16 Cubre los clientes:\n",
            "[37, 38, 39, 46, 47, 48, 49, 56, 57, 58, 59, 67, 68, 69, 78]\n",
            "Ubicación 17 Cubre los clientes:\n",
            "[44, 45, 53, 54, 55, 56, 63, 64, 65, 66, 73, 74, 75, 76, 84, 85]\n"
          ]
        }
      ],
      "source": [
        "\n",
        "for j in J:\n",
        "    if (abs(y[j].varValue) > 1e-6):\n",
        "        print('Ubicación', j, 'Cubre los clientes:')\n",
        "        print([i for i in I if (abs(beta[i,j]) ==1)])\n",
        "\n"
      ]
    },
    {
      "cell_type": "markdown",
      "metadata": {
        "id": "0s2f2aHLsVtQ"
      },
      "source": [
        "##  Conclusión\n",
        "En este ejemplo, abordamos un problema de ubicación de ambulancias en el que deseamos satisfacer la demanda la mayor cantidad posible de barrios sin sobrepasar la cantidad de ambulancias disponibles. Aprendimos cómo formular el problema como un modelo MIP. \n",
        "\n",
        "También aprendimos cómo implementar la formulación del modelo MIP y resolverlo utilizando la API de Python de Cbc Solver. "
      ]
    },
    {
      "cell_type": "markdown",
      "metadata": {
        "id": "eEeB4VLAsVtQ"
      },
      "source": [
        "##  Referencias\n",
        "[1] Laporte, Gilbert, Stefan Nickel, and Saldanha da Gama, Francisco. Location Science. Springer, 2015."
      ]
    }
  ],
  "metadata": {
    "colab": {
      "provenance": [],
      "include_colab_link": true
    },
    "kernelspec": {
      "display_name": "Python 3",
      "language": "python",
      "name": "python3"
    },
    "language_info": {
      "codemirror_mode": {
        "name": "ipython",
        "version": 3
      },
      "file_extension": ".py",
      "mimetype": "text/x-python",
      "name": "python",
      "nbconvert_exporter": "python",
      "pygments_lexer": "ipython3",
      "version": "3.9.12"
    }
  },
  "nbformat": 4,
  "nbformat_minor": 0
}