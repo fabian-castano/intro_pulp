{
  "cells": [
    {
      "cell_type": "markdown",
      "metadata": {
        "id": "Y_9j_fRyGrFm"
      },
      "source": [
        "# Contexto\n",
        "\n",
        "En el contexto del ruteo de visitadores médicos en hospitalización domiciliaria, se desea planificar la ruta de visita a 11 diferentes pacientes en diferentes zonas de la ciudad. El equipo de visitadores médicos debe salir de su base (ubicada en la coordenada $(27,6)$ ) y visitar cada uno de los pacientes. Como los visitadores médicos llevan consigo todo lo necesario para las visitas, no necesitan regresar a la base antes de terminar.\n",
        "\n",
        "El objetivo es minimizar los costos de transporte, por lo que se desea diseñar la ruta más corta posible para el equipo de visitadores médicos. Se cuenta con información acerca de la localización geográfica de los pacientes en la tabla. Se puede asumir que en cualquier dirección el desplazamiento cuesta lo mismo, es decir, el costo no es afectado por las condiciones del tráfico en diferentes zonas.\n",
        "\n",
        "\n",
        "|     Plataforma    |     Coordenadas    |           |\n",
        "|-------------------|--------------------|-----------|\n",
        "|                   |     x              |     y     |\n",
        "|     0             |     27             |     6     |\n",
        "|     1             |     25             |     38    |\n",
        "|     2             |     41             |     22    |\n",
        "|     3             |     43             |     29    |\n",
        "|     4             |     16             |     17    |\n",
        "|     5             |     25             |     9     |\n",
        "|     6             |     12             |     2     |\n",
        "|     7             |     45             |     2     |\n",
        "|     8             |     6              |     13    |\n",
        "|     9             |     35             |     43    |\n",
        "|     10            |     44             |     45    |\n",
        "|     11            |     30             |     48    |\n",
        "\n",
        "\n",
        "Determine el orden de visita que minimizaría los costos para el prestador del servicio. Explique el procedimiento que utilizó para alcanzar dicha solución."
      ]
    },
    {
      "cell_type": "markdown",
      "source": [
        "# Pruebas de diferentes mecanismos de solución"
      ],
      "metadata": {
        "id": "o4QKF-JOiFjd"
      }
    },
    {
      "cell_type": "code",
      "source": [
        "import numpy as np\n",
        "import matplotlib.pyplot as plt"
      ],
      "metadata": {
        "id": "Ja8ozmfdiJ4I"
      },
      "execution_count": 14,
      "outputs": []
    },
    {
      "cell_type": "markdown",
      "source": [
        "El primer paso es enumerar las localizaciones de los pacientes."
      ],
      "metadata": {
        "id": "yYXZslioiisw"
      }
    },
    {
      "cell_type": "code",
      "source": [
        "x=[27,25,41,43,16,25,12,45,6,35,44,30]\n",
        "y=[6,38,22,29,17,9,2,2,13,43,45,48]"
      ],
      "metadata": {
        "id": "x3T5vFT0ijOO"
      },
      "execution_count": 15,
      "outputs": []
    },
    {
      "cell_type": "markdown",
      "source": [
        "Necesitamos computar las distancias entre todos los puntos y, a partir de esto, construir una matriz de distancias que nos permita ya sea construir un modelo o usar un algoritmo para encontrar una buena  solución al problema.\n",
        "\n"
      ],
      "metadata": {
        "id": "r_6IvqJNixCV"
      }
    },
    {
      "cell_type": "code",
      "source": [
        "distances=np.array([[np.round(((x[i]-x[j])**2+(y[i]-y[j])**2)**(1/2.),2) for j in range(len(y)) ] for i in range(len(x))])\n",
        "print(\"Distancias entre pares:\")\n",
        "print(distances)"
      ],
      "metadata": {
        "id": "ITDMqlL5ix1j",
        "outputId": "bd18dc4f-dc20-4058-e0c8-9a9557a9889b",
        "colab": {
          "base_uri": "https://localhost:8080/"
        }
      },
      "execution_count": 16,
      "outputs": [
        {
          "output_type": "stream",
          "name": "stdout",
          "text": [
            "Distancias entre pares:\n",
            "[[ 0.   32.06 21.26 28.02 15.56  3.61 15.52 18.44 22.14 37.85 42.54 42.11]\n",
            " [32.06  0.   22.63 20.12 22.85 29.   38.28 41.18 31.4  11.18 20.25 11.18]\n",
            " [21.26 22.63  0.    7.28 25.5  20.62 35.23 20.4  36.14 21.84 23.19 28.23]\n",
            " [28.02 20.12  7.28  0.   29.55 26.91 41.11 27.07 40.31 16.12 16.03 23.02]\n",
            " [15.56 22.85 25.5  29.55  0.   12.04 15.52 32.65 10.77 32.2  39.6  34.01]\n",
            " [ 3.61 29.   20.62 26.91 12.04  0.   14.76 21.19 19.42 35.44 40.71 39.32]\n",
            " [15.52 38.28 35.23 41.11 15.52 14.76  0.   33.   12.53 47.01 53.6  49.4 ]\n",
            " [18.44 41.18 20.4  27.07 32.65 21.19 33.    0.   40.52 42.2  43.01 48.38]\n",
            " [22.14 31.4  36.14 40.31 10.77 19.42 12.53 40.52  0.   41.73 49.68 42.44]\n",
            " [37.85 11.18 21.84 16.12 32.2  35.44 47.01 42.2  41.73  0.    9.22  7.07]\n",
            " [42.54 20.25 23.19 16.03 39.6  40.71 53.6  43.01 49.68  9.22  0.   14.32]\n",
            " [42.11 11.18 28.23 23.02 34.01 39.32 49.4  48.38 42.44  7.07 14.32  0.  ]]\n"
          ]
        }
      ]
    },
    {
      "cell_type": "markdown",
      "metadata": {
        "id": "fAP3RiAGRJov"
      },
      "source": [
        "Un primer paso consistirá en cosntruir la función `probar_solucion` que recibe como entrada un vector con el orden de visita, iniciando desde 0, y calcula el costo de la ruta propuesta.  *e.g.* \n",
        "\n",
        "```python \n",
        "solucion=[0,1,2,3,4,5,6,7,8,9,10,11]\n",
        "probar_solucion(solucion,Matriz_distancias)\n",
        "El costo de su solución es: 257.11\n",
        "```"
      ]
    },
    {
      "cell_type": "code",
      "source": [
        "def probar_solucion(permutacion, dist):\n",
        "    # permutacion: lista de índices de las ciudades en el orden de visita\n",
        "    \n",
        "    costo=0\n",
        "    for i in range(len(permutacion)-1):\n",
        "        costo+=dist[permutacion[i]][permutacion[i+1]]\n",
        "    costo+=dist[permutacion[-1]][permutacion[0]]\n",
        "    #print(\"El costo de su solución es:\",costo)\n",
        "    return costo\n",
        "\n",
        "   "
      ],
      "metadata": {
        "id": "T7-4Cpz6iRDK"
      },
      "execution_count": 17,
      "outputs": []
    },
    {
      "cell_type": "code",
      "execution_count": 18,
      "metadata": {
        "colab": {
          "base_uri": "https://localhost:8080/"
        },
        "id": "vw0dhAFAGNQ6",
        "outputId": "66538ee9-0753-4d86-889f-5f90f496c5a3"
      },
      "outputs": [
        {
          "output_type": "execute_result",
          "data": {
            "text/plain": [
              "299.22"
            ]
          },
          "metadata": {},
          "execution_count": 18
        }
      ],
      "source": [
        "solucion=[0,1,2,3,4,5,6,7,8,9,10,11]\n",
        "probar_solucion(solucion,distances)"
      ]
    },
    {
      "cell_type": "markdown",
      "source": [
        "Le podemos dar una mirada al instancia mediante la construcción y utilización de una función usada con ese propósito explícito."
      ],
      "metadata": {
        "id": "ObhEuFBekkW7"
      }
    },
    {
      "cell_type": "code",
      "execution_count": 19,
      "metadata": {
        "id": "9bb-NVYWgv-a",
        "outputId": "ceb8532c-922c-4a9a-af4d-78ce8c365594",
        "colab": {
          "base_uri": "https://localhost:8080/",
          "height": 542
        }
      },
      "outputs": [
        {
          "output_type": "display_data",
          "data": {
            "text/html": [
              "<html>\n",
              "<head><meta charset=\"utf-8\" /></head>\n",
              "<body>\n",
              "    <div>            <script src=\"https://cdnjs.cloudflare.com/ajax/libs/mathjax/2.7.5/MathJax.js?config=TeX-AMS-MML_SVG\"></script><script type=\"text/javascript\">if (window.MathJax && window.MathJax.Hub && window.MathJax.Hub.Config) {window.MathJax.Hub.Config({SVG: {font: \"STIX-Web\"}});}</script>                <script type=\"text/javascript\">window.PlotlyConfig = {MathJaxConfig: 'local'};</script>\n",
              "        <script src=\"https://cdn.plot.ly/plotly-2.18.2.min.js\"></script>                <div id=\"9d955dc6-3bf5-4cbd-854a-37089fbc9f18\" class=\"plotly-graph-div\" style=\"height:525px; width:100%;\"></div>            <script type=\"text/javascript\">                                    window.PLOTLYENV=window.PLOTLYENV || {};                                    if (document.getElementById(\"9d955dc6-3bf5-4cbd-854a-37089fbc9f18\")) {                    Plotly.newPlot(                        \"9d955dc6-3bf5-4cbd-854a-37089fbc9f18\",                        [{\"mode\":\"markers\",\"name\":\"Clientes\",\"x\":[27,25,41,43,16,25,12,45,6,35,44,30],\"y\":[6,38,22,29,17,9,2,2,13,43,45,48],\"type\":\"scatter\"},{\"marker\":{\"color\":\"red\"},\"mode\":\"markers\",\"name\":\"Dep\\u00f3sito\",\"x\":[27],\"y\":[6],\"type\":\"scatter\"}],                        {\"template\":{\"data\":{\"histogram2dcontour\":[{\"type\":\"histogram2dcontour\",\"colorbar\":{\"outlinewidth\":0,\"ticks\":\"\"},\"colorscale\":[[0.0,\"#0d0887\"],[0.1111111111111111,\"#46039f\"],[0.2222222222222222,\"#7201a8\"],[0.3333333333333333,\"#9c179e\"],[0.4444444444444444,\"#bd3786\"],[0.5555555555555556,\"#d8576b\"],[0.6666666666666666,\"#ed7953\"],[0.7777777777777778,\"#fb9f3a\"],[0.8888888888888888,\"#fdca26\"],[1.0,\"#f0f921\"]]}],\"choropleth\":[{\"type\":\"choropleth\",\"colorbar\":{\"outlinewidth\":0,\"ticks\":\"\"}}],\"histogram2d\":[{\"type\":\"histogram2d\",\"colorbar\":{\"outlinewidth\":0,\"ticks\":\"\"},\"colorscale\":[[0.0,\"#0d0887\"],[0.1111111111111111,\"#46039f\"],[0.2222222222222222,\"#7201a8\"],[0.3333333333333333,\"#9c179e\"],[0.4444444444444444,\"#bd3786\"],[0.5555555555555556,\"#d8576b\"],[0.6666666666666666,\"#ed7953\"],[0.7777777777777778,\"#fb9f3a\"],[0.8888888888888888,\"#fdca26\"],[1.0,\"#f0f921\"]]}],\"heatmap\":[{\"type\":\"heatmap\",\"colorbar\":{\"outlinewidth\":0,\"ticks\":\"\"},\"colorscale\":[[0.0,\"#0d0887\"],[0.1111111111111111,\"#46039f\"],[0.2222222222222222,\"#7201a8\"],[0.3333333333333333,\"#9c179e\"],[0.4444444444444444,\"#bd3786\"],[0.5555555555555556,\"#d8576b\"],[0.6666666666666666,\"#ed7953\"],[0.7777777777777778,\"#fb9f3a\"],[0.8888888888888888,\"#fdca26\"],[1.0,\"#f0f921\"]]}],\"heatmapgl\":[{\"type\":\"heatmapgl\",\"colorbar\":{\"outlinewidth\":0,\"ticks\":\"\"},\"colorscale\":[[0.0,\"#0d0887\"],[0.1111111111111111,\"#46039f\"],[0.2222222222222222,\"#7201a8\"],[0.3333333333333333,\"#9c179e\"],[0.4444444444444444,\"#bd3786\"],[0.5555555555555556,\"#d8576b\"],[0.6666666666666666,\"#ed7953\"],[0.7777777777777778,\"#fb9f3a\"],[0.8888888888888888,\"#fdca26\"],[1.0,\"#f0f921\"]]}],\"contourcarpet\":[{\"type\":\"contourcarpet\",\"colorbar\":{\"outlinewidth\":0,\"ticks\":\"\"}}],\"contour\":[{\"type\":\"contour\",\"colorbar\":{\"outlinewidth\":0,\"ticks\":\"\"},\"colorscale\":[[0.0,\"#0d0887\"],[0.1111111111111111,\"#46039f\"],[0.2222222222222222,\"#7201a8\"],[0.3333333333333333,\"#9c179e\"],[0.4444444444444444,\"#bd3786\"],[0.5555555555555556,\"#d8576b\"],[0.6666666666666666,\"#ed7953\"],[0.7777777777777778,\"#fb9f3a\"],[0.8888888888888888,\"#fdca26\"],[1.0,\"#f0f921\"]]}],\"surface\":[{\"type\":\"surface\",\"colorbar\":{\"outlinewidth\":0,\"ticks\":\"\"},\"colorscale\":[[0.0,\"#0d0887\"],[0.1111111111111111,\"#46039f\"],[0.2222222222222222,\"#7201a8\"],[0.3333333333333333,\"#9c179e\"],[0.4444444444444444,\"#bd3786\"],[0.5555555555555556,\"#d8576b\"],[0.6666666666666666,\"#ed7953\"],[0.7777777777777778,\"#fb9f3a\"],[0.8888888888888888,\"#fdca26\"],[1.0,\"#f0f921\"]]}],\"mesh3d\":[{\"type\":\"mesh3d\",\"colorbar\":{\"outlinewidth\":0,\"ticks\":\"\"}}],\"scatter\":[{\"fillpattern\":{\"fillmode\":\"overlay\",\"size\":10,\"solidity\":0.2},\"type\":\"scatter\"}],\"parcoords\":[{\"type\":\"parcoords\",\"line\":{\"colorbar\":{\"outlinewidth\":0,\"ticks\":\"\"}}}],\"scatterpolargl\":[{\"type\":\"scatterpolargl\",\"marker\":{\"colorbar\":{\"outlinewidth\":0,\"ticks\":\"\"}}}],\"bar\":[{\"error_x\":{\"color\":\"#2a3f5f\"},\"error_y\":{\"color\":\"#2a3f5f\"},\"marker\":{\"line\":{\"color\":\"#E5ECF6\",\"width\":0.5},\"pattern\":{\"fillmode\":\"overlay\",\"size\":10,\"solidity\":0.2}},\"type\":\"bar\"}],\"scattergeo\":[{\"type\":\"scattergeo\",\"marker\":{\"colorbar\":{\"outlinewidth\":0,\"ticks\":\"\"}}}],\"scatterpolar\":[{\"type\":\"scatterpolar\",\"marker\":{\"colorbar\":{\"outlinewidth\":0,\"ticks\":\"\"}}}],\"histogram\":[{\"marker\":{\"pattern\":{\"fillmode\":\"overlay\",\"size\":10,\"solidity\":0.2}},\"type\":\"histogram\"}],\"scattergl\":[{\"type\":\"scattergl\",\"marker\":{\"colorbar\":{\"outlinewidth\":0,\"ticks\":\"\"}}}],\"scatter3d\":[{\"type\":\"scatter3d\",\"line\":{\"colorbar\":{\"outlinewidth\":0,\"ticks\":\"\"}},\"marker\":{\"colorbar\":{\"outlinewidth\":0,\"ticks\":\"\"}}}],\"scattermapbox\":[{\"type\":\"scattermapbox\",\"marker\":{\"colorbar\":{\"outlinewidth\":0,\"ticks\":\"\"}}}],\"scatterternary\":[{\"type\":\"scatterternary\",\"marker\":{\"colorbar\":{\"outlinewidth\":0,\"ticks\":\"\"}}}],\"scattercarpet\":[{\"type\":\"scattercarpet\",\"marker\":{\"colorbar\":{\"outlinewidth\":0,\"ticks\":\"\"}}}],\"carpet\":[{\"aaxis\":{\"endlinecolor\":\"#2a3f5f\",\"gridcolor\":\"white\",\"linecolor\":\"white\",\"minorgridcolor\":\"white\",\"startlinecolor\":\"#2a3f5f\"},\"baxis\":{\"endlinecolor\":\"#2a3f5f\",\"gridcolor\":\"white\",\"linecolor\":\"white\",\"minorgridcolor\":\"white\",\"startlinecolor\":\"#2a3f5f\"},\"type\":\"carpet\"}],\"table\":[{\"cells\":{\"fill\":{\"color\":\"#EBF0F8\"},\"line\":{\"color\":\"white\"}},\"header\":{\"fill\":{\"color\":\"#C8D4E3\"},\"line\":{\"color\":\"white\"}},\"type\":\"table\"}],\"barpolar\":[{\"marker\":{\"line\":{\"color\":\"#E5ECF6\",\"width\":0.5},\"pattern\":{\"fillmode\":\"overlay\",\"size\":10,\"solidity\":0.2}},\"type\":\"barpolar\"}],\"pie\":[{\"automargin\":true,\"type\":\"pie\"}]},\"layout\":{\"autotypenumbers\":\"strict\",\"colorway\":[\"#636efa\",\"#EF553B\",\"#00cc96\",\"#ab63fa\",\"#FFA15A\",\"#19d3f3\",\"#FF6692\",\"#B6E880\",\"#FF97FF\",\"#FECB52\"],\"font\":{\"color\":\"#2a3f5f\"},\"hovermode\":\"closest\",\"hoverlabel\":{\"align\":\"left\"},\"paper_bgcolor\":\"white\",\"plot_bgcolor\":\"#E5ECF6\",\"polar\":{\"bgcolor\":\"#E5ECF6\",\"angularaxis\":{\"gridcolor\":\"white\",\"linecolor\":\"white\",\"ticks\":\"\"},\"radialaxis\":{\"gridcolor\":\"white\",\"linecolor\":\"white\",\"ticks\":\"\"}},\"ternary\":{\"bgcolor\":\"#E5ECF6\",\"aaxis\":{\"gridcolor\":\"white\",\"linecolor\":\"white\",\"ticks\":\"\"},\"baxis\":{\"gridcolor\":\"white\",\"linecolor\":\"white\",\"ticks\":\"\"},\"caxis\":{\"gridcolor\":\"white\",\"linecolor\":\"white\",\"ticks\":\"\"}},\"coloraxis\":{\"colorbar\":{\"outlinewidth\":0,\"ticks\":\"\"}},\"colorscale\":{\"sequential\":[[0.0,\"#0d0887\"],[0.1111111111111111,\"#46039f\"],[0.2222222222222222,\"#7201a8\"],[0.3333333333333333,\"#9c179e\"],[0.4444444444444444,\"#bd3786\"],[0.5555555555555556,\"#d8576b\"],[0.6666666666666666,\"#ed7953\"],[0.7777777777777778,\"#fb9f3a\"],[0.8888888888888888,\"#fdca26\"],[1.0,\"#f0f921\"]],\"sequentialminus\":[[0.0,\"#0d0887\"],[0.1111111111111111,\"#46039f\"],[0.2222222222222222,\"#7201a8\"],[0.3333333333333333,\"#9c179e\"],[0.4444444444444444,\"#bd3786\"],[0.5555555555555556,\"#d8576b\"],[0.6666666666666666,\"#ed7953\"],[0.7777777777777778,\"#fb9f3a\"],[0.8888888888888888,\"#fdca26\"],[1.0,\"#f0f921\"]],\"diverging\":[[0,\"#8e0152\"],[0.1,\"#c51b7d\"],[0.2,\"#de77ae\"],[0.3,\"#f1b6da\"],[0.4,\"#fde0ef\"],[0.5,\"#f7f7f7\"],[0.6,\"#e6f5d0\"],[0.7,\"#b8e186\"],[0.8,\"#7fbc41\"],[0.9,\"#4d9221\"],[1,\"#276419\"]]},\"xaxis\":{\"gridcolor\":\"white\",\"linecolor\":\"white\",\"ticks\":\"\",\"title\":{\"standoff\":15},\"zerolinecolor\":\"white\",\"automargin\":true,\"zerolinewidth\":2},\"yaxis\":{\"gridcolor\":\"white\",\"linecolor\":\"white\",\"ticks\":\"\",\"title\":{\"standoff\":15},\"zerolinecolor\":\"white\",\"automargin\":true,\"zerolinewidth\":2},\"scene\":{\"xaxis\":{\"backgroundcolor\":\"#E5ECF6\",\"gridcolor\":\"white\",\"linecolor\":\"white\",\"showbackground\":true,\"ticks\":\"\",\"zerolinecolor\":\"white\",\"gridwidth\":2},\"yaxis\":{\"backgroundcolor\":\"#E5ECF6\",\"gridcolor\":\"white\",\"linecolor\":\"white\",\"showbackground\":true,\"ticks\":\"\",\"zerolinecolor\":\"white\",\"gridwidth\":2},\"zaxis\":{\"backgroundcolor\":\"#E5ECF6\",\"gridcolor\":\"white\",\"linecolor\":\"white\",\"showbackground\":true,\"ticks\":\"\",\"zerolinecolor\":\"white\",\"gridwidth\":2}},\"shapedefaults\":{\"line\":{\"color\":\"#2a3f5f\"}},\"annotationdefaults\":{\"arrowcolor\":\"#2a3f5f\",\"arrowhead\":0,\"arrowwidth\":1},\"geo\":{\"bgcolor\":\"white\",\"landcolor\":\"#E5ECF6\",\"subunitcolor\":\"white\",\"showland\":true,\"showlakes\":true,\"lakecolor\":\"white\"},\"title\":{\"x\":0.05},\"mapbox\":{\"style\":\"light\"}}}},                        {\"responsive\": true}                    ).then(function(){\n",
              "                            \n",
              "var gd = document.getElementById('9d955dc6-3bf5-4cbd-854a-37089fbc9f18');\n",
              "var x = new MutationObserver(function (mutations, observer) {{\n",
              "        var display = window.getComputedStyle(gd).display;\n",
              "        if (!display || display === 'none') {{\n",
              "            console.log([gd, 'removed!']);\n",
              "            Plotly.purge(gd);\n",
              "            observer.disconnect();\n",
              "        }}\n",
              "}});\n",
              "\n",
              "// Listen for the removal of the full notebook cells\n",
              "var notebookContainer = gd.closest('#notebook-container');\n",
              "if (notebookContainer) {{\n",
              "    x.observe(notebookContainer, {childList: true});\n",
              "}}\n",
              "\n",
              "// Listen for the clearing of the current output cell\n",
              "var outputEl = gd.closest('.output');\n",
              "if (outputEl) {{\n",
              "    x.observe(outputEl, {childList: true});\n",
              "}}\n",
              "\n",
              "                        })                };                            </script>        </div>\n",
              "</body>\n",
              "</html>"
            ]
          },
          "metadata": {}
        }
      ],
      "source": [
        "import plotly.express as px\n",
        "import plotly.graph_objects as go\n",
        "\n",
        "# Plot the instance, use a different color fir the first location that has the index 0\n",
        "def plot_instance(x,y,depot_index):\n",
        "  fig = go.Figure()\n",
        "  fig.add_trace(go.Scatter(x=x, y=y, mode='markers', name='Clientes'))\n",
        "  fig.add_trace(go.Scatter(x=[x[depot_index]], y=[y[depot_index]], mode='markers', name='Depósito', marker_color='red'))\n",
        "  fig.show()\n",
        "  \n",
        "plot_instance(x,y,0)  "
      ]
    },
    {
      "cell_type": "markdown",
      "metadata": {
        "id": "bp1Os9zFgv-d"
      },
      "source": [
        "## ¿cuántas posubles soluciones tiene el problema?\n",
        "\n"
      ]
    },
    {
      "cell_type": "code",
      "execution_count": 20,
      "metadata": {
        "colab": {
          "base_uri": "https://localhost:8080/",
          "height": 602
        },
        "id": "_mwevDWy_F0b",
        "outputId": "1f6627a3-89b7-4bc1-cd74-f33ec4242b38"
      },
      "outputs": [
        {
          "output_type": "display_data",
          "data": {
            "text/plain": [
              "<Figure size 720x720 with 1 Axes>"
            ],
            "image/png": "[encoded data removed]"
          },
          "metadata": {
            "needs_background": "light"
          }
        }
      ],
      "source": [
        "nodes=range(2,13)\n",
        "import math as mth\n",
        "fact=[mth.factorial(i)/2 for i in nodes]\n",
        "\n",
        "plt.figure(figsize=(10,10))\n",
        "plt.plot(nodes, fact, 'go--',  markersize=5)\n",
        "cont=0\n",
        "for xs, ys in zip(nodes, fact):\n",
        "  plt.text(xs, ys, str(cont), color=\"black\", fontsize=12)\n",
        "  cont+=1\n"
      ]
    },
    {
      "cell_type": "markdown",
      "source": [
        "### Solución mediante métodos exactos"
      ],
      "metadata": {
        "id": "l9TWik3MlVAS"
      }
    },
    {
      "cell_type": "markdown",
      "source": [
        "## Formulación del Modelo\n",
        "\n",
        "### Conjuntos e Índices\n",
        "$i \\in I$: Índice y conjunto de ubicaciones de pacientes.\n",
        "\n",
        "\n",
        "### Parámetros\n",
        "$c_{i,j} \\in \\mathbb{R}^+$: Costo de transporte entre el paciente ubicado en la instalación $i \\in J$ y el de la la ubicación  $j \\in I$. Se asume que este costo es proporcional a la distancia entre la instalación y el cliente. Es decir, $c_{i,j} = \\alpha \\cdot d_{i,j}$, donde $\\alpha$ es el costo por km de conducción.\n",
        "\n",
        "### Variables de Decisión\n",
        "$x_{ij} \\in {0, 1 }$: Esta variable es igual a 1 si se realiza un viaje entre $i$ y $j$; y 0 en caso contrario.\n",
        "\n",
        "### Función Objetivo\n",
        "\n",
        "Costos totales. Queremos minimizar el costo total del recorrido.\n",
        "\n",
        "\\begin{equation}\n",
        "\\text{Min} \\quad Z = \\sum_{i \\in I}\\sum_{j \\in I} x_{ij} \\cdot c_{ij} \n",
        "\\tag{0}\n",
        "\\end{equation}\n",
        "\n",
        "### Restricciones\n",
        "#### Demanda.\n",
        "\n",
        "Cada paciente $j \\in I$ recibe una única visita\n",
        "\\begin{equation}\n",
        "\\sum_{i \\in I} x_{i,j} = 1 \\quad \\forall j \\in I\n",
        "\\tag{1}\n",
        "\\end{equation}\n",
        "\n",
        "Los visitadores que visitan un paciente $i \\in I$ salen de allí hacia otro paciente o a el depósito, desde el que partieron.\n",
        "\\begin{equation}\n",
        "\\sum_{j \\in I} x_{i,j} = 1 \\quad \\forall i \\in I\n",
        "\\tag{1}\n",
        "\\end{equation}"
      ],
      "metadata": {
        "id": "voWu-uYblsgB"
      }
    },
    {
      "cell_type": "code",
      "source": [
        "!pip install pulp"
      ],
      "metadata": {
        "id": "S2iMnRT_lgDh",
        "outputId": "3d922bd1-5ab1-4f3b-d012-c8fcd4a6bc5c",
        "colab": {
          "base_uri": "https://localhost:8080/"
        }
      },
      "execution_count": 22,
      "outputs": [
        {
          "output_type": "stream",
          "name": "stdout",
          "text": [
            "Looking in indexes: https://pypi.org/simple, https://us-python.pkg.dev/colab-wheels/public/simple/\n",
            "Collecting pulp\n",
            "  Downloading PuLP-2.7.0-py3-none-any.whl (14.3 MB)\n",
            "\u001b[2K     \u001b[90m━━━━━━━━━━━━━━━━━━━━━━━━━━━━━━━━━━━━━━━━\u001b[0m \u001b[32m14.3/14.3 MB\u001b[0m \u001b[31m71.0 MB/s\u001b[0m eta \u001b[36m0:00:00\u001b[0m\n",
            "\u001b[?25hInstalling collected packages: pulp\n",
            "Successfully installed pulp-2.7.0\n"
          ]
        }
      ]
    },
    {
      "cell_type": "code",
      "source": [
        "import pulp as plp\n",
        "\n",
        "model=plp.LpProblem(\"TSP\", plp.LpMinimize)\n",
        "solver=plp.PULP_CBC_CMD(msg=0)\n",
        "\n",
        "x_vars=plp.LpVariable.dicts(\"x\", [(i,j) for i in range(12) for j in range(12)], cat=\"Binary\")\n",
        "\n",
        "model+=plp.lpSum([distances[i][j]*x_vars[(i,j)] for i in range(12) for j in range(12)])\n",
        "\n",
        "for i in range(12): \n",
        "    model+=plp.lpSum([x_vars[(i,j)] for j in range(12) if j!=i])==1\n",
        "    \n",
        "for j in range(12):\n",
        "    model+=plp.lpSum([x_vars[(i,j)] for i in range(12) if i!=j])==1\n",
        "\n",
        "model.solve(solver)\n",
        "\n",
        "\n"
      ],
      "metadata": {
        "id": "MZk2APZOlV_Z",
        "outputId": "418b9126-35a5-4df2-c94d-b0526e52b44f",
        "colab": {
          "base_uri": "https://localhost:8080/"
        }
      },
      "execution_count": 23,
      "outputs": [
        {
          "output_type": "execute_result",
          "data": {
            "text/plain": [
              "1"
            ]
          },
          "metadata": {},
          "execution_count": 23
        }
      ]
    },
    {
      "cell_type": "code",
      "source": [
        "def get_path_recursive(x, i, path):\n",
        "    path.append(i)\n",
        "    for j in range(12):\n",
        "        if x[(i,j)].varValue==1 and j not in path:\n",
        "            get_path_recursive(x, j, path)\n",
        "            break\n",
        "\n",
        "print(\"Status:\", plp.LpStatus[model.status])\n",
        "subtours =[] \n",
        "get_path_recursive(x_vars, 0, subtours)\n",
        "while len(subtours) < 12:\n",
        "\n",
        "    model+=plp.lpSum([x_vars[(i,j)] for i in subtours for j in subtours if i!=j])<=len(subtours)-1\n",
        "    model.solve()\n",
        "    subtours =[] \n",
        "    get_path_recursive(x_vars, 0, subtours)    \n",
        "\n",
        "subtours =[] \n",
        "get_path_recursive(x_vars, 0, subtours)"
      ],
      "metadata": {
        "id": "5pdXGEfinaXf"
      },
      "execution_count": null,
      "outputs": []
    },
    {
      "cell_type": "code",
      "execution_count": null,
      "metadata": {
        "id": "taD22EMRgv-e"
      },
      "outputs": [],
      "source": [
        "# Método del barrido para generar soluciones iniciales\n",
        "import plotly.express as px\n",
        "import plotly.graph_objects as go\n",
        "\n",
        "def compute_angle_grad(point1,point2):\n",
        "    \"\"\"Compute the angle between two points in degrees\"\"\"\n",
        "    x1,y1 = point1\n",
        "    x2,y2 = point2\n",
        "    if np.arctan2(y2 - y1, x2 - x1) * 180 / np.pi < 0:\n",
        "        return 360 + np.arctan2(y2 - y1, x2 - x1) * 180 / np.pi\n",
        "    else:\n",
        "        return np.arctan2(y2 - y1, x2 - x1) * 180 / np.pi\n",
        "\n",
        "def plot_star_from_selected_points(x,y,starting_point):\n",
        "\n",
        "    fig = go.Figure()\n",
        "    fig.add_trace(go.Scatter(x=x, y=y, mode='markers', name='Clientes'))\n",
        "    fig.add_trace(go.Scatter(x=[x[starting_point]], y=[y[starting_point]], mode='markers', name='Depósito', marker_color='red'))\n",
        "    # draw the star from the selected point\n",
        "    for i in range(len(x)):\n",
        "        if i != starting_point:\n",
        "            fig.add_trace(go.Scatter(x=[x[starting_point], x[i]], y=[y[starting_point], y[i]], mode='lines',  line_color='green'))\n",
        "    fig.show()\n",
        "    \n",
        "plot_star_from_selected_points(x,y,3)\n"
      ]
    },
    {
      "cell_type": "code",
      "execution_count": null,
      "metadata": {
        "id": "g8WfwdD-m7IG"
      },
      "outputs": [],
      "source": [
        "\n",
        "    "
      ]
    },
    {
      "cell_type": "code",
      "execution_count": null,
      "metadata": {
        "id": "l05Zki8-gv-f"
      },
      "outputs": [],
      "source": [
        "def initial_solution_sweep_method(xs,ys,initial_point):\n",
        "    \"\"\"Compute the initial solution using the sweep method\"\"\"\n",
        "    # Compute the angles of the points with respect to the initial point\n",
        "    angles = []\n",
        "    for i in range(len(xs)):\n",
        "        angles.append(compute_angle_grad((xs[initial_point],ys[initial_point]),(xs[i],ys[i])))\n",
        "    # Sort the points with respect to the angle\n",
        "    sorted_points = sorted(zip(angles,range(len(xs))))\n",
        "    # Extract the order of the points\n",
        "    order = [point[1] for point in sorted_points]\n",
        "    return order\n",
        "\n",
        "\n",
        "def plot_solution(xs,ys,order):\n",
        "    \"\"\"Plot the solution\"\"\"\n",
        "    plt.figure(figsize=(10,10))\n",
        "    plt.plot(xs, ys, 'go',  markersize=5)\n",
        "    cont=0\n",
        "    for x, y in zip(xs, ys):\n",
        "        plt.text(x, y, str(cont), color=\"black\", fontsize=12)\n",
        "        cont+=1\n",
        "    plt.plot([xs[order[i]] for i in range(len(xs))]+[xs[order[0]]],[ys[order[i]] for i in range(len(xs))]+[ys[order[0]]],'r--')\n",
        "    plt.show()\n",
        "    \n",
        "\n",
        "    "
      ]
    },
    {
      "cell_type": "code",
      "execution_count": null,
      "metadata": {
        "id": "Tv5AWil6gv-f"
      },
      "outputs": [],
      "source": [
        "for i in range(12):\n",
        "  \n",
        "  print(\"Solución inicial con punto inicial\",i)\n",
        "  probar_solucion(initial_solution_sweep_method(x,y,i), distances)\n",
        "  plot_solution(x,y,initial_solution_sweep_method(x,y,i))"
      ]
    },
    {
      "cell_type": "code",
      "execution_count": null,
      "metadata": {
        "id": "3CN8B0R9mqc1"
      },
      "outputs": [],
      "source": [
        "theta={}\n",
        "base_node=0\n",
        "for i in range(1,len(x)):\n",
        "  theta[i]=compute_angle_grad((x[base_node],y[base_node]),(x[i],y[i]))\n",
        "\n",
        "print(\"Ángulos de los nodos respecto al nodo 0:\")\n",
        "print(theta)"
      ]
    },
    {
      "cell_type": "code",
      "execution_count": null,
      "metadata": {
        "id": "EAd6cnj_gv-g"
      },
      "outputs": [],
      "source": [
        "\n"
      ]
    },
    {
      "cell_type": "code",
      "execution_count": null,
      "metadata": {
        "id": "zhhCJMr9gv-h"
      },
      "outputs": [],
      "source": [
        "plot_solution(x,y,subtours)\n",
        "probar_solucion(subtours, distances)"
      ]
    },
    {
      "cell_type": "markdown",
      "metadata": {
        "id": "aDbSjwLagv-h"
      },
      "source": [
        "#### En el caso tal que la instancia a resolver sea muy grande es posible usar algoritmos heurísticos (por ejemplo la heurística LKH) o metaheurísticos para dar solución de manera aproximada al problema."
      ]
    },
    {
      "cell_type": "code",
      "execution_count": null,
      "metadata": {
        "id": "gg3S_UOKgv-h"
      },
      "outputs": [],
      "source": [
        "from copy import deepcopy\n",
        "from itertools import product\n",
        "# construct the solution using iterated local search\n",
        "def perturbation(sol):\n",
        "    \"\"\"Perturbation operator\"\"\"\n",
        "    # Select two random positions\n",
        "    pos1 = np.random.randint(0,len(sol))\n",
        "    pos2 = np.random.randint(0,len(sol))\n",
        "    # Swap the elements in the positions\n",
        "    sol[pos1],sol[pos2] = sol[pos2],sol[pos1]\n",
        "    return sol\n",
        "\n",
        "def generate_initial_sol(sol):\n",
        "    \"\"\"Generate an initial solution\"\"\"\n",
        "    # Generate a random permutation\n",
        "    sol = np.random.permutation(sol)\n",
        "    return sol\n",
        "\n",
        "def two_opt_operator(sol,distances):\n",
        "    \"\"\"2-opt operator\"\"\"\n",
        "    # Select two random positions\n",
        "    best_sol=deepcopy(sol)\n",
        "    improved=True\n",
        "    while(improved):\n",
        "        improved=False\n",
        "        for i in range(len(sol)):\n",
        "            for j in range(i+1,len(sol)):\n",
        "                if j-i==1:\n",
        "                    continue\n",
        "                new_sol=deepcopy(best_sol)\n",
        "                new_sol[i:j]=list(reversed(new_sol[i:j]))\n",
        "                if probar_solucion(new_sol,distances)<probar_solucion(best_sol,distances):\n",
        "                    best_sol=deepcopy(new_sol)\n",
        "                    improved=True\n",
        "    return best_sol\n",
        "\n",
        "        \n",
        "def compute_distances(x,y):\n",
        "    distances=np.array([[np.round(((x[i]-x[j])**2+(y[i]-y[j])**2)**(1/2.),2) for j in range(len(y)) ] for i in range(len(x))])\n",
        "    return distances\n",
        "    \n",
        "\n",
        "def iterated_local_search_TSP(x,y):\n",
        "    distances = compute_distances(x,y)\n",
        "    \n",
        "    best_sol = generate_initial_sol(range(len(x)))\n",
        "    best_f = probar_solucion(best_sol,distances)\n",
        "    \n",
        "    for i in range(len(x)):\n",
        "            sol = initial_solution_sweep_method(x,y,i)\n",
        "            f = probar_solucion(sol,distances)\n",
        "            if f<best_f:\n",
        "                best_f=f\n",
        "                best_sol=deepcopy(sol)\n",
        "                print(\"Solución inicial:\",best_f)    \n",
        "\n",
        "    no_improvement=0\n",
        "    while no_improvement<100:\n",
        "        \n",
        "        # Perturb the solution\n",
        "        sol = perturbation(deepcopy(best_sol))\n",
        "        # Apply the 2-opt operator\n",
        "        sol = two_opt_operator(sol,distances)\n",
        "        # Evaluate the solution\n",
        "        f = probar_solucion(sol,distances)\n",
        "        # If the solution is better, update the best solution\n",
        "        if f<best_f:\n",
        "            best_f=f\n",
        "            best_sol=deepcopy(sol)\n",
        "            no_improvement=0\n",
        "            print(\"Solución mejorada:\",best_f)\n",
        "        else:\n",
        "            no_improvement+=1\n",
        "    \n",
        "    return best_sol\n",
        "\n",
        "sol=iterated_local_search_TSP(x,y)\n",
        "print(\"Solución final:\",sol,' costo: ' ,probar_solucion(sol,distances))"
      ]
    }
  ],
  "metadata": {
    "colab": {
      "provenance": []
    },
    "kernelspec": {
      "display_name": "Python 3",
      "name": "python3"
    },
    "language_info": {
      "codemirror_mode": {
        "name": "ipython",
        "version": 3
      },
      "file_extension": ".py",
      "mimetype": "text/x-python",
      "name": "python",
      "nbconvert_exporter": "python",
      "pygments_lexer": "ipython3",
      "version": "3.9.12"
    }
  },
  "nbformat": 4,
  "nbformat_minor": 0
}