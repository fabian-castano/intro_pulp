{
 "cells": [
  {
   "attachments": {},
   "cell_type": "markdown",
   "metadata": {},
   "source": [
    "# Problema de localización de instalaciones"
   ]
  },
  {
   "attachments": {},
   "cell_type": "markdown",
   "metadata": {},
   "source": [
    "## Objetivo y Prerrequisitos\n",
    "En este ejemplo, resolveremos un problema de ubicación de instalaciones donde queremos construir almacenes para abastecer a un cierto número de hospitales. Construiremos un modelo de programación entera mixta (MIP) de este problema, implementaremos este modelo en la interfaz de Python de PuLP + Cbc y calcularemos una solución óptima.\n",
    "\n"
   ]
  },
  {
   "attachments": {},
   "cell_type": "markdown",
   "metadata": {},
   "source": [
    "## Motivación\n",
    "\n",
    "El estudio de los problemas de localización de instalaciones, también conocidos como análisis de ubicación [1], es una rama de la investigación de operaciones y la geometría computacional que se preocupa por la ubicación óptima de instalaciones para minimizar los costos ***e.g.*** de transporte, mientras se consideran factores como evitar colocar materiales peligrosos cerca de viviendas y la ubicación de las instalaciones de competidores.\n",
    "\n",
    "\n",
    "\n",
    "Los problemas de ubicación de instalaciones tienen aplicaciones en una amplia variedad de sectores e industrias. Por ejemplo, en la gestión de la cadena de suministro y la logística, este problema se puede utilizar para encontrar la ubicación óptima de tiendas, fábricas, almacenes, etc. Otras aplicaciones van desde la política pública (por ejemplo, la ubicación de policías, ambulancias u hospitales en una ciudad), las telecomunicaciones (por ejemplo, torres de celulares en una red) e incluso la física de partículas (por ejemplo, la distancia de separación entre cargas repulsivas). Otra aplicación del problema de ubicación de instalaciones es determinar las ubicaciones para el equipo de transmisión de gas natural. Finalmente, los problemas de ubicación de instalaciones se pueden aplicar al análisis de clústeres."
   ]
  },
  {
   "attachments": {},
   "cell_type": "markdown",
   "metadata": {},
   "source": [
    "## Descripción del problema\n",
    "\n",
    "Una red de hospitales en Colombia necesita construir almacenes para suministrar insumos médicos a sus sedes en el norte del país. Las ubicaciones de los hospitales ya han sido decididas, pero aún no se ha determinado la ubicación de los almacenes.\n",
    "\n",
    "Se han identificado varias ubicaciones potenciales para los almacenes, pero se deben tomar decisiones sobre cuántos almacenes abrir y en qué ubicaciones candidatas construirlos.\n",
    "\n",
    "Abrir muchos almacenes sería ventajoso, ya que esto reduciría la distancia promedio que un camión tendría que recorrer desde el almacén hasta el hospital, y por lo tanto, reduciría el costo de entrega. Sin embargo, la apertura de un almacén tiene un costo fijo asociado.\n",
    "\n",
    "En este ejemplo, nuestro objetivo es encontrar el equilibrio óptimo entre el costo de entrega y el costo de construir nuevas instalaciones."
   ]
  },
  {
   "attachments": {},
   "cell_type": "markdown",
   "metadata": {},
   "source": [
    "## Solución planteada\n",
    "\n",
    "La programación matemática es un enfoque declarativo en el que el modelador formula un modelo de optimización matemática que captura los aspectos clave de un problema de decisión complejo. El motoro de optimización, ---eg.--- Gurobi, CPLEX, SCIP, HIGHS, etx.,  resuelve tales modelos utilizando técnicas matemáticas-algrebáricas y algoritmos computacionales de última generación.\n",
    "\n",
    "Un modelo de optimización matemática tiene cinco componentes, a saber:\n",
    "\n",
    "* Conjuntos e índices.\n",
    "* Parámetros.\n",
    "* Variables de decisión.\n",
    "* Función(es) objetivo.\n",
    "* Restricciones.\n",
    "\n",
    "Presentamos a continuación una formulación MIP para el problema de ubicación de instalaciones.\n"
   ]
  },
  {
   "attachments": {},
   "cell_type": "markdown",
   "metadata": {},
   "source": [
    "## Formulación del Modelo\n",
    "\n",
    "### Conjuntos e Índices\n",
    "$i \\in I$: Índice y conjunto de ubicaciones de hospitales (o clientes).\n",
    "\n",
    "$j \\in J$: Índice y conjunto de ubicaciones candidatas de almacenes (o instalaciones).\n",
    "\n",
    "### Parámetros\n",
    "$f_{j} \\in \\mathbb{R}^+$: Costo fijo asociado con la construcción de la instalación $j \\in J$.\n",
    "\n",
    "$d_{i,j} \\in \\mathbb{R}^+$: Distancia entre la instalación $j \\in J$ y el cliente $i \\in I$.\n",
    "\n",
    "$c_{i,j} \\in \\mathbb{R}^+$: Costo de envío entre el sitio candidato de la instalación $j \\in J$ y la ubicación del cliente $i \\in I$. Se asume que este costo es proporcional a la distancia entre la instalación y el cliente. Es decir, $c_{i,j} = \\alpha \\cdot d_{i,j}$, donde $\\alpha$ es el costo por milla de conducción, ajustado para incorporar el número promedio de viajes que se esperaría que un camión de entrega realizara durante un período de cinco años.\n",
    "\n",
    "### Variables de Decisión\n",
    "$select_{j} \\in {0, 1 }$: Esta variable es igual a 1 si construimos una instalación en la ubicación candidata $j \\in J$; y 0 en caso contrario.\n",
    "\n",
    "$0 \\leq assign_{i,j} \\leq 1$: Esta variable continua no negativa determina la fracción de suministro recibida por el cliente $i \\in I$ de la instalación $j \\in J$.\n",
    "\n",
    "\n",
    "### Función Objetivo\n",
    "\n",
    "Costos totales. Queremos minimizar el costo total de abrir y operar las instalaciones. Esta es la suma del costo de abrir las instalaciones y el costo relacionado con el envío entre las instalaciones y los clientes. Este costo total mide el compromiso entre el costo de construir una nueva instalación y el costo total de envío durante un período de cinco años.\n",
    "\\begin{equation}\n",
    "\\text{Max} \\quad Z = \\sum_{j \\in J} f_{j} \\cdot select_{j} + \\sum_{j \\in J} \\sum_{i \\in I} c_{i,j} \\cdot assign_{i,j}\n",
    "\\tag{0}\n",
    "\\end{equation}\n",
    "\n",
    "### Restricciones\n",
    "#### Demanda.\n",
    "\n",
    " Para cada cliente $i \\in I$, aseguramos que se cumpla su demanda. Es decir, la suma de la fracción recibida de cada instalación para cada cliente debe ser igual a 1:\n",
    "\\begin{equation}\n",
    "\\sum_{j \\in J} assign_{i,j} = 1 \\quad \\forall i \\in I\n",
    "\\tag{1}\n",
    "\\end{equation}\n",
    "\n",
    "####  Envío. \n",
    "\n",
    "Debemos asegurarnos de que solo enviemos desde la instalación $j \\in J$ si esa instalación realmente ha sido construida.\n",
    "\\begin{equation}\n",
    "assign_{i,j} \\leq select_{j} \\quad \\forall i \\in I \\quad \\forall j \\in J\n",
    "\\tag{2}\n",
    "\\end{equation}"
   ]
  },
  {
   "attachments": {},
   "cell_type": "markdown",
   "metadata": {},
   "source": [
    "## Implementación Python \n",
    "\n",
    "Este ejemplo considera dos hospitales y nueve almacenes candidatos. Las coordenadas de cada hospital se proporcionan en la siguiente tabla.\n",
    "\n",
    "| <i></i> | Coordinates |  \n",
    "| --- | --- | \n",
    "| Hospital 1 | (0,1.5) |\n",
    "| Hospital 2 | (2.5,1.2) |\n",
    "\n",
    "La siguiente tabla muestra las coordenadas de los sitios de almacén candidatos y el costo fijo de construir el almacén en millones de UDS.\n",
    "\n",
    "| <i></i> | coordenadas | costo |\n",
    "| --- | --- |  --- |\n",
    "| Warehouse 1 | (0,0) | 3 |\n",
    "| Warehouse 2 | (0,1) | 2 |\n",
    "| Warehouse 3 | (0,2) | 3 |\n",
    "| Warehouse 4 | (1,0) | 1 |\n",
    "| Warehouse 5 | (1,1) | 3 | \n",
    "| Warehouse 6 | (1,2) | 3 |\n",
    "| Warehouse 7 | (2,0) | 4 |\n",
    "| Warehouse 8 | (2,1) | 3 |  \n",
    "| Warehouse 9 | (2,2) | 2 |\n",
    "\n",
    "\n",
    "El costo por Km es $\\$1$ millón USD.\n",
    "\n",
    "## Python Implementation\n",
    "\n",
    "Ahora importamos el módulo Pulp Python y otras bibliotecas de Python que nos ayudarán en la construcción del modelo. Luego, inicializaremos las estructuras de datos con los datos dados."
   ]
  },
  {
   "cell_type": "code",
   "execution_count": 46,
   "metadata": {},
   "outputs": [
    {
     "data": {
      "text/plain": [
       "[5, 5, 4, 3, 5, 1, 2, 2, 1, 5, 1, 3, 5, 3, 1, 2, 2, 2, 2, 2]"
      ]
     },
     "execution_count": 46,
     "metadata": {},
     "output_type": "execute_result"
    }
   ],
   "source": [
    "setup_cost = [np.random.randint(1, 6) for i in range(20)]\n",
    "setup_cost"
   ]
  },
  {
   "cell_type": "code",
   "execution_count": 47,
   "metadata": {},
   "outputs": [],
   "source": [
    "from itertools import product\n",
    "from math import sqrt\n",
    "\n",
    "import pulp as plp\n",
    "\n",
    "\n",
    "# tested with Gurobi v9.0.0 and Python 3.7.0\n",
    "\n",
    "# Parameters\n",
    "customers = [(0,1.5), \n",
    "             (2.5,1.2), \n",
    "             (2.5,2.5), \n",
    "             (1.5,2.5), \n",
    "             (0.5,2.5), \n",
    "             (0,0.5), \n",
    "             (2.5,0.5), \n",
    "             (2.5,2), \n",
    "             (1.5,2), \n",
    "             (0.5,2), \n",
    "             (0,1), \n",
    "             (2.5,1), \n",
    "             (2.5,1.5), \n",
    "             (1.5,1.5), \n",
    "             (0.5,1.5), \n",
    "             (0,0), \n",
    "             (2.5,0), \n",
    "             (2.5,0.5), \n",
    "             (1.5,0.5), \n",
    "             (0.5,0.5)]\n",
    "facilities = [(0.18, 1.02),\n",
    "            (0.6, 2.85),\n",
    "            (1.23, 0.84),\n",
    "            (0.63, 1.5),\n",
    "            (1.71, 1.74),\n",
    "            (0.24, 0.03),\n",
    "            (1.2, 2.28),\n",
    "            (0.42, 2.13),\n",
    "            (0.09, 2.49),\n",
    "            (1.62, 2.64),\n",
    "            (2.46, 0.39),\n",
    "            (1.83, 0.09),\n",
    "            (0.78, 1.68),\n",
    "            (2.76, 0.87),\n",
    "            (0.48, 1.86),\n",
    "            (1.86, 0.63),\n",
    "            (1.59, 2.7),\n",
    "            (2.04, 1.44),\n",
    "            (0.54, 1.89),\n",
    "            (0.06, 2.94)]\n",
    "setup_cost = [1, 4, 1, 4, 3, 4, 5, 3, 5, 1, 5, 1, 1, 2, 1, 4, 5, 2, 4, 1]\n",
    "cost_per_km = 1"
   ]
  },
  {
   "cell_type": "code",
   "execution_count": 48,
   "metadata": {},
   "outputs": [
    {
     "data": {
      "application/vnd.plotly.v1+json": {
       "config": {
        "plotlyServerURL": "https://plot.ly"
       },
       "data": [
        {
         "mode": "markers",
         "name": "Facilities",
         "type": "scatter",
         "x": [
          0.18,
          0.6,
          1.23,
          0.63,
          1.71,
          0.24,
          1.2,
          0.42,
          0.09,
          1.62,
          2.46,
          1.83,
          0.78,
          2.76,
          0.48,
          1.86,
          1.59,
          2.04,
          0.54,
          0.06
         ],
         "y": [
          1.02,
          2.85,
          0.84,
          1.5,
          1.74,
          0.03,
          2.28,
          2.13,
          2.49,
          2.64,
          0.39,
          0.09,
          1.68,
          0.87,
          1.86,
          0.63,
          2.7,
          1.44,
          1.89,
          2.94
         ]
        },
        {
         "mode": "markers",
         "name": "Hospital",
         "type": "scatter",
         "x": [
          0,
          2.5,
          2.5,
          1.5,
          0.5,
          0,
          2.5,
          2.5,
          1.5,
          0.5,
          0,
          2.5,
          2.5,
          1.5,
          0.5,
          0,
          2.5,
          2.5,
          1.5,
          0.5
         ],
         "y": [
          1.5,
          1.2,
          2.5,
          2.5,
          2.5,
          0.5,
          0.5,
          2,
          2,
          2,
          1,
          1,
          1.5,
          1.5,
          1.5,
          0,
          0,
          0.5,
          0.5,
          0.5
         ]
        }
       ],
       "layout": {
        "template": {
         "data": {
          "bar": [
           {
            "error_x": {
             "color": "#2a3f5f"
            },
            "error_y": {
             "color": "#2a3f5f"
            },
            "marker": {
             "line": {
              "color": "#E5ECF6",
              "width": 0.5
             },
             "pattern": {
              "fillmode": "overlay",
              "size": 10,
              "solidity": 0.2
             }
            },
            "type": "bar"
           }
          ],
          "barpolar": [
           {
            "marker": {
             "line": {
              "color": "#E5ECF6",
              "width": 0.5
             },
             "pattern": {
              "fillmode": "overlay",
              "size": 10,
              "solidity": 0.2
             }
            },
            "type": "barpolar"
           }
          ],
          "carpet": [
           {
            "aaxis": {
             "endlinecolor": "#2a3f5f",
             "gridcolor": "white",
             "linecolor": "white",
             "minorgridcolor": "white",
             "startlinecolor": "#2a3f5f"
            },
            "baxis": {
             "endlinecolor": "#2a3f5f",
             "gridcolor": "white",
             "linecolor": "white",
             "minorgridcolor": "white",
             "startlinecolor": "#2a3f5f"
            },
            "type": "carpet"
           }
          ],
          "choropleth": [
           {
            "colorbar": {
             "outlinewidth": 0,
             "ticks": ""
            },
            "type": "choropleth"
           }
          ],
          "contour": [
           {
            "colorbar": {
             "outlinewidth": 0,
             "ticks": ""
            },
            "colorscale": [
             [
              0,
              "#0d0887"
             ],
             [
              0.1111111111111111,
              "#46039f"
             ],
             [
              0.2222222222222222,
              "#7201a8"
             ],
             [
              0.3333333333333333,
              "#9c179e"
             ],
             [
              0.4444444444444444,
              "#bd3786"
             ],
             [
              0.5555555555555556,
              "#d8576b"
             ],
             [
              0.6666666666666666,
              "#ed7953"
             ],
             [
              0.7777777777777778,
              "#fb9f3a"
             ],
             [
              0.8888888888888888,
              "#fdca26"
             ],
             [
              1,
              "#f0f921"
             ]
            ],
            "type": "contour"
           }
          ],
          "contourcarpet": [
           {
            "colorbar": {
             "outlinewidth": 0,
             "ticks": ""
            },
            "type": "contourcarpet"
           }
          ],
          "heatmap": [
           {
            "colorbar": {
             "outlinewidth": 0,
             "ticks": ""
            },
            "colorscale": [
             [
              0,
              "#0d0887"
             ],
             [
              0.1111111111111111,
              "#46039f"
             ],
             [
              0.2222222222222222,
              "#7201a8"
             ],
             [
              0.3333333333333333,
              "#9c179e"
             ],
             [
              0.4444444444444444,
              "#bd3786"
             ],
             [
              0.5555555555555556,
              "#d8576b"
             ],
             [
              0.6666666666666666,
              "#ed7953"
             ],
             [
              0.7777777777777778,
              "#fb9f3a"
             ],
             [
              0.8888888888888888,
              "#fdca26"
             ],
             [
              1,
              "#f0f921"
             ]
            ],
            "type": "heatmap"
           }
          ],
          "heatmapgl": [
           {
            "colorbar": {
             "outlinewidth": 0,
             "ticks": ""
            },
            "colorscale": [
             [
              0,
              "#0d0887"
             ],
             [
              0.1111111111111111,
              "#46039f"
             ],
             [
              0.2222222222222222,
              "#7201a8"
             ],
             [
              0.3333333333333333,
              "#9c179e"
             ],
             [
              0.4444444444444444,
              "#bd3786"
             ],
             [
              0.5555555555555556,
              "#d8576b"
             ],
             [
              0.6666666666666666,
              "#ed7953"
             ],
             [
              0.7777777777777778,
              "#fb9f3a"
             ],
             [
              0.8888888888888888,
              "#fdca26"
             ],
             [
              1,
              "#f0f921"
             ]
            ],
            "type": "heatmapgl"
           }
          ],
          "histogram": [
           {
            "marker": {
             "pattern": {
              "fillmode": "overlay",
              "size": 10,
              "solidity": 0.2
             }
            },
            "type": "histogram"
           }
          ],
          "histogram2d": [
           {
            "colorbar": {
             "outlinewidth": 0,
             "ticks": ""
            },
            "colorscale": [
             [
              0,
              "#0d0887"
             ],
             [
              0.1111111111111111,
              "#46039f"
             ],
             [
              0.2222222222222222,
              "#7201a8"
             ],
             [
              0.3333333333333333,
              "#9c179e"
             ],
             [
              0.4444444444444444,
              "#bd3786"
             ],
             [
              0.5555555555555556,
              "#d8576b"
             ],
             [
              0.6666666666666666,
              "#ed7953"
             ],
             [
              0.7777777777777778,
              "#fb9f3a"
             ],
             [
              0.8888888888888888,
              "#fdca26"
             ],
             [
              1,
              "#f0f921"
             ]
            ],
            "type": "histogram2d"
           }
          ],
          "histogram2dcontour": [
           {
            "colorbar": {
             "outlinewidth": 0,
             "ticks": ""
            },
            "colorscale": [
             [
              0,
              "#0d0887"
             ],
             [
              0.1111111111111111,
              "#46039f"
             ],
             [
              0.2222222222222222,
              "#7201a8"
             ],
             [
              0.3333333333333333,
              "#9c179e"
             ],
             [
              0.4444444444444444,
              "#bd3786"
             ],
             [
              0.5555555555555556,
              "#d8576b"
             ],
             [
              0.6666666666666666,
              "#ed7953"
             ],
             [
              0.7777777777777778,
              "#fb9f3a"
             ],
             [
              0.8888888888888888,
              "#fdca26"
             ],
             [
              1,
              "#f0f921"
             ]
            ],
            "type": "histogram2dcontour"
           }
          ],
          "mesh3d": [
           {
            "colorbar": {
             "outlinewidth": 0,
             "ticks": ""
            },
            "type": "mesh3d"
           }
          ],
          "parcoords": [
           {
            "line": {
             "colorbar": {
              "outlinewidth": 0,
              "ticks": ""
             }
            },
            "type": "parcoords"
           }
          ],
          "pie": [
           {
            "automargin": true,
            "type": "pie"
           }
          ],
          "scatter": [
           {
            "fillpattern": {
             "fillmode": "overlay",
             "size": 10,
             "solidity": 0.2
            },
            "type": "scatter"
           }
          ],
          "scatter3d": [
           {
            "line": {
             "colorbar": {
              "outlinewidth": 0,
              "ticks": ""
             }
            },
            "marker": {
             "colorbar": {
              "outlinewidth": 0,
              "ticks": ""
             }
            },
            "type": "scatter3d"
           }
          ],
          "scattercarpet": [
           {
            "marker": {
             "colorbar": {
              "outlinewidth": 0,
              "ticks": ""
             }
            },
            "type": "scattercarpet"
           }
          ],
          "scattergeo": [
           {
            "marker": {
             "colorbar": {
              "outlinewidth": 0,
              "ticks": ""
             }
            },
            "type": "scattergeo"
           }
          ],
          "scattergl": [
           {
            "marker": {
             "colorbar": {
              "outlinewidth": 0,
              "ticks": ""
             }
            },
            "type": "scattergl"
           }
          ],
          "scattermapbox": [
           {
            "marker": {
             "colorbar": {
              "outlinewidth": 0,
              "ticks": ""
             }
            },
            "type": "scattermapbox"
           }
          ],
          "scatterpolar": [
           {
            "marker": {
             "colorbar": {
              "outlinewidth": 0,
              "ticks": ""
             }
            },
            "type": "scatterpolar"
           }
          ],
          "scatterpolargl": [
           {
            "marker": {
             "colorbar": {
              "outlinewidth": 0,
              "ticks": ""
             }
            },
            "type": "scatterpolargl"
           }
          ],
          "scatterternary": [
           {
            "marker": {
             "colorbar": {
              "outlinewidth": 0,
              "ticks": ""
             }
            },
            "type": "scatterternary"
           }
          ],
          "surface": [
           {
            "colorbar": {
             "outlinewidth": 0,
             "ticks": ""
            },
            "colorscale": [
             [
              0,
              "#0d0887"
             ],
             [
              0.1111111111111111,
              "#46039f"
             ],
             [
              0.2222222222222222,
              "#7201a8"
             ],
             [
              0.3333333333333333,
              "#9c179e"
             ],
             [
              0.4444444444444444,
              "#bd3786"
             ],
             [
              0.5555555555555556,
              "#d8576b"
             ],
             [
              0.6666666666666666,
              "#ed7953"
             ],
             [
              0.7777777777777778,
              "#fb9f3a"
             ],
             [
              0.8888888888888888,
              "#fdca26"
             ],
             [
              1,
              "#f0f921"
             ]
            ],
            "type": "surface"
           }
          ],
          "table": [
           {
            "cells": {
             "fill": {
              "color": "#EBF0F8"
             },
             "line": {
              "color": "white"
             }
            },
            "header": {
             "fill": {
              "color": "#C8D4E3"
             },
             "line": {
              "color": "white"
             }
            },
            "type": "table"
           }
          ]
         },
         "layout": {
          "annotationdefaults": {
           "arrowcolor": "#2a3f5f",
           "arrowhead": 0,
           "arrowwidth": 1
          },
          "autotypenumbers": "strict",
          "coloraxis": {
           "colorbar": {
            "outlinewidth": 0,
            "ticks": ""
           }
          },
          "colorscale": {
           "diverging": [
            [
             0,
             "#8e0152"
            ],
            [
             0.1,
             "#c51b7d"
            ],
            [
             0.2,
             "#de77ae"
            ],
            [
             0.3,
             "#f1b6da"
            ],
            [
             0.4,
             "#fde0ef"
            ],
            [
             0.5,
             "#f7f7f7"
            ],
            [
             0.6,
             "#e6f5d0"
            ],
            [
             0.7,
             "#b8e186"
            ],
            [
             0.8,
             "#7fbc41"
            ],
            [
             0.9,
             "#4d9221"
            ],
            [
             1,
             "#276419"
            ]
           ],
           "sequential": [
            [
             0,
             "#0d0887"
            ],
            [
             0.1111111111111111,
             "#46039f"
            ],
            [
             0.2222222222222222,
             "#7201a8"
            ],
            [
             0.3333333333333333,
             "#9c179e"
            ],
            [
             0.4444444444444444,
             "#bd3786"
            ],
            [
             0.5555555555555556,
             "#d8576b"
            ],
            [
             0.6666666666666666,
             "#ed7953"
            ],
            [
             0.7777777777777778,
             "#fb9f3a"
            ],
            [
             0.8888888888888888,
             "#fdca26"
            ],
            [
             1,
             "#f0f921"
            ]
           ],
           "sequentialminus": [
            [
             0,
             "#0d0887"
            ],
            [
             0.1111111111111111,
             "#46039f"
            ],
            [
             0.2222222222222222,
             "#7201a8"
            ],
            [
             0.3333333333333333,
             "#9c179e"
            ],
            [
             0.4444444444444444,
             "#bd3786"
            ],
            [
             0.5555555555555556,
             "#d8576b"
            ],
            [
             0.6666666666666666,
             "#ed7953"
            ],
            [
             0.7777777777777778,
             "#fb9f3a"
            ],
            [
             0.8888888888888888,
             "#fdca26"
            ],
            [
             1,
             "#f0f921"
            ]
           ]
          },
          "colorway": [
           "#636efa",
           "#EF553B",
           "#00cc96",
           "#ab63fa",
           "#FFA15A",
           "#19d3f3",
           "#FF6692",
           "#B6E880",
           "#FF97FF",
           "#FECB52"
          ],
          "font": {
           "color": "#2a3f5f"
          },
          "geo": {
           "bgcolor": "white",
           "lakecolor": "white",
           "landcolor": "#E5ECF6",
           "showlakes": true,
           "showland": true,
           "subunitcolor": "white"
          },
          "hoverlabel": {
           "align": "left"
          },
          "hovermode": "closest",
          "mapbox": {
           "style": "light"
          },
          "paper_bgcolor": "white",
          "plot_bgcolor": "#E5ECF6",
          "polar": {
           "angularaxis": {
            "gridcolor": "white",
            "linecolor": "white",
            "ticks": ""
           },
           "bgcolor": "#E5ECF6",
           "radialaxis": {
            "gridcolor": "white",
            "linecolor": "white",
            "ticks": ""
           }
          },
          "scene": {
           "xaxis": {
            "backgroundcolor": "#E5ECF6",
            "gridcolor": "white",
            "gridwidth": 2,
            "linecolor": "white",
            "showbackground": true,
            "ticks": "",
            "zerolinecolor": "white"
           },
           "yaxis": {
            "backgroundcolor": "#E5ECF6",
            "gridcolor": "white",
            "gridwidth": 2,
            "linecolor": "white",
            "showbackground": true,
            "ticks": "",
            "zerolinecolor": "white"
           },
           "zaxis": {
            "backgroundcolor": "#E5ECF6",
            "gridcolor": "white",
            "gridwidth": 2,
            "linecolor": "white",
            "showbackground": true,
            "ticks": "",
            "zerolinecolor": "white"
           }
          },
          "shapedefaults": {
           "line": {
            "color": "#2a3f5f"
           }
          },
          "ternary": {
           "aaxis": {
            "gridcolor": "white",
            "linecolor": "white",
            "ticks": ""
           },
           "baxis": {
            "gridcolor": "white",
            "linecolor": "white",
            "ticks": ""
           },
           "bgcolor": "#E5ECF6",
           "caxis": {
            "gridcolor": "white",
            "linecolor": "white",
            "ticks": ""
           }
          },
          "title": {
           "x": 0.05
          },
          "xaxis": {
           "automargin": true,
           "gridcolor": "white",
           "linecolor": "white",
           "ticks": "",
           "title": {
            "standoff": 15
           },
           "zerolinecolor": "white",
           "zerolinewidth": 2
          },
          "yaxis": {
           "automargin": true,
           "gridcolor": "white",
           "linecolor": "white",
           "ticks": "",
           "title": {
            "standoff": 15
           },
           "zerolinecolor": "white",
           "zerolinewidth": 2
          }
         }
        },
        "title": {
         "text": "Facilities and hospitals"
        },
        "xaxis": {
         "title": {
          "text": "x"
         }
        },
        "yaxis": {
         "title": {
          "text": "y"
         }
        }
       }
      }
     },
     "metadata": {},
     "output_type": "display_data"
    }
   ],
   "source": [
    "import plotly.express as px\n",
    "import plotly.graph_objects as go\n",
    "\n",
    "# Plot the problem configuration (facilities and customers)\n",
    "fig = go.Figure()\n",
    "fig.add_trace(go.Scatter(x=[x for x,y in facilities], y=[y for x,y in facilities], mode='markers', name='Facilities'))\n",
    "fig.add_trace(go.Scatter(x=[x for x,y in customers], y=[y for x,y in customers], mode='markers', name='Hospital'))\n",
    "fig.update_layout(title='Facilities and hospitals', xaxis_title='x', yaxis_title='y')\n",
    "fig.show()"
   ]
  },
  {
   "attachments": {},
   "cell_type": "markdown",
   "metadata": {},
   "source": [
    "### Preprocesamiento\n",
    "Definimos una función que determina la distancia euclidiana entre cada instalación y los sitios de los clientes. Además, calculamos los parámetros clave requeridos por la formulación del modelo MIP del problema de ubicación de la instalación."
   ]
  },
  {
   "cell_type": "code",
   "execution_count": 49,
   "metadata": {},
   "outputs": [],
   "source": [
    "# Determina la distancia euclidiana entre la bodega seleccionalada y los clientes\n",
    "\n",
    "def compute_distance(loc1, loc2):\n",
    "    dx = loc1[0] - loc2[0]\n",
    "    dy = loc1[1] - loc2[1]\n",
    "    return sqrt(dx*dx + dy*dy)\n",
    "\n",
    "\n",
    "# computamos algunos parámetros auxiliares que se necesitán para construir el modelo MIP\n",
    "\n",
    "num_facilities = len(facilities)\n",
    "num_customers = len(customers)\n",
    "cartesian_prod = list(product(range(num_customers), range(num_facilities)))\n",
    "\n",
    "# Computamos los costos de envío\n",
    "\n",
    "shipping_cost = {(c,f): cost_per_km*compute_distance(customers[c], facilities[f]) for c, f in cartesian_prod}\n",
    "\n"
   ]
  },
  {
   "attachments": {},
   "cell_type": "markdown",
   "metadata": {},
   "source": [
    "## Despliegue del modelo\n",
    "\n",
    "Ahora definimos el modelo MIP para el problema de ubicación de instalaciones, mediante la definición de las variables de decisión, restricciones y función objetivo. A continuación, iniciamos el proceso de optimización y Gurobi encuentra el plan para construir instalaciones que minimiza los costos totales."
   ]
  },
  {
   "cell_type": "code",
   "execution_count": 50,
   "metadata": {
    "scrolled": true
   },
   "outputs": [],
   "source": [
    "import pulp as pl\n",
    "from itertools import product\n",
    "\n",
    "# MIP model formulation\n",
    "m = pl.LpProblem('facility_location', pl.LpMinimize)\n",
    "\n",
    "select = pl.LpVariable.dicts('Select', range(num_facilities), lowBound=0, upBound=1, cat='Binary')\n",
    "assign = pl.LpVariable.dicts('Assign', cartesian_prod, lowBound=0, upBound=1, cat='Continuous')\n",
    "\n",
    "\n"
   ]
  },
  {
   "cell_type": "code",
   "execution_count": 51,
   "metadata": {},
   "outputs": [],
   "source": [
    "for c,f in cartesian_prod:\n",
    "     m += assign[(c,f)] <= select[f]\n",
    "      \n",
    "for c in range(num_customers):     \n",
    "     m += pl.lpSum([assign[(c,f)] for f in range(num_facilities)]) == 1 "
   ]
  },
  {
   "cell_type": "code",
   "execution_count": 52,
   "metadata": {},
   "outputs": [],
   "source": [
    "openings = pl.lpSum([select[f] for f in range(num_facilities)])\n",
    "m+=openings "
   ]
  },
  {
   "cell_type": "code",
   "execution_count": 53,
   "metadata": {},
   "outputs": [
    {
     "name": "stdout",
     "output_type": "stream",
     "text": [
      "Welcome to the CBC MILP Solver \n",
      "Version: 2.10.3 \n",
      "Build Date: Dec 15 2019 \n",
      "\n",
      "command line - /Users/user/opt/anaconda3/envs/apricot-env/lib/python3.9/site-packages/pulp/solverdir/cbc/osx/64/cbc /var/folders/xc/t5gbnt3n5sq5bkg65xw9f1g00000gn/T/2131ff318d2f4ef8b46747b322168f66-pulp.mps timeMode elapsed branch printingOptions all solution /var/folders/xc/t5gbnt3n5sq5bkg65xw9f1g00000gn/T/2131ff318d2f4ef8b46747b322168f66-pulp.sol (default strategy 1)\n",
      "At line 2 NAME          MODEL\n",
      "At line 3 ROWS\n",
      "At line 425 COLUMNS\n",
      "At line 2086 RHS\n",
      "At line 2507 BOUNDS\n",
      "At line 2928 ENDATA\n",
      "Problem MODEL has 420 rows, 420 columns and 1200 elements\n",
      "Coin0008I MODEL read with 0 errors\n",
      "Option for timeMode changed from cpu to elapsed\n",
      "Continuous objective value is 17.1994 - 0.00 seconds\n",
      "Cgl0004I processed model has 420 rows, 420 columns (20 integer (20 of which binary)) and 1200 elements\n",
      "Cbc0038I Initial state - 0 integers unsatisfied sum - 0\n",
      "Cbc0038I Solution found of 17.1994\n",
      "Cbc0038I Relaxing continuous gives 17.1994\n",
      "Cbc0038I Before mini branch and bound, 20 integers at bound fixed and 400 continuous\n",
      "Cbc0038I Mini branch and bound did not improve solution (0.02 seconds)\n",
      "Cbc0038I After 0.02 seconds - Feasibility pump exiting with objective of 17.1994 - took 0.00 seconds\n",
      "Cbc0012I Integer solution of 17.199433 found by feasibility pump after 0 iterations and 0 nodes (0.02 seconds)\n",
      "Cbc0001I Search completed - best objective 17.1994330263647, took 0 iterations and 0 nodes (0.02 seconds)\n",
      "Cbc0035I Maximum depth 0, 0 variables fixed on reduced cost\n",
      "Cuts at root node changed objective from 17.1994 to 17.1994\n",
      "Probing was tried 0 times and created 0 cuts of which 0 were active after adding rounds of cuts (0.000 seconds)\n",
      "Gomory was tried 0 times and created 0 cuts of which 0 were active after adding rounds of cuts (0.000 seconds)\n",
      "Knapsack was tried 0 times and created 0 cuts of which 0 were active after adding rounds of cuts (0.000 seconds)\n",
      "Clique was tried 0 times and created 0 cuts of which 0 were active after adding rounds of cuts (0.000 seconds)\n",
      "MixedIntegerRounding2 was tried 0 times and created 0 cuts of which 0 were active after adding rounds of cuts (0.000 seconds)\n",
      "FlowCover was tried 0 times and created 0 cuts of which 0 were active after adding rounds of cuts (0.000 seconds)\n",
      "TwoMirCuts was tried 0 times and created 0 cuts of which 0 were active after adding rounds of cuts (0.000 seconds)\n",
      "ZeroHalf was tried 0 times and created 0 cuts of which 0 were active after adding rounds of cuts (0.000 seconds)\n",
      "\n",
      "Result - Optimal solution found\n",
      "\n",
      "Objective value:                17.19943303\n",
      "Enumerated nodes:               0\n",
      "Total iterations:               0\n",
      "Time (CPU seconds):             0.01\n",
      "Time (Wallclock seconds):       0.03\n",
      "\n",
      "Option for printingOptions changed from normal to all\n",
      "Total time (CPU seconds):       0.01   (Wallclock seconds):       0.04\n",
      "\n"
     ]
    },
    {
     "name": "stderr",
     "output_type": "stream",
     "text": [
      "/Users/user/opt/anaconda3/envs/apricot-env/lib/python3.9/site-packages/pulp/pulp.py:1704: UserWarning:\n",
      "\n",
      "Overwriting previously set objective.\n",
      "\n"
     ]
    },
    {
     "data": {
      "text/plain": [
       "1"
      ]
     },
     "execution_count": 53,
     "metadata": {},
     "output_type": "execute_result"
    }
   ],
   "source": [
    "m += pl.lpSum([select[f]*setup_cost[f] for f in range(num_facilities)]) + \\\n",
    "     pl.lpSum([assign[(c,f)]*shipping_cost[(c,f)] for (c,f) in cartesian_prod])\n",
    "               \n",
    "m.solve()"
   ]
  },
  {
   "attachments": {},
   "cell_type": "markdown",
   "metadata": {},
   "source": [
    "## Análisis\n",
    "El resultado del modelo de optimización muestra que el valor mínimo del costo total es de 4.72 millones de GBP. Veamos la solución que logra ese resultado óptimo.\n",
    "\n",
    "## Plan de construcción de almacenes\n",
    "Este plan determina en qué ubicaciones de sitios construir un almacén."
   ]
  },
  {
   "cell_type": "code",
   "execution_count": 54,
   "metadata": {},
   "outputs": [
    {
     "name": "stdout",
     "output_type": "stream",
     "text": [
      "Select_0 = 1.0\n",
      "Select_2 = 1.0\n",
      "Select_9 = 1.0\n",
      "Select_13 = 1.0\n",
      "Select_14 = 1.0\n",
      "Assign_(0,_0) = 1.0\n",
      "Assign_(1,_13) = 1.0\n",
      "Assign_(2,_9) = 1.0\n",
      "Assign_(3,_9) = 1.0\n",
      "Assign_(4,_14) = 1.0\n",
      "Assign_(5,_0) = 1.0\n",
      "Assign_(6,_13) = 1.0\n",
      "Assign_(7,_9) = 1.0\n",
      "Assign_(8,_9) = 1.0\n",
      "Assign_(9,_14) = 1.0\n",
      "Assign_(10,_0) = 1.0\n",
      "Assign_(11,_13) = 1.0\n",
      "Assign_(12,_13) = 1.0\n",
      "Assign_(13,_2) = 1.0\n",
      "Assign_(14,_14) = 1.0\n",
      "Assign_(15,_0) = 1.0\n",
      "Assign_(16,_13) = 1.0\n",
      "Assign_(17,_13) = 1.0\n",
      "Assign_(18,_2) = 1.0\n",
      "Assign_(19,_0) = 1.0\n"
     ]
    }
   ],
   "source": [
    "# display optimal values of decision variables using pulp notation\n",
    "\n",
    "for k in select:\n",
    "    if select[k].varValue > 0:\n",
    "        print(select[k].name, '=', select[k].varValue)\n",
    "\n",
    "for k in assign:\n",
    "    if assign[k].varValue > 0:\n",
    "        print(assign[k].name, '=', assign[k].varValue)"
   ]
  },
  {
   "cell_type": "code",
   "execution_count": 55,
   "metadata": {},
   "outputs": [
    {
     "data": {
      "application/vnd.plotly.v1+json": {
       "config": {
        "plotlyServerURL": "https://plot.ly"
       },
       "data": [
        {
         "mode": "markers",
         "name": "Facilities",
         "type": "scatter",
         "x": [
          0.18,
          0.6,
          1.23,
          0.63,
          1.71,
          0.24,
          1.2,
          0.42,
          0.09,
          1.62,
          2.46,
          1.83,
          0.78,
          2.76,
          0.48,
          1.86,
          1.59,
          2.04,
          0.54,
          0.06
         ],
         "y": [
          1.02,
          2.85,
          0.84,
          1.5,
          1.74,
          0.03,
          2.28,
          2.13,
          2.49,
          2.64,
          0.39,
          0.09,
          1.68,
          0.87,
          1.86,
          0.63,
          2.7,
          1.44,
          1.89,
          2.94
         ]
        },
        {
         "mode": "markers",
         "name": "Hospitals",
         "type": "scatter",
         "x": [
          0,
          2.5,
          2.5,
          1.5,
          0.5,
          0,
          2.5,
          2.5,
          1.5,
          0.5,
          0,
          2.5,
          2.5,
          1.5,
          0.5,
          0,
          2.5,
          2.5,
          1.5,
          0.5
         ],
         "y": [
          1.5,
          1.2,
          2.5,
          2.5,
          2.5,
          0.5,
          0.5,
          2,
          2,
          2,
          1,
          1,
          1.5,
          1.5,
          1.5,
          0,
          0,
          0.5,
          0.5,
          0.5
         ]
        },
        {
         "line": {
          "color": "gray",
          "width": 1
         },
         "mode": "lines",
         "showlegend": false,
         "type": "scatter",
         "x": [
          0,
          0.18
         ],
         "y": [
          1.5,
          1.02
         ]
        },
        {
         "line": {
          "color": "gray",
          "width": 1
         },
         "mode": "lines",
         "showlegend": false,
         "type": "scatter",
         "x": [
          2.5,
          2.76
         ],
         "y": [
          1.2,
          0.87
         ]
        },
        {
         "line": {
          "color": "gray",
          "width": 1
         },
         "mode": "lines",
         "showlegend": false,
         "type": "scatter",
         "x": [
          2.5,
          1.62
         ],
         "y": [
          2.5,
          2.64
         ]
        },
        {
         "line": {
          "color": "gray",
          "width": 1
         },
         "mode": "lines",
         "showlegend": false,
         "type": "scatter",
         "x": [
          1.5,
          1.62
         ],
         "y": [
          2.5,
          2.64
         ]
        },
        {
         "line": {
          "color": "gray",
          "width": 1
         },
         "mode": "lines",
         "showlegend": false,
         "type": "scatter",
         "x": [
          0.5,
          0.48
         ],
         "y": [
          2.5,
          1.86
         ]
        },
        {
         "line": {
          "color": "gray",
          "width": 1
         },
         "mode": "lines",
         "showlegend": false,
         "type": "scatter",
         "x": [
          0,
          0.18
         ],
         "y": [
          0.5,
          1.02
         ]
        },
        {
         "line": {
          "color": "gray",
          "width": 1
         },
         "mode": "lines",
         "showlegend": false,
         "type": "scatter",
         "x": [
          2.5,
          2.76
         ],
         "y": [
          0.5,
          0.87
         ]
        },
        {
         "line": {
          "color": "gray",
          "width": 1
         },
         "mode": "lines",
         "showlegend": false,
         "type": "scatter",
         "x": [
          2.5,
          1.62
         ],
         "y": [
          2,
          2.64
         ]
        },
        {
         "line": {
          "color": "gray",
          "width": 1
         },
         "mode": "lines",
         "showlegend": false,
         "type": "scatter",
         "x": [
          1.5,
          1.62
         ],
         "y": [
          2,
          2.64
         ]
        },
        {
         "line": {
          "color": "gray",
          "width": 1
         },
         "mode": "lines",
         "showlegend": false,
         "type": "scatter",
         "x": [
          0.5,
          0.48
         ],
         "y": [
          2,
          1.86
         ]
        },
        {
         "line": {
          "color": "gray",
          "width": 1
         },
         "mode": "lines",
         "showlegend": false,
         "type": "scatter",
         "x": [
          0,
          0.18
         ],
         "y": [
          1,
          1.02
         ]
        },
        {
         "line": {
          "color": "gray",
          "width": 1
         },
         "mode": "lines",
         "showlegend": false,
         "type": "scatter",
         "x": [
          2.5,
          2.76
         ],
         "y": [
          1,
          0.87
         ]
        },
        {
         "line": {
          "color": "gray",
          "width": 1
         },
         "mode": "lines",
         "showlegend": false,
         "type": "scatter",
         "x": [
          2.5,
          2.76
         ],
         "y": [
          1.5,
          0.87
         ]
        },
        {
         "line": {
          "color": "gray",
          "width": 1
         },
         "mode": "lines",
         "showlegend": false,
         "type": "scatter",
         "x": [
          1.5,
          1.23
         ],
         "y": [
          1.5,
          0.84
         ]
        },
        {
         "line": {
          "color": "gray",
          "width": 1
         },
         "mode": "lines",
         "showlegend": false,
         "type": "scatter",
         "x": [
          0.5,
          0.48
         ],
         "y": [
          1.5,
          1.86
         ]
        },
        {
         "line": {
          "color": "gray",
          "width": 1
         },
         "mode": "lines",
         "showlegend": false,
         "type": "scatter",
         "x": [
          0,
          0.18
         ],
         "y": [
          0,
          1.02
         ]
        },
        {
         "line": {
          "color": "gray",
          "width": 1
         },
         "mode": "lines",
         "showlegend": false,
         "type": "scatter",
         "x": [
          2.5,
          2.76
         ],
         "y": [
          0,
          0.87
         ]
        },
        {
         "line": {
          "color": "gray",
          "width": 1
         },
         "mode": "lines",
         "showlegend": false,
         "type": "scatter",
         "x": [
          2.5,
          2.76
         ],
         "y": [
          0.5,
          0.87
         ]
        },
        {
         "line": {
          "color": "gray",
          "width": 1
         },
         "mode": "lines",
         "showlegend": false,
         "type": "scatter",
         "x": [
          1.5,
          1.23
         ],
         "y": [
          0.5,
          0.84
         ]
        },
        {
         "line": {
          "color": "gray",
          "width": 1
         },
         "mode": "lines",
         "showlegend": false,
         "type": "scatter",
         "x": [
          0.5,
          0.18
         ],
         "y": [
          0.5,
          1.02
         ]
        }
       ],
       "layout": {
        "template": {
         "data": {
          "bar": [
           {
            "error_x": {
             "color": "#2a3f5f"
            },
            "error_y": {
             "color": "#2a3f5f"
            },
            "marker": {
             "line": {
              "color": "#E5ECF6",
              "width": 0.5
             },
             "pattern": {
              "fillmode": "overlay",
              "size": 10,
              "solidity": 0.2
             }
            },
            "type": "bar"
           }
          ],
          "barpolar": [
           {
            "marker": {
             "line": {
              "color": "#E5ECF6",
              "width": 0.5
             },
             "pattern": {
              "fillmode": "overlay",
              "size": 10,
              "solidity": 0.2
             }
            },
            "type": "barpolar"
           }
          ],
          "carpet": [
           {
            "aaxis": {
             "endlinecolor": "#2a3f5f",
             "gridcolor": "white",
             "linecolor": "white",
             "minorgridcolor": "white",
             "startlinecolor": "#2a3f5f"
            },
            "baxis": {
             "endlinecolor": "#2a3f5f",
             "gridcolor": "white",
             "linecolor": "white",
             "minorgridcolor": "white",
             "startlinecolor": "#2a3f5f"
            },
            "type": "carpet"
           }
          ],
          "choropleth": [
           {
            "colorbar": {
             "outlinewidth": 0,
             "ticks": ""
            },
            "type": "choropleth"
           }
          ],
          "contour": [
           {
            "colorbar": {
             "outlinewidth": 0,
             "ticks": ""
            },
            "colorscale": [
             [
              0,
              "#0d0887"
             ],
             [
              0.1111111111111111,
              "#46039f"
             ],
             [
              0.2222222222222222,
              "#7201a8"
             ],
             [
              0.3333333333333333,
              "#9c179e"
             ],
             [
              0.4444444444444444,
              "#bd3786"
             ],
             [
              0.5555555555555556,
              "#d8576b"
             ],
             [
              0.6666666666666666,
              "#ed7953"
             ],
             [
              0.7777777777777778,
              "#fb9f3a"
             ],
             [
              0.8888888888888888,
              "#fdca26"
             ],
             [
              1,
              "#f0f921"
             ]
            ],
            "type": "contour"
           }
          ],
          "contourcarpet": [
           {
            "colorbar": {
             "outlinewidth": 0,
             "ticks": ""
            },
            "type": "contourcarpet"
           }
          ],
          "heatmap": [
           {
            "colorbar": {
             "outlinewidth": 0,
             "ticks": ""
            },
            "colorscale": [
             [
              0,
              "#0d0887"
             ],
             [
              0.1111111111111111,
              "#46039f"
             ],
             [
              0.2222222222222222,
              "#7201a8"
             ],
             [
              0.3333333333333333,
              "#9c179e"
             ],
             [
              0.4444444444444444,
              "#bd3786"
             ],
             [
              0.5555555555555556,
              "#d8576b"
             ],
             [
              0.6666666666666666,
              "#ed7953"
             ],
             [
              0.7777777777777778,
              "#fb9f3a"
             ],
             [
              0.8888888888888888,
              "#fdca26"
             ],
             [
              1,
              "#f0f921"
             ]
            ],
            "type": "heatmap"
           }
          ],
          "heatmapgl": [
           {
            "colorbar": {
             "outlinewidth": 0,
             "ticks": ""
            },
            "colorscale": [
             [
              0,
              "#0d0887"
             ],
             [
              0.1111111111111111,
              "#46039f"
             ],
             [
              0.2222222222222222,
              "#7201a8"
             ],
             [
              0.3333333333333333,
              "#9c179e"
             ],
             [
              0.4444444444444444,
              "#bd3786"
             ],
             [
              0.5555555555555556,
              "#d8576b"
             ],
             [
              0.6666666666666666,
              "#ed7953"
             ],
             [
              0.7777777777777778,
              "#fb9f3a"
             ],
             [
              0.8888888888888888,
              "#fdca26"
             ],
             [
              1,
              "#f0f921"
             ]
            ],
            "type": "heatmapgl"
           }
          ],
          "histogram": [
           {
            "marker": {
             "pattern": {
              "fillmode": "overlay",
              "size": 10,
              "solidity": 0.2
             }
            },
            "type": "histogram"
           }
          ],
          "histogram2d": [
           {
            "colorbar": {
             "outlinewidth": 0,
             "ticks": ""
            },
            "colorscale": [
             [
              0,
              "#0d0887"
             ],
             [
              0.1111111111111111,
              "#46039f"
             ],
             [
              0.2222222222222222,
              "#7201a8"
             ],
             [
              0.3333333333333333,
              "#9c179e"
             ],
             [
              0.4444444444444444,
              "#bd3786"
             ],
             [
              0.5555555555555556,
              "#d8576b"
             ],
             [
              0.6666666666666666,
              "#ed7953"
             ],
             [
              0.7777777777777778,
              "#fb9f3a"
             ],
             [
              0.8888888888888888,
              "#fdca26"
             ],
             [
              1,
              "#f0f921"
             ]
            ],
            "type": "histogram2d"
           }
          ],
          "histogram2dcontour": [
           {
            "colorbar": {
             "outlinewidth": 0,
             "ticks": ""
            },
            "colorscale": [
             [
              0,
              "#0d0887"
             ],
             [
              0.1111111111111111,
              "#46039f"
             ],
             [
              0.2222222222222222,
              "#7201a8"
             ],
             [
              0.3333333333333333,
              "#9c179e"
             ],
             [
              0.4444444444444444,
              "#bd3786"
             ],
             [
              0.5555555555555556,
              "#d8576b"
             ],
             [
              0.6666666666666666,
              "#ed7953"
             ],
             [
              0.7777777777777778,
              "#fb9f3a"
             ],
             [
              0.8888888888888888,
              "#fdca26"
             ],
             [
              1,
              "#f0f921"
             ]
            ],
            "type": "histogram2dcontour"
           }
          ],
          "mesh3d": [
           {
            "colorbar": {
             "outlinewidth": 0,
             "ticks": ""
            },
            "type": "mesh3d"
           }
          ],
          "parcoords": [
           {
            "line": {
             "colorbar": {
              "outlinewidth": 0,
              "ticks": ""
             }
            },
            "type": "parcoords"
           }
          ],
          "pie": [
           {
            "automargin": true,
            "type": "pie"
           }
          ],
          "scatter": [
           {
            "fillpattern": {
             "fillmode": "overlay",
             "size": 10,
             "solidity": 0.2
            },
            "type": "scatter"
           }
          ],
          "scatter3d": [
           {
            "line": {
             "colorbar": {
              "outlinewidth": 0,
              "ticks": ""
             }
            },
            "marker": {
             "colorbar": {
              "outlinewidth": 0,
              "ticks": ""
             }
            },
            "type": "scatter3d"
           }
          ],
          "scattercarpet": [
           {
            "marker": {
             "colorbar": {
              "outlinewidth": 0,
              "ticks": ""
             }
            },
            "type": "scattercarpet"
           }
          ],
          "scattergeo": [
           {
            "marker": {
             "colorbar": {
              "outlinewidth": 0,
              "ticks": ""
             }
            },
            "type": "scattergeo"
           }
          ],
          "scattergl": [
           {
            "marker": {
             "colorbar": {
              "outlinewidth": 0,
              "ticks": ""
             }
            },
            "type": "scattergl"
           }
          ],
          "scattermapbox": [
           {
            "marker": {
             "colorbar": {
              "outlinewidth": 0,
              "ticks": ""
             }
            },
            "type": "scattermapbox"
           }
          ],
          "scatterpolar": [
           {
            "marker": {
             "colorbar": {
              "outlinewidth": 0,
              "ticks": ""
             }
            },
            "type": "scatterpolar"
           }
          ],
          "scatterpolargl": [
           {
            "marker": {
             "colorbar": {
              "outlinewidth": 0,
              "ticks": ""
             }
            },
            "type": "scatterpolargl"
           }
          ],
          "scatterternary": [
           {
            "marker": {
             "colorbar": {
              "outlinewidth": 0,
              "ticks": ""
             }
            },
            "type": "scatterternary"
           }
          ],
          "surface": [
           {
            "colorbar": {
             "outlinewidth": 0,
             "ticks": ""
            },
            "colorscale": [
             [
              0,
              "#0d0887"
             ],
             [
              0.1111111111111111,
              "#46039f"
             ],
             [
              0.2222222222222222,
              "#7201a8"
             ],
             [
              0.3333333333333333,
              "#9c179e"
             ],
             [
              0.4444444444444444,
              "#bd3786"
             ],
             [
              0.5555555555555556,
              "#d8576b"
             ],
             [
              0.6666666666666666,
              "#ed7953"
             ],
             [
              0.7777777777777778,
              "#fb9f3a"
             ],
             [
              0.8888888888888888,
              "#fdca26"
             ],
             [
              1,
              "#f0f921"
             ]
            ],
            "type": "surface"
           }
          ],
          "table": [
           {
            "cells": {
             "fill": {
              "color": "#EBF0F8"
             },
             "line": {
              "color": "white"
             }
            },
            "header": {
             "fill": {
              "color": "#C8D4E3"
             },
             "line": {
              "color": "white"
             }
            },
            "type": "table"
           }
          ]
         },
         "layout": {
          "annotationdefaults": {
           "arrowcolor": "#2a3f5f",
           "arrowhead": 0,
           "arrowwidth": 1
          },
          "autotypenumbers": "strict",
          "coloraxis": {
           "colorbar": {
            "outlinewidth": 0,
            "ticks": ""
           }
          },
          "colorscale": {
           "diverging": [
            [
             0,
             "#8e0152"
            ],
            [
             0.1,
             "#c51b7d"
            ],
            [
             0.2,
             "#de77ae"
            ],
            [
             0.3,
             "#f1b6da"
            ],
            [
             0.4,
             "#fde0ef"
            ],
            [
             0.5,
             "#f7f7f7"
            ],
            [
             0.6,
             "#e6f5d0"
            ],
            [
             0.7,
             "#b8e186"
            ],
            [
             0.8,
             "#7fbc41"
            ],
            [
             0.9,
             "#4d9221"
            ],
            [
             1,
             "#276419"
            ]
           ],
           "sequential": [
            [
             0,
             "#0d0887"
            ],
            [
             0.1111111111111111,
             "#46039f"
            ],
            [
             0.2222222222222222,
             "#7201a8"
            ],
            [
             0.3333333333333333,
             "#9c179e"
            ],
            [
             0.4444444444444444,
             "#bd3786"
            ],
            [
             0.5555555555555556,
             "#d8576b"
            ],
            [
             0.6666666666666666,
             "#ed7953"
            ],
            [
             0.7777777777777778,
             "#fb9f3a"
            ],
            [
             0.8888888888888888,
             "#fdca26"
            ],
            [
             1,
             "#f0f921"
            ]
           ],
           "sequentialminus": [
            [
             0,
             "#0d0887"
            ],
            [
             0.1111111111111111,
             "#46039f"
            ],
            [
             0.2222222222222222,
             "#7201a8"
            ],
            [
             0.3333333333333333,
             "#9c179e"
            ],
            [
             0.4444444444444444,
             "#bd3786"
            ],
            [
             0.5555555555555556,
             "#d8576b"
            ],
            [
             0.6666666666666666,
             "#ed7953"
            ],
            [
             0.7777777777777778,
             "#fb9f3a"
            ],
            [
             0.8888888888888888,
             "#fdca26"
            ],
            [
             1,
             "#f0f921"
            ]
           ]
          },
          "colorway": [
           "#636efa",
           "#EF553B",
           "#00cc96",
           "#ab63fa",
           "#FFA15A",
           "#19d3f3",
           "#FF6692",
           "#B6E880",
           "#FF97FF",
           "#FECB52"
          ],
          "font": {
           "color": "#2a3f5f"
          },
          "geo": {
           "bgcolor": "white",
           "lakecolor": "white",
           "landcolor": "#E5ECF6",
           "showlakes": true,
           "showland": true,
           "subunitcolor": "white"
          },
          "hoverlabel": {
           "align": "left"
          },
          "hovermode": "closest",
          "mapbox": {
           "style": "light"
          },
          "paper_bgcolor": "white",
          "plot_bgcolor": "#E5ECF6",
          "polar": {
           "angularaxis": {
            "gridcolor": "white",
            "linecolor": "white",
            "ticks": ""
           },
           "bgcolor": "#E5ECF6",
           "radialaxis": {
            "gridcolor": "white",
            "linecolor": "white",
            "ticks": ""
           }
          },
          "scene": {
           "xaxis": {
            "backgroundcolor": "#E5ECF6",
            "gridcolor": "white",
            "gridwidth": 2,
            "linecolor": "white",
            "showbackground": true,
            "ticks": "",
            "zerolinecolor": "white"
           },
           "yaxis": {
            "backgroundcolor": "#E5ECF6",
            "gridcolor": "white",
            "gridwidth": 2,
            "linecolor": "white",
            "showbackground": true,
            "ticks": "",
            "zerolinecolor": "white"
           },
           "zaxis": {
            "backgroundcolor": "#E5ECF6",
            "gridcolor": "white",
            "gridwidth": 2,
            "linecolor": "white",
            "showbackground": true,
            "ticks": "",
            "zerolinecolor": "white"
           }
          },
          "shapedefaults": {
           "line": {
            "color": "#2a3f5f"
           }
          },
          "ternary": {
           "aaxis": {
            "gridcolor": "white",
            "linecolor": "white",
            "ticks": ""
           },
           "baxis": {
            "gridcolor": "white",
            "linecolor": "white",
            "ticks": ""
           },
           "bgcolor": "#E5ECF6",
           "caxis": {
            "gridcolor": "white",
            "linecolor": "white",
            "ticks": ""
           }
          },
          "title": {
           "x": 0.05
          },
          "xaxis": {
           "automargin": true,
           "gridcolor": "white",
           "linecolor": "white",
           "ticks": "",
           "title": {
            "standoff": 15
           },
           "zerolinecolor": "white",
           "zerolinewidth": 2
          },
          "yaxis": {
           "automargin": true,
           "gridcolor": "white",
           "linecolor": "white",
           "ticks": "",
           "title": {
            "standoff": 15
           },
           "zerolinecolor": "white",
           "zerolinewidth": 2
          }
         }
        },
        "title": {
         "text": "Facilities and hospitals"
        },
        "xaxis": {
         "title": {
          "text": "x"
         }
        },
        "yaxis": {
         "title": {
          "text": "y"
         }
        }
       }
      }
     },
     "metadata": {},
     "output_type": "display_data"
    }
   ],
   "source": [
    "# Depict the optimal solution in plotly figure, use lines to depict  allocation of customers to facilities\n",
    "\n",
    "fig = go.Figure()\n",
    "fig.add_trace(go.Scatter(x=[x for x,y in facilities], y=[y for x,y in facilities], mode='markers', name='Facilities'))\n",
    "fig.add_trace(go.Scatter(x=[x for x,y in customers], y=[y for x,y in customers], mode='markers', name='Hospitals'))\n",
    "for c,f in cartesian_prod:\n",
    "    if assign[(c,f)].varValue > 0:\n",
    "        fig.add_trace(go.Scatter(x=[customers[c][0], facilities[f][0]], y=[customers[c][1], facilities[f][1]], mode='lines', line=dict(color='gray', width=1), showlegend=False))\n",
    "fig.update_layout(title='Facilities and hospitals', xaxis_title='x', yaxis_title='y')\n",
    "fig.show()"
   ]
  },
  {
   "attachments": {},
   "cell_type": "markdown",
   "metadata": {},
   "source": [
    "### Plan de Envío\n",
    "Este plan determina el porcentaje de envíos que se enviarán desde cada instalación construida a cada cliente."
   ]
  },
  {
   "cell_type": "code",
   "execution_count": 56,
   "metadata": {},
   "outputs": [
    {
     "name": "stdout",
     "output_type": "stream",
     "text": [
      "\n",
      " Hospital 1 receives from Warehouse 1 100% of its needs\n",
      "\n",
      " Hospital 2 receives from Warehouse 14 100% of its needs\n",
      "\n",
      " Hospital 3 receives from Warehouse 10 100% of its needs\n",
      "\n",
      " Hospital 4 receives from Warehouse 10 100% of its needs\n",
      "\n",
      " Hospital 5 receives from Warehouse 15 100% of its needs\n",
      "\n",
      " Hospital 6 receives from Warehouse 1 100% of its needs\n",
      "\n",
      " Hospital 7 receives from Warehouse 14 100% of its needs\n",
      "\n",
      " Hospital 8 receives from Warehouse 10 100% of its needs\n",
      "\n",
      " Hospital 9 receives from Warehouse 10 100% of its needs\n",
      "\n",
      " Hospital 10 receives from Warehouse 15 100% of its needs\n",
      "\n",
      " Hospital 11 receives from Warehouse 1 100% of its needs\n",
      "\n",
      " Hospital 12 receives from Warehouse 14 100% of its needs\n",
      "\n",
      " Hospital 13 receives from Warehouse 14 100% of its needs\n",
      "\n",
      " Hospital 14 receives from Warehouse 3 100% of its needs\n",
      "\n",
      " Hospital 15 receives from Warehouse 15 100% of its needs\n",
      "\n",
      " Hospital 16 receives from Warehouse 1 100% of its needs\n",
      "\n",
      " Hospital 17 receives from Warehouse 14 100% of its needs\n",
      "\n",
      " Hospital 18 receives from Warehouse 14 100% of its needs\n",
      "\n",
      " Hospital 19 receives from Warehouse 3 100% of its needs\n",
      "\n",
      " Hospital 20 receives from Warehouse 1 100% of its needs\n"
     ]
    }
   ],
   "source": [
    "# Shipments from facilities to customers.\n",
    "\n",
    "for customer, facility in assign.keys():\n",
    "    if (abs(assign[customer, facility].varValue) > 1e-6):\n",
    "        print(f\"\\n Hospital {customer + 1} receives from Warehouse {facility + 1} {round(100*assign[customer, facility].varValue)}% of its needs\")\n"
   ]
  },
  {
   "attachments": {},
   "cell_type": "markdown",
   "metadata": {},
   "source": [
    "##  Conclusión\n",
    "En este ejemplo, abordamos un problema de ubicación de instalaciones en el que deseamos construir almacenes para suministrar a una gran cantidad de hospitales, minimizando los costos totales fijos de construcción de almacenes y los costos variables totales de envío desde los almacenes hasta los hospitales. Aprendimos cómo formular el problema como un modelo MIP. También aprendimos cómo implementar la formulación del modelo MIP y resolverlo utilizando la API de Python de Cbc Solver. "
   ]
  },
  {
   "attachments": {},
   "cell_type": "markdown",
   "metadata": {},
   "source": [
    "##  Referencias\n",
    "[1] Laporte, Gilbert, Stefan Nickel, and Saldanha da Gama, Francisco. Location Science. Springer, 2015."
   ]
  }
 ],
 "metadata": {
  "kernelspec": {
   "display_name": "Python 3",
   "language": "python",
   "name": "python3"
  },
  "language_info": {
   "codemirror_mode": {
    "name": "ipython",
    "version": 3
   },
   "file_extension": ".py",
   "mimetype": "text/x-python",
   "name": "python",
   "nbconvert_exporter": "python",
   "pygments_lexer": "ipython3",
   "version": "3.9.12"
  }
 },
 "nbformat": 4,
 "nbformat_minor": 2
}
