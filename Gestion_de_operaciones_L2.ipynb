{
  "cells": [
    {
      "cell_type": "markdown",
      "metadata": {
        "id": "view-in-github",
        "colab_type": "text"
      },
      "source": [
        "<a href=\"https://colab.research.google.com/github/fancagi/intro_pulp/blob/main/Gestion_de_operaciones_L2.ipynb\" target=\"_parent\"><img src=\"https://colab.research.google.com/assets/colab-badge.svg\" alt=\"Open In Colab\"/></a>"
      ]
    },
    {
      "cell_type": "markdown",
      "metadata": {
        "id": "rGYb7jF_sVtC"
      },
      "source": [
        "# Problema de localización de instalaciones"
      ]
    },
    {
      "cell_type": "markdown",
      "metadata": {
        "id": "dPZPYPF6sVtE"
      },
      "source": [
        "## Objetivo y Prerrequisitos\n",
        "En este ejemplo, resolveremos un problema de ubicación de instalaciones donde queremos construir almacenes para abastecer a un cierto número de hospitales. Construiremos un modelo de programación entera mixta (MIP) de este problema, implementaremos este modelo en la interfaz de Python de PuLP + Cbc y calcularemos una solución óptima.\n",
        "\n"
      ]
    },
    {
      "cell_type": "markdown",
      "metadata": {
        "id": "g2nNArFIsVtF"
      },
      "source": [
        "## Motivación\n",
        "\n",
        "El estudio de los problemas de localización de instalaciones, también conocidos como análisis de ubicación [1], es una rama de la investigación de operaciones y la geometría computacional que se preocupa por la ubicación óptima de instalaciones para minimizar los costos ***e.g.*** de transporte, mientras se consideran factores como evitar colocar materiales peligrosos cerca de viviendas y la ubicación de las instalaciones de competidores.\n",
        "\n",
        "\n",
        "\n",
        "Los problemas de ubicación de instalaciones tienen aplicaciones en una amplia variedad de sectores e industrias. Por ejemplo, en la gestión de la cadena de suministro y la logística, este problema se puede utilizar para encontrar la ubicación óptima de tiendas, fábricas, almacenes, etc. Otras aplicaciones van desde la política pública (por ejemplo, la ubicación de policías, ambulancias u hospitales en una ciudad), las telecomunicaciones (por ejemplo, torres de celulares en una red) e incluso la física de partículas (por ejemplo, la distancia de separación entre cargas repulsivas). Otra aplicación del problema de ubicación de instalaciones es determinar las ubicaciones para el equipo de transmisión de gas natural. Finalmente, los problemas de ubicación de instalaciones se pueden aplicar al análisis de clústeres."
      ]
    },
    {
      "cell_type": "markdown",
      "metadata": {
        "id": "PtyzyqlDsVtF"
      },
      "source": [
        "## Descripción del problema\n",
        "\n",
        "Una red de hospitales en Colombia necesita construir almacenes para suministrar insumos médicos a sus sedes en el norte del país. Las ubicaciones de los hospitales ya han sido decididas, pero aún no se ha determinado la ubicación de los almacenes.\n",
        "\n",
        "Se han identificado varias ubicaciones potenciales para los almacenes, pero se deben tomar decisiones sobre cuántos almacenes abrir y en qué ubicaciones candidatas construirlos.\n",
        "\n",
        "Abrir muchos almacenes sería ventajoso, ya que esto reduciría la distancia promedio que un camión tendría que recorrer desde el almacén hasta el hospital, y por lo tanto, reduciría el costo de entrega. Sin embargo, la apertura de un almacén tiene un costo fijo asociado.\n",
        "\n",
        "En este ejemplo, nuestro objetivo es encontrar el equilibrio óptimo entre el costo de entrega y el costo de construir nuevas instalaciones."
      ]
    },
    {
      "cell_type": "markdown",
      "metadata": {
        "id": "fltls039sVtG"
      },
      "source": [
        "## Solución planteada\n",
        "\n",
        "La programación matemática es un enfoque declarativo en el que el modelador formula un modelo de optimización matemática que captura los aspectos clave de un problema de decisión complejo. El motoro de optimización, ---eg.--- Gurobi, CPLEX, SCIP, HIGHS, etx.,  resuelve tales modelos utilizando técnicas matemáticas-algrebáricas y algoritmos computacionales de última generación.\n",
        "\n",
        "Un modelo de optimización matemática tiene cinco componentes, a saber:\n",
        "\n",
        "* Conjuntos e índices.\n",
        "* Parámetros.\n",
        "* Variables de decisión.\n",
        "* Función(es) objetivo.\n",
        "* Restricciones.\n",
        "\n",
        "Presentamos a continuación una formulación MIP para el problema de ubicación de instalaciones.\n"
      ]
    },
    {
      "cell_type": "markdown",
      "metadata": {
        "id": "q0oY4oXZsVtG"
      },
      "source": [
        "## Formulación del Modelo\n",
        "\n",
        "### Conjuntos e Índices\n",
        "$i \\in I$: Índice y conjunto de ubicaciones de hospitales (o clientes).\n",
        "\n",
        "$j \\in J$: Índice y conjunto de ubicaciones candidatas de almacenes (o instalaciones).\n",
        "\n",
        "### Parámetros\n",
        "$f_{j} \\in \\mathbb{R}^+$: Costo fijo asociado con la construcción de la instalación $j \\in J$.\n",
        "\n",
        "$d_{i,j} \\in \\mathbb{R}^+$: Distancia entre la instalación $j \\in J$ y el cliente $i \\in I$.\n",
        "\n",
        "$c_{i,j} \\in \\mathbb{R}^+$: Costo de envío entre el sitio candidato de la instalación $j \\in J$ y la ubicación del cliente $i \\in I$. Se asume que este costo es proporcional a la distancia entre la instalación y el cliente. Es decir, $c_{i,j} = \\alpha \\cdot d_{i,j}$, donde $\\alpha$ es el costo por milla de conducción, ajustado para incorporar el número promedio de viajes que se esperaría que un camión de entrega realizara durante un período de cinco años.\n",
        "\n",
        "### Variables de Decisión\n",
        "$select_{j} \\in {0, 1 }$: Esta variable es igual a 1 si construimos una instalación en la ubicación candidata $j \\in J$; y 0 en caso contrario.\n",
        "\n",
        "$0 \\leq assign_{i,j} \\leq 1$: Esta variable continua no negativa determina la fracción de suministro recibida por el cliente $i \\in I$ de la instalación $j \\in J$.\n",
        "\n",
        "\n",
        "### Función Objetivo\n",
        "\n",
        "Costos totales. Queremos minimizar el costo total de abrir y operar las instalaciones. Esta es la suma del costo de abrir las instalaciones y el costo relacionado con el envío entre las instalaciones y los clientes. Este costo total mide el compromiso entre el costo de construir una nueva instalación y el costo total de envío durante un período de cinco años.\n",
        "\\begin{equation}\n",
        "\\text{Max} \\quad Z = \\sum_{j \\in J} f_{j} \\cdot select_{j} + \\sum_{j \\in J} \\sum_{i \\in I} c_{i,j} \\cdot assign_{i,j}\n",
        "\\tag{0}\n",
        "\\end{equation}\n",
        "\n",
        "### Restricciones\n",
        "#### Demanda.\n",
        "\n",
        " Para cada cliente $i \\in I$, aseguramos que se cumpla su demanda. Es decir, la suma de la fracción recibida de cada instalación para cada cliente debe ser igual a 1:\n",
        "\\begin{equation}\n",
        "\\sum_{j \\in J} assign_{i,j} = 1 \\quad \\forall i \\in I\n",
        "\\tag{1}\n",
        "\\end{equation}\n",
        "\n",
        "####  Envío. \n",
        "\n",
        "Debemos asegurarnos de que solo enviemos desde la instalación $j \\in J$ si esa instalación realmente ha sido construida.\n",
        "\\begin{equation}\n",
        "assign_{i,j} \\leq select_{j} \\quad \\forall i \\in I \\quad \\forall j \\in J\n",
        "\\tag{2}\n",
        "\\end{equation}"
      ]
    },
    {
      "cell_type": "markdown",
      "metadata": {
        "id": "0SgFwXRVsVtH"
      },
      "source": [
        "## Implementación Python \n",
        "\n",
        "Este ejemplo consideran 20 hospitales y 20 almacenes candidatos. Las coordenadas de cada hospital se proporcionan en la siguiente tabla.\n",
        "\n",
        "| <i></i> | Coordinates |  \n",
        "| --- | --- | \n",
        "| hospital 0 | (0, 1.5) | \n",
        "| hospital 1 | (2.5, 1.2) | \n",
        "| hospital 2 | (2.5, 2.5) | \n",
        "| hospital 3 | (1.5, 2.5) | \n",
        "| hospital 4 | (0.5, 2.5) | \n",
        "| hospital 5 | (0, 0.5) | \n",
        "| hospital 6 | (2.5, 0.5) | \n",
        "| hospital 7 | (2.5, 2) | \n",
        "| hospital 8 | (1.5, 2) | \n",
        "| hospital 9 | (0.5, 2) | \n",
        "| hospital 10 | (0, 1) | \n",
        "| hospital 11 | (2.5, 1) | \n",
        "| hospital 12 | (2.5, 1.5) | \n",
        "| hospital 13 | (1.5, 1.5) | \n",
        "| hospital 14 | (0.5, 1.5) | \n",
        "| hospital 15 | (0, 0) | \n",
        "| hospital 16 | (2.5, 0) | \n",
        "| hospital 17 | (2.5, 0.5) | \n",
        "| hospital 18 | (1.5, 0.5) | \n",
        "| hospital 19 | (0.5, 0.5) | \n",
        "\n",
        "La siguiente tabla muestra las coordenadas de los sitios de almacén candidatos y el costo fijo de construir el almacén en millones de Millones de USD.\n",
        "\n",
        "| <i></i> | coordenadas | costo |\n",
        "| --- | --- |  --- |\n",
        "| facility 0 | (0.18, 1.02) | 1 |\n",
        "| facility 1 | (0.6, 2.85) | 4 |\n",
        "| facility 2 | (1.23, 0.84) | 1 |\n",
        "| facility 3 | (0.63, 1.5) | 4 |\n",
        "| facility 4 | (1.71, 1.74) | 3 |\n",
        "| facility 5 | (0.24, 0.03) | 4 |\n",
        "| facility 6 | (1.2, 2.28) | 5 |\n",
        "| facility 7 | (0.42, 2.13) | 3 |\n",
        "| facility 8 | (0.09, 2.49) | 5 |\n",
        "| facility 9 | (1.62, 2.64) | 1 |\n",
        "| facility 10 | (2.46, 0.39) | 5 |\n",
        "| facility 11 | (1.83, 0.09) | 1 |\n",
        "| facility 12 | (0.78, 1.68) | 1 |\n",
        "| facility 13 | (2.76, 0.87) | 2 |\n",
        "| facility 14 | (0.48, 1.86) | 1 |\n",
        "| facility 15 | (1.86, 0.63) | 4 |\n",
        "| facility 16 | (1.59, 2.7) | 5 |\n",
        "| facility 17 | (2.04, 1.44) | 2 |\n",
        "| facility 18 | (0.54, 1.89) | 4 |\n",
        "| facility 19 | (0.06, 2.94) | 1 |\n",
        "\n",
        "\n",
        "El costo por Km es $\\$1$ millón USD.\n",
        "\n",
        "## Python Implementation\n",
        "\n",
        "Ahora importamos el módulo Pulp Python y otras bibliotecas de Python que nos ayudarán en la construcción del modelo. Luego, inicializaremos las estructuras de datos con los datos dados."
      ]
    },
    {
      "cell_type": "code",
      "execution_count": null,
      "metadata": {
        "id": "0Js96xrUsVtI"
      },
      "outputs": [],
      "source": [
        "from itertools import product\n",
        "from math import sqrt\n",
        "\n",
        "import pulp as plp\n",
        "\n",
        "\n",
        "# tested with PuLP and Python 3.7.0\n",
        "\n",
        "# Parameters\n",
        "customers = [(0,1.5), \n",
        "             (2.5,1.2), \n",
        "             (2.5,2.5), \n",
        "             (1.5,2.5), \n",
        "             (0.5,2.5), \n",
        "             (0,0.5), \n",
        "             (2.5,0.5), \n",
        "             (2.5,2), \n",
        "             (1.5,2), \n",
        "             (0.5,2), \n",
        "             (0,1), \n",
        "             (2.5,1), \n",
        "             (2.5,1.5), \n",
        "             (1.5,1.5), \n",
        "             (0.5,1.5), \n",
        "             (0,0), \n",
        "             (2.5,0), \n",
        "             (2.5,0.5), \n",
        "             (1.5,0.5), \n",
        "             (0.5,0.5)]\n",
        "facilities = [(0.18, 1.02),\n",
        "            (0.6, 2.85),\n",
        "            (1.23, 0.84),\n",
        "            (0.63, 1.5),\n",
        "            (1.71, 1.74),\n",
        "            (0.24, 0.03),\n",
        "            (1.2, 2.28),\n",
        "            (0.42, 2.13),\n",
        "            (0.09, 2.49),\n",
        "            (1.62, 2.64),\n",
        "            (2.46, 0.39),\n",
        "            (1.83, 0.09),\n",
        "            (0.78, 1.68),\n",
        "            (2.76, 0.87),\n",
        "            (0.48, 1.86),\n",
        "            (1.86, 0.63),\n",
        "            (1.59, 2.7),\n",
        "            (2.04, 1.44),\n",
        "            (0.54, 1.89),\n",
        "            (0.06, 2.94)]\n",
        "setup_cost = [1, 4, 1, 4, 3, 4, 5, 3, 5, 1, 5, 1, 1, 2, 1, 4, 5, 2, 4, 1]\n",
        "cost_per_km = 1"
      ]
    },
    {
      "cell_type": "code",
      "execution_count": null,
      "metadata": {
        "id": "yGOH-DY4sVtJ",
        "outputId": "6f278647-b2c7-4c34-cb0b-a865473c5583"
      },
      "outputs": [
        {
          "data": {
            "application/vnd.plotly.v1+json": {
              "config": {
                "plotlyServerURL": "https://plot.ly"
              },
              "data": [
                {
                  "mode": "markers",
                  "name": "Facilities",
                  "type": "scatter",
                  "x": [
                    0.18,
                    0.6,
                    1.23,
                    0.63,
                    1.71,
                    0.24,
                    1.2,
                    0.42,
                    0.09,
                    1.62,
                    2.46,
                    1.83,
                    0.78,
                    2.76,
                    0.48,
                    1.86,
                    1.59,
                    2.04,
                    0.54,
                    0.06
                  ],
                  "y": [
                    1.02,
                    2.85,
                    0.84,
                    1.5,
                    1.74,
                    0.03,
                    2.28,
                    2.13,
                    2.49,
                    2.64,
                    0.39,
                    0.09,
                    1.68,
                    0.87,
                    1.86,
                    0.63,
                    2.7,
                    1.44,
                    1.89,
                    2.94
                  ]
                },
                {
                  "mode": "markers",
                  "name": "Hospital",
                  "type": "scatter",
                  "x": [
                    0,
                    2.5,
                    2.5,
                    1.5,
                    0.5,
                    0,
                    2.5,
                    2.5,
                    1.5,
                    0.5,
                    0,
                    2.5,
                    2.5,
                    1.5,
                    0.5,
                    0,
                    2.5,
                    2.5,
                    1.5,
                    0.5
                  ],
                  "y": [
                    1.5,
                    1.2,
                    2.5,
                    2.5,
                    2.5,
                    0.5,
                    0.5,
                    2,
                    2,
                    2,
                    1,
                    1,
                    1.5,
                    1.5,
                    1.5,
                    0,
                    0,
                    0.5,
                    0.5,
                    0.5
                  ]
                }
              ],
              "layout": {
                "template": {
                  "data": {
                    "bar": [
                      {
                        "error_x": {
                          "color": "#2a3f5f"
                        },
                        "error_y": {
                          "color": "#2a3f5f"
                        },
                        "marker": {
                          "line": {
                            "color": "#E5ECF6",
                            "width": 0.5
                          },
                          "pattern": {
                            "fillmode": "overlay",
                            "size": 10,
                            "solidity": 0.2
                          }
                        },
                        "type": "bar"
                      }
                    ],
                    "barpolar": [
                      {
                        "marker": {
                          "line": {
                            "color": "#E5ECF6",
                            "width": 0.5
                          },
                          "pattern": {
                            "fillmode": "overlay",
                            "size": 10,
                            "solidity": 0.2
                          }
                        },
                        "type": "barpolar"
                      }
                    ],
                    "carpet": [
                      {
                        "aaxis": {
                          "endlinecolor": "#2a3f5f",
                          "gridcolor": "white",
                          "linecolor": "white",
                          "minorgridcolor": "white",
                          "startlinecolor": "#2a3f5f"
                        },
                        "baxis": {
                          "endlinecolor": "#2a3f5f",
                          "gridcolor": "white",
                          "linecolor": "white",
                          "minorgridcolor": "white",
                          "startlinecolor": "#2a3f5f"
                        },
                        "type": "carpet"
                      }
                    ],
                    "choropleth": [
                      {
                        "colorbar": {
                          "outlinewidth": 0,
                          "ticks": ""
                        },
                        "type": "choropleth"
                      }
                    ],
                    "contour": [
                      {
                        "colorbar": {
                          "outlinewidth": 0,
                          "ticks": ""
                        },
                        "colorscale": [
                          [
                            0,
                            "#0d0887"
                          ],
                          [
                            0.1111111111111111,
                            "#46039f"
                          ],
                          [
                            0.2222222222222222,
                            "#7201a8"
                          ],
                          [
                            0.3333333333333333,
                            "#9c179e"
                          ],
                          [
                            0.4444444444444444,
                            "#bd3786"
                          ],
                          [
                            0.5555555555555556,
                            "#d8576b"
                          ],
                          [
                            0.6666666666666666,
                            "#ed7953"
                          ],
                          [
                            0.7777777777777778,
                            "#fb9f3a"
                          ],
                          [
                            0.8888888888888888,
                            "#fdca26"
                          ],
                          [
                            1,
                            "#f0f921"
                          ]
                        ],
                        "type": "contour"
                      }
                    ],
                    "contourcarpet": [
                      {
                        "colorbar": {
                          "outlinewidth": 0,
                          "ticks": ""
                        },
                        "type": "contourcarpet"
                      }
                    ],
                    "heatmap": [
                      {
                        "colorbar": {
                          "outlinewidth": 0,
                          "ticks": ""
                        },
                        "colorscale": [
                          [
                            0,
                            "#0d0887"
                          ],
                          [
                            0.1111111111111111,
                            "#46039f"
                          ],
                          [
                            0.2222222222222222,
                            "#7201a8"
                          ],
                          [
                            0.3333333333333333,
                            "#9c179e"
                          ],
                          [
                            0.4444444444444444,
                            "#bd3786"
                          ],
                          [
                            0.5555555555555556,
                            "#d8576b"
                          ],
                          [
                            0.6666666666666666,
                            "#ed7953"
                          ],
                          [
                            0.7777777777777778,
                            "#fb9f3a"
                          ],
                          [
                            0.8888888888888888,
                            "#fdca26"
                          ],
                          [
                            1,
                            "#f0f921"
                          ]
                        ],
                        "type": "heatmap"
                      }
                    ],
                    "heatmapgl": [
                      {
                        "colorbar": {
                          "outlinewidth": 0,
                          "ticks": ""
                        },
                        "colorscale": [
                          [
                            0,
                            "#0d0887"
                          ],
                          [
                            0.1111111111111111,
                            "#46039f"
                          ],
                          [
                            0.2222222222222222,
                            "#7201a8"
                          ],
                          [
                            0.3333333333333333,
                            "#9c179e"
                          ],
                          [
                            0.4444444444444444,
                            "#bd3786"
                          ],
                          [
                            0.5555555555555556,
                            "#d8576b"
                          ],
                          [
                            0.6666666666666666,
                            "#ed7953"
                          ],
                          [
                            0.7777777777777778,
                            "#fb9f3a"
                          ],
                          [
                            0.8888888888888888,
                            "#fdca26"
                          ],
                          [
                            1,
                            "#f0f921"
                          ]
                        ],
                        "type": "heatmapgl"
                      }
                    ],
                    "histogram": [
                      {
                        "marker": {
                          "pattern": {
                            "fillmode": "overlay",
                            "size": 10,
                            "solidity": 0.2
                          }
                        },
                        "type": "histogram"
                      }
                    ],
                    "histogram2d": [
                      {
                        "colorbar": {
                          "outlinewidth": 0,
                          "ticks": ""
                        },
                        "colorscale": [
                          [
                            0,
                            "#0d0887"
                          ],
                          [
                            0.1111111111111111,
                            "#46039f"
                          ],
                          [
                            0.2222222222222222,
                            "#7201a8"
                          ],
                          [
                            0.3333333333333333,
                            "#9c179e"
                          ],
                          [
                            0.4444444444444444,
                            "#bd3786"
                          ],
                          [
                            0.5555555555555556,
                            "#d8576b"
                          ],
                          [
                            0.6666666666666666,
                            "#ed7953"
                          ],
                          [
                            0.7777777777777778,
                            "#fb9f3a"
                          ],
                          [
                            0.8888888888888888,
                            "#fdca26"
                          ],
                          [
                            1,
                            "#f0f921"
                          ]
                        ],
                        "type": "histogram2d"
                      }
                    ],
                    "histogram2dcontour": [
                      {
                        "colorbar": {
                          "outlinewidth": 0,
                          "ticks": ""
                        },
                        "colorscale": [
                          [
                            0,
                            "#0d0887"
                          ],
                          [
                            0.1111111111111111,
                            "#46039f"
                          ],
                          [
                            0.2222222222222222,
                            "#7201a8"
                          ],
                          [
                            0.3333333333333333,
                            "#9c179e"
                          ],
                          [
                            0.4444444444444444,
                            "#bd3786"
                          ],
                          [
                            0.5555555555555556,
                            "#d8576b"
                          ],
                          [
                            0.6666666666666666,
                            "#ed7953"
                          ],
                          [
                            0.7777777777777778,
                            "#fb9f3a"
                          ],
                          [
                            0.8888888888888888,
                            "#fdca26"
                          ],
                          [
                            1,
                            "#f0f921"
                          ]
                        ],
                        "type": "histogram2dcontour"
                      }
                    ],
                    "mesh3d": [
                      {
                        "colorbar": {
                          "outlinewidth": 0,
                          "ticks": ""
                        },
                        "type": "mesh3d"
                      }
                    ],
                    "parcoords": [
                      {
                        "line": {
                          "colorbar": {
                            "outlinewidth": 0,
                            "ticks": ""
                          }
                        },
                        "type": "parcoords"
                      }
                    ],
                    "pie": [
                      {
                        "automargin": true,
                        "type": "pie"
                      }
                    ],
                    "scatter": [
                      {
                        "fillpattern": {
                          "fillmode": "overlay",
                          "size": 10,
                          "solidity": 0.2
                        },
                        "type": "scatter"
                      }
                    ],
                    "scatter3d": [
                      {
                        "line": {
                          "colorbar": {
                            "outlinewidth": 0,
                            "ticks": ""
                          }
                        },
                        "marker": {
                          "colorbar": {
                            "outlinewidth": 0,
                            "ticks": ""
                          }
                        },
                        "type": "scatter3d"
                      }
                    ],
                    "scattercarpet": [
                      {
                        "marker": {
                          "colorbar": {
                            "outlinewidth": 0,
                            "ticks": ""
                          }
                        },
                        "type": "scattercarpet"
                      }
                    ],
                    "scattergeo": [
                      {
                        "marker": {
                          "colorbar": {
                            "outlinewidth": 0,
                            "ticks": ""
                          }
                        },
                        "type": "scattergeo"
                      }
                    ],
                    "scattergl": [
                      {
                        "marker": {
                          "colorbar": {
                            "outlinewidth": 0,
                            "ticks": ""
                          }
                        },
                        "type": "scattergl"
                      }
                    ],
                    "scattermapbox": [
                      {
                        "marker": {
                          "colorbar": {
                            "outlinewidth": 0,
                            "ticks": ""
                          }
                        },
                        "type": "scattermapbox"
                      }
                    ],
                    "scatterpolar": [
                      {
                        "marker": {
                          "colorbar": {
                            "outlinewidth": 0,
                            "ticks": ""
                          }
                        },
                        "type": "scatterpolar"
                      }
                    ],
                    "scatterpolargl": [
                      {
                        "marker": {
                          "colorbar": {
                            "outlinewidth": 0,
                            "ticks": ""
                          }
                        },
                        "type": "scatterpolargl"
                      }
                    ],
                    "scatterternary": [
                      {
                        "marker": {
                          "colorbar": {
                            "outlinewidth": 0,
                            "ticks": ""
                          }
                        },
                        "type": "scatterternary"
                      }
                    ],
                    "surface": [
                      {
                        "colorbar": {
                          "outlinewidth": 0,
                          "ticks": ""
                        },
                        "colorscale": [
                          [
                            0,
                            "#0d0887"
                          ],
                          [
                            0.1111111111111111,
                            "#46039f"
                          ],
                          [
                            0.2222222222222222,
                            "#7201a8"
                          ],
                          [
                            0.3333333333333333,
                            "#9c179e"
                          ],
                          [
                            0.4444444444444444,
                            "#bd3786"
                          ],
                          [
                            0.5555555555555556,
                            "#d8576b"
                          ],
                          [
                            0.6666666666666666,
                            "#ed7953"
                          ],
                          [
                            0.7777777777777778,
                            "#fb9f3a"
                          ],
                          [
                            0.8888888888888888,
                            "#fdca26"
                          ],
                          [
                            1,
                            "#f0f921"
                          ]
                        ],
                        "type": "surface"
                      }
                    ],
                    "table": [
                      {
                        "cells": {
                          "fill": {
                            "color": "#EBF0F8"
                          },
                          "line": {
                            "color": "white"
                          }
                        },
                        "header": {
                          "fill": {
                            "color": "#C8D4E3"
                          },
                          "line": {
                            "color": "white"
                          }
                        },
                        "type": "table"
                      }
                    ]
                  },
                  "layout": {
                    "annotationdefaults": {
                      "arrowcolor": "#2a3f5f",
                      "arrowhead": 0,
                      "arrowwidth": 1
                    },
                    "autotypenumbers": "strict",
                    "coloraxis": {
                      "colorbar": {
                        "outlinewidth": 0,
                        "ticks": ""
                      }
                    },
                    "colorscale": {
                      "diverging": [
                        [
                          0,
                          "#8e0152"
                        ],
                        [
                          0.1,
                          "#c51b7d"
                        ],
                        [
                          0.2,
                          "#de77ae"
                        ],
                        [
                          0.3,
                          "#f1b6da"
                        ],
                        [
                          0.4,
                          "#fde0ef"
                        ],
                        [
                          0.5,
                          "#f7f7f7"
                        ],
                        [
                          0.6,
                          "#e6f5d0"
                        ],
                        [
                          0.7,
                          "#b8e186"
                        ],
                        [
                          0.8,
                          "#7fbc41"
                        ],
                        [
                          0.9,
                          "#4d9221"
                        ],
                        [
                          1,
                          "#276419"
                        ]
                      ],
                      "sequential": [
                        [
                          0,
                          "#0d0887"
                        ],
                        [
                          0.1111111111111111,
                          "#46039f"
                        ],
                        [
                          0.2222222222222222,
                          "#7201a8"
                        ],
                        [
                          0.3333333333333333,
                          "#9c179e"
                        ],
                        [
                          0.4444444444444444,
                          "#bd3786"
                        ],
                        [
                          0.5555555555555556,
                          "#d8576b"
                        ],
                        [
                          0.6666666666666666,
                          "#ed7953"
                        ],
                        [
                          0.7777777777777778,
                          "#fb9f3a"
                        ],
                        [
                          0.8888888888888888,
                          "#fdca26"
                        ],
                        [
                          1,
                          "#f0f921"
                        ]
                      ],
                      "sequentialminus": [
                        [
                          0,
                          "#0d0887"
                        ],
                        [
                          0.1111111111111111,
                          "#46039f"
                        ],
                        [
                          0.2222222222222222,
                          "#7201a8"
                        ],
                        [
                          0.3333333333333333,
                          "#9c179e"
                        ],
                        [
                          0.4444444444444444,
                          "#bd3786"
                        ],
                        [
                          0.5555555555555556,
                          "#d8576b"
                        ],
                        [
                          0.6666666666666666,
                          "#ed7953"
                        ],
                        [
                          0.7777777777777778,
                          "#fb9f3a"
                        ],
                        [
                          0.8888888888888888,
                          "#fdca26"
                        ],
                        [
                          1,
                          "#f0f921"
                        ]
                      ]
                    },
                    "colorway": [
                      "#636efa",
                      "#EF553B",
                      "#00cc96",
                      "#ab63fa",
                      "#FFA15A",
                      "#19d3f3",
                      "#FF6692",
                      "#B6E880",
                      "#FF97FF",
                      "#FECB52"
                    ],
                    "font": {
                      "color": "#2a3f5f"
                    },
                    "geo": {
                      "bgcolor": "white",
                      "lakecolor": "white",
                      "landcolor": "#E5ECF6",
                      "showlakes": true,
                      "showland": true,
                      "subunitcolor": "white"
                    },
                    "hoverlabel": {
                      "align": "left"
                    },
                    "hovermode": "closest",
                    "mapbox": {
                      "style": "light"
                    },
                    "paper_bgcolor": "white",
                    "plot_bgcolor": "#E5ECF6",
                    "polar": {
                      "angularaxis": {
                        "gridcolor": "white",
                        "linecolor": "white",
                        "ticks": ""
                      },
                      "bgcolor": "#E5ECF6",
                      "radialaxis": {
                        "gridcolor": "white",
                        "linecolor": "white",
                        "ticks": ""
                      }
                    },
                    "scene": {
                      "xaxis": {
                        "backgroundcolor": "#E5ECF6",
                        "gridcolor": "white",
                        "gridwidth": 2,
                        "linecolor": "white",
                        "showbackground": true,
                        "ticks": "",
                        "zerolinecolor": "white"
                      },
                      "yaxis": {
                        "backgroundcolor": "#E5ECF6",
                        "gridcolor": "white",
                        "gridwidth": 2,
                        "linecolor": "white",
                        "showbackground": true,
                        "ticks": "",
                        "zerolinecolor": "white"
                      },
                      "zaxis": {
                        "backgroundcolor": "#E5ECF6",
                        "gridcolor": "white",
                        "gridwidth": 2,
                        "linecolor": "white",
                        "showbackground": true,
                        "ticks": "",
                        "zerolinecolor": "white"
                      }
                    },
                    "shapedefaults": {
                      "line": {
                        "color": "#2a3f5f"
                      }
                    },
                    "ternary": {
                      "aaxis": {
                        "gridcolor": "white",
                        "linecolor": "white",
                        "ticks": ""
                      },
                      "baxis": {
                        "gridcolor": "white",
                        "linecolor": "white",
                        "ticks": ""
                      },
                      "bgcolor": "#E5ECF6",
                      "caxis": {
                        "gridcolor": "white",
                        "linecolor": "white",
                        "ticks": ""
                      }
                    },
                    "title": {
                      "x": 0.05
                    },
                    "xaxis": {
                      "automargin": true,
                      "gridcolor": "white",
                      "linecolor": "white",
                      "ticks": "",
                      "title": {
                        "standoff": 15
                      },
                      "zerolinecolor": "white",
                      "zerolinewidth": 2
                    },
                    "yaxis": {
                      "automargin": true,
                      "gridcolor": "white",
                      "linecolor": "white",
                      "ticks": "",
                      "title": {
                        "standoff": 15
                      },
                      "zerolinecolor": "white",
                      "zerolinewidth": 2
                    }
                  }
                },
                "title": {
                  "text": "Facilities and hospitals"
                },
                "xaxis": {
                  "title": {
                    "text": "x"
                  }
                },
                "yaxis": {
                  "title": {
                    "text": "y"
                  }
                }
              }
            }
          },
          "metadata": {},
          "output_type": "display_data"
        }
      ],
      "source": [
        "import plotly.express as px\n",
        "import plotly.graph_objects as go\n",
        "\n",
        "# Plot the problem configuration (facilities and customers)\n",
        "fig = go.Figure()\n",
        "fig.add_trace(go.Scatter(x=[x for x,y in facilities], y=[y for x,y in facilities], mode='markers', name='Facilities'))\n",
        "fig.add_trace(go.Scatter(x=[x for x,y in customers], y=[y for x,y in customers], mode='markers', name='Hospital'))\n",
        "fig.update_layout(title='Facilities and hospitals', xaxis_title='x', yaxis_title='y')\n",
        "fig.show()"
      ]
    },
    {
      "cell_type": "markdown",
      "metadata": {
        "id": "Gf6-u3fjsVtL"
      },
      "source": [
        "### Preprocesamiento\n",
        "Definimos una función que determina la distancia euclidiana entre cada instalación y los sitios de los clientes. Además, calculamos los parámetros clave requeridos por la formulación del modelo MIP del problema de ubicación de la instalación."
      ]
    },
    {
      "cell_type": "code",
      "execution_count": null,
      "metadata": {
        "id": "bT-veB7csVtL"
      },
      "outputs": [],
      "source": [
        "# Determina la distancia euclidiana entre la bodega seleccionalada y los clientes\n",
        "\n",
        "def compute_distance(loc1, loc2):\n",
        "    dx = loc1[0] - loc2[0]\n",
        "    dy = loc1[1] - loc2[1]\n",
        "    return sqrt(dx*dx + dy*dy)\n",
        "\n",
        "\n",
        "# computamos algunos parámetros auxiliares que se necesitán para construir el modelo MIP\n",
        "\n",
        "num_facilities = len(facilities)\n",
        "num_customers = len(customers)\n",
        "cartesian_prod = list(product(range(num_customers), range(num_facilities)))\n",
        "\n",
        "# Computamos los costos de envío\n",
        "\n",
        "shipping_cost = {(c,f): cost_per_km*compute_distance(customers[c], facilities[f]) for c, f in cartesian_prod}\n",
        "\n"
      ]
    },
    {
      "cell_type": "markdown",
      "metadata": {
        "id": "wPS5DPggsVtM"
      },
      "source": [
        "## Despliegue del modelo\n",
        "\n",
        "Ahora definimos el modelo MIP para el problema de ubicación de instalaciones, mediante la definición de las variables de decisión, restricciones y función objetivo. A continuación, iniciamos el proceso de optimización y Gurobi encuentra el plan para construir instalaciones que minimiza los costos totales."
      ]
    },
    {
      "cell_type": "code",
      "execution_count": null,
      "metadata": {
        "scrolled": true,
        "id": "y35bIH_asVtM"
      },
      "outputs": [],
      "source": [
        "import pulp as plp\n",
        "from itertools import product\n",
        "\n",
        "# MIP model formulation\n",
        "m = plp.LpProblem('facility_location', plp.LpMinimize)\n"
      ]
    },
    {
      "cell_type": "markdown",
      "metadata": {
        "id": "VZY2jLSmsVtM"
      },
      "source": [
        "### Definir las variables del modelo"
      ]
    },
    {
      "cell_type": "code",
      "execution_count": null,
      "metadata": {
        "id": "XlJ9wcvvsVtM"
      },
      "outputs": [],
      "source": [
        "# Decisión binaria indicando que una bodega es seleccionada\n",
        "select = plp.LpVariable.dicts('Select', range(num_facilities), lowBound=0, upBound=1, cat='Binary')\n",
        "\n",
        "# Proporción de la demanda de un hospital que se satisface desde una bodega seleccionada\n",
        "assign = plp.LpVariable.dicts('Assign', cartesian_prod, lowBound=0, upBound=1, cat='Continuous')"
      ]
    },
    {
      "cell_type": "markdown",
      "metadata": {
        "id": "dXvAh0otsVtN"
      },
      "source": [
        "Establezca una restricción que asegure que la demanda total de cada hospital es satisfecha desde un hospital dado."
      ]
    },
    {
      "cell_type": "code",
      "execution_count": null,
      "metadata": {
        "id": "HufiQgA-sVtN"
      },
      "outputs": [],
      "source": [
        "\n",
        "      \n",
        "for c in range(num_customers):     \n",
        "     m += pl.lpSum([assign[(c,f)] for f in range(num_facilities)]) == 1 "
      ]
    },
    {
      "cell_type": "markdown",
      "metadata": {
        "id": "oC53-u4ssVtN"
      },
      "source": [
        "Escriba una restricción que garantice que una asignación de un hospital a una bodega solo se puede dar cuando la bodega se haya seleccionado."
      ]
    },
    {
      "cell_type": "code",
      "execution_count": null,
      "metadata": {
        "id": "DB0YAm_bsVtN"
      },
      "outputs": [],
      "source": [
        "for c,f in cartesian_prod:\n",
        "     m += assign[(c,f)] <= select[f]"
      ]
    },
    {
      "cell_type": "markdown",
      "metadata": {
        "id": "VkgRug-OsVtN"
      },
      "source": [
        "Escriba la función objetivo del problema:\n",
        "\n",
        "Minimizar la suma de los costos de apertura y los costos de asignación (transporte)"
      ]
    },
    {
      "cell_type": "code",
      "execution_count": null,
      "metadata": {
        "id": "3FsCJImnsVtO",
        "outputId": "532b0634-3e87-4d1f-bcf2-6285978d4968"
      },
      "outputs": [
        {
          "name": "stderr",
          "output_type": "stream",
          "text": [
            "/Users/user/opt/anaconda3/envs/apricot-env/lib/python3.9/site-packages/pulp/pulp.py:1704: UserWarning:\n",
            "\n",
            "Overwriting previously set objective.\n",
            "\n"
          ]
        }
      ],
      "source": [
        "m += pl.lpSum([select[f]*setup_cost[f] for f in range(num_facilities)]) + \\\n",
        "     pl.lpSum([assign[(c,f)]*shipping_cost[(c,f)] for (c,f) in cartesian_prod])\n",
        "               \n"
      ]
    },
    {
      "cell_type": "markdown",
      "metadata": {
        "id": "PvqWoAwMsVtO"
      },
      "source": [
        "Resuelva el problema "
      ]
    },
    {
      "cell_type": "code",
      "execution_count": null,
      "metadata": {
        "id": "-XZe1IpasVtO",
        "outputId": "21d7d719-4ca7-44af-9115-1b26ae308c50"
      },
      "outputs": [
        {
          "name": "stdout",
          "output_type": "stream",
          "text": [
            "Welcome to the CBC MILP Solver \n",
            "Version: 2.10.3 \n",
            "Build Date: Dec 15 2019 \n",
            "\n",
            "command line - /Users/user/opt/anaconda3/envs/apricot-env/lib/python3.9/site-packages/pulp/solverdir/cbc/osx/64/cbc /var/folders/xc/t5gbnt3n5sq5bkg65xw9f1g00000gn/T/805ff09597974acfa4d17755e4e392ba-pulp.mps timeMode elapsed branch printingOptions all solution /var/folders/xc/t5gbnt3n5sq5bkg65xw9f1g00000gn/T/805ff09597974acfa4d17755e4e392ba-pulp.sol (default strategy 1)\n",
            "At line 2 NAME          MODEL\n",
            "At line 3 ROWS\n",
            "At line 405 COLUMNS\n",
            "At line 1666 RHS\n",
            "At line 2067 BOUNDS\n",
            "At line 2488 ENDATA\n",
            "Problem MODEL has 400 rows, 420 columns and 800 elements\n",
            "Coin0008I MODEL read with 0 errors\n",
            "Option for timeMode changed from cpu to elapsed\n",
            "Continuous objective value is 0 - 0.00 seconds\n",
            "Cgl0004I processed model has 0 rows, 0 columns (0 integer (0 of which binary)) and 0 elements\n",
            "Cbc3007W No integer variables - nothing to do\n",
            "Cuts at root node changed objective from 0 to -1.79769e+308\n",
            "Probing was tried 0 times and created 0 cuts of which 0 were active after adding rounds of cuts (0.000 seconds)\n",
            "Gomory was tried 0 times and created 0 cuts of which 0 were active after adding rounds of cuts (0.000 seconds)\n",
            "Knapsack was tried 0 times and created 0 cuts of which 0 were active after adding rounds of cuts (0.000 seconds)\n",
            "Clique was tried 0 times and created 0 cuts of which 0 were active after adding rounds of cuts (0.000 seconds)\n",
            "MixedIntegerRounding2 was tried 0 times and created 0 cuts of which 0 were active after adding rounds of cuts (0.000 seconds)\n",
            "FlowCover was tried 0 times and created 0 cuts of which 0 were active after adding rounds of cuts (0.000 seconds)\n",
            "TwoMirCuts was tried 0 times and created 0 cuts of which 0 were active after adding rounds of cuts (0.000 seconds)\n",
            "ZeroHalf was tried 0 times and created 0 cuts of which 0 were active after adding rounds of cuts (0.000 seconds)\n",
            "\n",
            "Result - Optimal solution found\n",
            "\n",
            "Objective value:                0.00000000\n",
            "Enumerated nodes:               0\n",
            "Total iterations:               0\n",
            "Time (CPU seconds):             0.01\n",
            "Time (Wallclock seconds):       0.01\n",
            "\n",
            "Option for printingOptions changed from normal to all\n",
            "Total time (CPU seconds):       0.01   (Wallclock seconds):       0.03\n",
            "\n"
          ]
        },
        {
          "data": {
            "text/plain": [
              "1"
            ]
          },
          "execution_count": 82,
          "metadata": {},
          "output_type": "execute_result"
        }
      ],
      "source": [
        "m.solve()"
      ]
    },
    {
      "cell_type": "markdown",
      "metadata": {
        "id": "RJEegSIjsVtO"
      },
      "source": [
        "Modifique la función objetivo del problema."
      ]
    },
    {
      "cell_type": "code",
      "execution_count": null,
      "metadata": {
        "id": "gwYO_wbKsVtP"
      },
      "outputs": [],
      "source": []
    },
    {
      "cell_type": "markdown",
      "metadata": {
        "id": "OpsaN4FRsVtP"
      },
      "source": [
        "## Análisis\n",
        "El resultado del modelo de optimización muestra que el valor mínimo del costo total es de 4.72 millones de GBP. Veamos la solución que logra ese resultado óptimo.\n",
        "\n",
        "## Plan de construcción de almacenes\n",
        "Este plan determina en qué ubicaciones de sitios construir un almacén."
      ]
    },
    {
      "cell_type": "code",
      "execution_count": null,
      "metadata": {
        "id": "Ym8zxTqWsVtP"
      },
      "outputs": [],
      "source": [
        "# display optimal values of decision variables using pulp notation\n",
        "\n",
        "for k in select:\n",
        "    if select[k].varValue > 0:\n",
        "        print(select[k].name, '=', select[k].varValue)\n",
        "\n",
        "for k in assign:\n",
        "    if assign[k].varValue > 0:\n",
        "        print(assign[k].name, '=', assign[k].varValue)"
      ]
    },
    {
      "cell_type": "code",
      "execution_count": null,
      "metadata": {
        "id": "tlwzpgnzsVtP",
        "outputId": "02b18975-ba7a-4bca-e197-604d81207090"
      },
      "outputs": [
        {
          "data": {
            "application/vnd.plotly.v1+json": {
              "config": {
                "plotlyServerURL": "https://plot.ly"
              },
              "data": [
                {
                  "mode": "markers",
                  "name": "Facilities",
                  "type": "scatter",
                  "x": [
                    0.18,
                    0.6,
                    1.23,
                    0.63,
                    1.71,
                    0.24,
                    1.2,
                    0.42,
                    0.09,
                    1.62,
                    2.46,
                    1.83,
                    0.78,
                    2.76,
                    0.48,
                    1.86,
                    1.59,
                    2.04,
                    0.54,
                    0.06
                  ],
                  "y": [
                    1.02,
                    2.85,
                    0.84,
                    1.5,
                    1.74,
                    0.03,
                    2.28,
                    2.13,
                    2.49,
                    2.64,
                    0.39,
                    0.09,
                    1.68,
                    0.87,
                    1.86,
                    0.63,
                    2.7,
                    1.44,
                    1.89,
                    2.94
                  ]
                },
                {
                  "mode": "markers",
                  "name": "Hospitals",
                  "type": "scatter",
                  "x": [
                    0,
                    2.5,
                    2.5,
                    1.5,
                    0.5,
                    0,
                    2.5,
                    2.5,
                    1.5,
                    0.5,
                    0,
                    2.5,
                    2.5,
                    1.5,
                    0.5,
                    0,
                    2.5,
                    2.5,
                    1.5,
                    0.5
                  ],
                  "y": [
                    1.5,
                    1.2,
                    2.5,
                    2.5,
                    2.5,
                    0.5,
                    0.5,
                    2,
                    2,
                    2,
                    1,
                    1,
                    1.5,
                    1.5,
                    1.5,
                    0,
                    0,
                    0.5,
                    0.5,
                    0.5
                  ]
                },
                {
                  "line": {
                    "color": "gray",
                    "width": 1
                  },
                  "mode": "lines",
                  "showlegend": false,
                  "type": "scatter",
                  "x": [
                    0,
                    0.18
                  ],
                  "y": [
                    1.5,
                    1.02
                  ]
                },
                {
                  "line": {
                    "color": "gray",
                    "width": 1
                  },
                  "mode": "lines",
                  "showlegend": false,
                  "type": "scatter",
                  "x": [
                    2.5,
                    2.76
                  ],
                  "y": [
                    1.2,
                    0.87
                  ]
                },
                {
                  "line": {
                    "color": "gray",
                    "width": 1
                  },
                  "mode": "lines",
                  "showlegend": false,
                  "type": "scatter",
                  "x": [
                    2.5,
                    1.62
                  ],
                  "y": [
                    2.5,
                    2.64
                  ]
                },
                {
                  "line": {
                    "color": "gray",
                    "width": 1
                  },
                  "mode": "lines",
                  "showlegend": false,
                  "type": "scatter",
                  "x": [
                    1.5,
                    1.62
                  ],
                  "y": [
                    2.5,
                    2.64
                  ]
                },
                {
                  "line": {
                    "color": "gray",
                    "width": 1
                  },
                  "mode": "lines",
                  "showlegend": false,
                  "type": "scatter",
                  "x": [
                    0.5,
                    0.48
                  ],
                  "y": [
                    2.5,
                    1.86
                  ]
                },
                {
                  "line": {
                    "color": "gray",
                    "width": 1
                  },
                  "mode": "lines",
                  "showlegend": false,
                  "type": "scatter",
                  "x": [
                    0,
                    0.18
                  ],
                  "y": [
                    0.5,
                    1.02
                  ]
                },
                {
                  "line": {
                    "color": "gray",
                    "width": 1
                  },
                  "mode": "lines",
                  "showlegend": false,
                  "type": "scatter",
                  "x": [
                    2.5,
                    2.76
                  ],
                  "y": [
                    0.5,
                    0.87
                  ]
                },
                {
                  "line": {
                    "color": "gray",
                    "width": 1
                  },
                  "mode": "lines",
                  "showlegend": false,
                  "type": "scatter",
                  "x": [
                    2.5,
                    1.62
                  ],
                  "y": [
                    2,
                    2.64
                  ]
                },
                {
                  "line": {
                    "color": "gray",
                    "width": 1
                  },
                  "mode": "lines",
                  "showlegend": false,
                  "type": "scatter",
                  "x": [
                    1.5,
                    1.62
                  ],
                  "y": [
                    2,
                    2.64
                  ]
                },
                {
                  "line": {
                    "color": "gray",
                    "width": 1
                  },
                  "mode": "lines",
                  "showlegend": false,
                  "type": "scatter",
                  "x": [
                    0.5,
                    0.48
                  ],
                  "y": [
                    2,
                    1.86
                  ]
                },
                {
                  "line": {
                    "color": "gray",
                    "width": 1
                  },
                  "mode": "lines",
                  "showlegend": false,
                  "type": "scatter",
                  "x": [
                    0,
                    0.18
                  ],
                  "y": [
                    1,
                    1.02
                  ]
                },
                {
                  "line": {
                    "color": "gray",
                    "width": 1
                  },
                  "mode": "lines",
                  "showlegend": false,
                  "type": "scatter",
                  "x": [
                    2.5,
                    2.76
                  ],
                  "y": [
                    1,
                    0.87
                  ]
                },
                {
                  "line": {
                    "color": "gray",
                    "width": 1
                  },
                  "mode": "lines",
                  "showlegend": false,
                  "type": "scatter",
                  "x": [
                    2.5,
                    2.76
                  ],
                  "y": [
                    1.5,
                    0.87
                  ]
                },
                {
                  "line": {
                    "color": "gray",
                    "width": 1
                  },
                  "mode": "lines",
                  "showlegend": false,
                  "type": "scatter",
                  "x": [
                    1.5,
                    1.23
                  ],
                  "y": [
                    1.5,
                    0.84
                  ]
                },
                {
                  "line": {
                    "color": "gray",
                    "width": 1
                  },
                  "mode": "lines",
                  "showlegend": false,
                  "type": "scatter",
                  "x": [
                    0.5,
                    0.48
                  ],
                  "y": [
                    1.5,
                    1.86
                  ]
                },
                {
                  "line": {
                    "color": "gray",
                    "width": 1
                  },
                  "mode": "lines",
                  "showlegend": false,
                  "type": "scatter",
                  "x": [
                    0,
                    0.18
                  ],
                  "y": [
                    0,
                    1.02
                  ]
                },
                {
                  "line": {
                    "color": "gray",
                    "width": 1
                  },
                  "mode": "lines",
                  "showlegend": false,
                  "type": "scatter",
                  "x": [
                    2.5,
                    2.76
                  ],
                  "y": [
                    0,
                    0.87
                  ]
                },
                {
                  "line": {
                    "color": "gray",
                    "width": 1
                  },
                  "mode": "lines",
                  "showlegend": false,
                  "type": "scatter",
                  "x": [
                    2.5,
                    2.76
                  ],
                  "y": [
                    0.5,
                    0.87
                  ]
                },
                {
                  "line": {
                    "color": "gray",
                    "width": 1
                  },
                  "mode": "lines",
                  "showlegend": false,
                  "type": "scatter",
                  "x": [
                    1.5,
                    1.23
                  ],
                  "y": [
                    0.5,
                    0.84
                  ]
                },
                {
                  "line": {
                    "color": "gray",
                    "width": 1
                  },
                  "mode": "lines",
                  "showlegend": false,
                  "type": "scatter",
                  "x": [
                    0.5,
                    0.18
                  ],
                  "y": [
                    0.5,
                    1.02
                  ]
                }
              ],
              "layout": {
                "template": {
                  "data": {
                    "bar": [
                      {
                        "error_x": {
                          "color": "#2a3f5f"
                        },
                        "error_y": {
                          "color": "#2a3f5f"
                        },
                        "marker": {
                          "line": {
                            "color": "#E5ECF6",
                            "width": 0.5
                          },
                          "pattern": {
                            "fillmode": "overlay",
                            "size": 10,
                            "solidity": 0.2
                          }
                        },
                        "type": "bar"
                      }
                    ],
                    "barpolar": [
                      {
                        "marker": {
                          "line": {
                            "color": "#E5ECF6",
                            "width": 0.5
                          },
                          "pattern": {
                            "fillmode": "overlay",
                            "size": 10,
                            "solidity": 0.2
                          }
                        },
                        "type": "barpolar"
                      }
                    ],
                    "carpet": [
                      {
                        "aaxis": {
                          "endlinecolor": "#2a3f5f",
                          "gridcolor": "white",
                          "linecolor": "white",
                          "minorgridcolor": "white",
                          "startlinecolor": "#2a3f5f"
                        },
                        "baxis": {
                          "endlinecolor": "#2a3f5f",
                          "gridcolor": "white",
                          "linecolor": "white",
                          "minorgridcolor": "white",
                          "startlinecolor": "#2a3f5f"
                        },
                        "type": "carpet"
                      }
                    ],
                    "choropleth": [
                      {
                        "colorbar": {
                          "outlinewidth": 0,
                          "ticks": ""
                        },
                        "type": "choropleth"
                      }
                    ],
                    "contour": [
                      {
                        "colorbar": {
                          "outlinewidth": 0,
                          "ticks": ""
                        },
                        "colorscale": [
                          [
                            0,
                            "#0d0887"
                          ],
                          [
                            0.1111111111111111,
                            "#46039f"
                          ],
                          [
                            0.2222222222222222,
                            "#7201a8"
                          ],
                          [
                            0.3333333333333333,
                            "#9c179e"
                          ],
                          [
                            0.4444444444444444,
                            "#bd3786"
                          ],
                          [
                            0.5555555555555556,
                            "#d8576b"
                          ],
                          [
                            0.6666666666666666,
                            "#ed7953"
                          ],
                          [
                            0.7777777777777778,
                            "#fb9f3a"
                          ],
                          [
                            0.8888888888888888,
                            "#fdca26"
                          ],
                          [
                            1,
                            "#f0f921"
                          ]
                        ],
                        "type": "contour"
                      }
                    ],
                    "contourcarpet": [
                      {
                        "colorbar": {
                          "outlinewidth": 0,
                          "ticks": ""
                        },
                        "type": "contourcarpet"
                      }
                    ],
                    "heatmap": [
                      {
                        "colorbar": {
                          "outlinewidth": 0,
                          "ticks": ""
                        },
                        "colorscale": [
                          [
                            0,
                            "#0d0887"
                          ],
                          [
                            0.1111111111111111,
                            "#46039f"
                          ],
                          [
                            0.2222222222222222,
                            "#7201a8"
                          ],
                          [
                            0.3333333333333333,
                            "#9c179e"
                          ],
                          [
                            0.4444444444444444,
                            "#bd3786"
                          ],
                          [
                            0.5555555555555556,
                            "#d8576b"
                          ],
                          [
                            0.6666666666666666,
                            "#ed7953"
                          ],
                          [
                            0.7777777777777778,
                            "#fb9f3a"
                          ],
                          [
                            0.8888888888888888,
                            "#fdca26"
                          ],
                          [
                            1,
                            "#f0f921"
                          ]
                        ],
                        "type": "heatmap"
                      }
                    ],
                    "heatmapgl": [
                      {
                        "colorbar": {
                          "outlinewidth": 0,
                          "ticks": ""
                        },
                        "colorscale": [
                          [
                            0,
                            "#0d0887"
                          ],
                          [
                            0.1111111111111111,
                            "#46039f"
                          ],
                          [
                            0.2222222222222222,
                            "#7201a8"
                          ],
                          [
                            0.3333333333333333,
                            "#9c179e"
                          ],
                          [
                            0.4444444444444444,
                            "#bd3786"
                          ],
                          [
                            0.5555555555555556,
                            "#d8576b"
                          ],
                          [
                            0.6666666666666666,
                            "#ed7953"
                          ],
                          [
                            0.7777777777777778,
                            "#fb9f3a"
                          ],
                          [
                            0.8888888888888888,
                            "#fdca26"
                          ],
                          [
                            1,
                            "#f0f921"
                          ]
                        ],
                        "type": "heatmapgl"
                      }
                    ],
                    "histogram": [
                      {
                        "marker": {
                          "pattern": {
                            "fillmode": "overlay",
                            "size": 10,
                            "solidity": 0.2
                          }
                        },
                        "type": "histogram"
                      }
                    ],
                    "histogram2d": [
                      {
                        "colorbar": {
                          "outlinewidth": 0,
                          "ticks": ""
                        },
                        "colorscale": [
                          [
                            0,
                            "#0d0887"
                          ],
                          [
                            0.1111111111111111,
                            "#46039f"
                          ],
                          [
                            0.2222222222222222,
                            "#7201a8"
                          ],
                          [
                            0.3333333333333333,
                            "#9c179e"
                          ],
                          [
                            0.4444444444444444,
                            "#bd3786"
                          ],
                          [
                            0.5555555555555556,
                            "#d8576b"
                          ],
                          [
                            0.6666666666666666,
                            "#ed7953"
                          ],
                          [
                            0.7777777777777778,
                            "#fb9f3a"
                          ],
                          [
                            0.8888888888888888,
                            "#fdca26"
                          ],
                          [
                            1,
                            "#f0f921"
                          ]
                        ],
                        "type": "histogram2d"
                      }
                    ],
                    "histogram2dcontour": [
                      {
                        "colorbar": {
                          "outlinewidth": 0,
                          "ticks": ""
                        },
                        "colorscale": [
                          [
                            0,
                            "#0d0887"
                          ],
                          [
                            0.1111111111111111,
                            "#46039f"
                          ],
                          [
                            0.2222222222222222,
                            "#7201a8"
                          ],
                          [
                            0.3333333333333333,
                            "#9c179e"
                          ],
                          [
                            0.4444444444444444,
                            "#bd3786"
                          ],
                          [
                            0.5555555555555556,
                            "#d8576b"
                          ],
                          [
                            0.6666666666666666,
                            "#ed7953"
                          ],
                          [
                            0.7777777777777778,
                            "#fb9f3a"
                          ],
                          [
                            0.8888888888888888,
                            "#fdca26"
                          ],
                          [
                            1,
                            "#f0f921"
                          ]
                        ],
                        "type": "histogram2dcontour"
                      }
                    ],
                    "mesh3d": [
                      {
                        "colorbar": {
                          "outlinewidth": 0,
                          "ticks": ""
                        },
                        "type": "mesh3d"
                      }
                    ],
                    "parcoords": [
                      {
                        "line": {
                          "colorbar": {
                            "outlinewidth": 0,
                            "ticks": ""
                          }
                        },
                        "type": "parcoords"
                      }
                    ],
                    "pie": [
                      {
                        "automargin": true,
                        "type": "pie"
                      }
                    ],
                    "scatter": [
                      {
                        "fillpattern": {
                          "fillmode": "overlay",
                          "size": 10,
                          "solidity": 0.2
                        },
                        "type": "scatter"
                      }
                    ],
                    "scatter3d": [
                      {
                        "line": {
                          "colorbar": {
                            "outlinewidth": 0,
                            "ticks": ""
                          }
                        },
                        "marker": {
                          "colorbar": {
                            "outlinewidth": 0,
                            "ticks": ""
                          }
                        },
                        "type": "scatter3d"
                      }
                    ],
                    "scattercarpet": [
                      {
                        "marker": {
                          "colorbar": {
                            "outlinewidth": 0,
                            "ticks": ""
                          }
                        },
                        "type": "scattercarpet"
                      }
                    ],
                    "scattergeo": [
                      {
                        "marker": {
                          "colorbar": {
                            "outlinewidth": 0,
                            "ticks": ""
                          }
                        },
                        "type": "scattergeo"
                      }
                    ],
                    "scattergl": [
                      {
                        "marker": {
                          "colorbar": {
                            "outlinewidth": 0,
                            "ticks": ""
                          }
                        },
                        "type": "scattergl"
                      }
                    ],
                    "scattermapbox": [
                      {
                        "marker": {
                          "colorbar": {
                            "outlinewidth": 0,
                            "ticks": ""
                          }
                        },
                        "type": "scattermapbox"
                      }
                    ],
                    "scatterpolar": [
                      {
                        "marker": {
                          "colorbar": {
                            "outlinewidth": 0,
                            "ticks": ""
                          }
                        },
                        "type": "scatterpolar"
                      }
                    ],
                    "scatterpolargl": [
                      {
                        "marker": {
                          "colorbar": {
                            "outlinewidth": 0,
                            "ticks": ""
                          }
                        },
                        "type": "scatterpolargl"
                      }
                    ],
                    "scatterternary": [
                      {
                        "marker": {
                          "colorbar": {
                            "outlinewidth": 0,
                            "ticks": ""
                          }
                        },
                        "type": "scatterternary"
                      }
                    ],
                    "surface": [
                      {
                        "colorbar": {
                          "outlinewidth": 0,
                          "ticks": ""
                        },
                        "colorscale": [
                          [
                            0,
                            "#0d0887"
                          ],
                          [
                            0.1111111111111111,
                            "#46039f"
                          ],
                          [
                            0.2222222222222222,
                            "#7201a8"
                          ],
                          [
                            0.3333333333333333,
                            "#9c179e"
                          ],
                          [
                            0.4444444444444444,
                            "#bd3786"
                          ],
                          [
                            0.5555555555555556,
                            "#d8576b"
                          ],
                          [
                            0.6666666666666666,
                            "#ed7953"
                          ],
                          [
                            0.7777777777777778,
                            "#fb9f3a"
                          ],
                          [
                            0.8888888888888888,
                            "#fdca26"
                          ],
                          [
                            1,
                            "#f0f921"
                          ]
                        ],
                        "type": "surface"
                      }
                    ],
                    "table": [
                      {
                        "cells": {
                          "fill": {
                            "color": "#EBF0F8"
                          },
                          "line": {
                            "color": "white"
                          }
                        },
                        "header": {
                          "fill": {
                            "color": "#C8D4E3"
                          },
                          "line": {
                            "color": "white"
                          }
                        },
                        "type": "table"
                      }
                    ]
                  },
                  "layout": {
                    "annotationdefaults": {
                      "arrowcolor": "#2a3f5f",
                      "arrowhead": 0,
                      "arrowwidth": 1
                    },
                    "autotypenumbers": "strict",
                    "coloraxis": {
                      "colorbar": {
                        "outlinewidth": 0,
                        "ticks": ""
                      }
                    },
                    "colorscale": {
                      "diverging": [
                        [
                          0,
                          "#8e0152"
                        ],
                        [
                          0.1,
                          "#c51b7d"
                        ],
                        [
                          0.2,
                          "#de77ae"
                        ],
                        [
                          0.3,
                          "#f1b6da"
                        ],
                        [
                          0.4,
                          "#fde0ef"
                        ],
                        [
                          0.5,
                          "#f7f7f7"
                        ],
                        [
                          0.6,
                          "#e6f5d0"
                        ],
                        [
                          0.7,
                          "#b8e186"
                        ],
                        [
                          0.8,
                          "#7fbc41"
                        ],
                        [
                          0.9,
                          "#4d9221"
                        ],
                        [
                          1,
                          "#276419"
                        ]
                      ],
                      "sequential": [
                        [
                          0,
                          "#0d0887"
                        ],
                        [
                          0.1111111111111111,
                          "#46039f"
                        ],
                        [
                          0.2222222222222222,
                          "#7201a8"
                        ],
                        [
                          0.3333333333333333,
                          "#9c179e"
                        ],
                        [
                          0.4444444444444444,
                          "#bd3786"
                        ],
                        [
                          0.5555555555555556,
                          "#d8576b"
                        ],
                        [
                          0.6666666666666666,
                          "#ed7953"
                        ],
                        [
                          0.7777777777777778,
                          "#fb9f3a"
                        ],
                        [
                          0.8888888888888888,
                          "#fdca26"
                        ],
                        [
                          1,
                          "#f0f921"
                        ]
                      ],
                      "sequentialminus": [
                        [
                          0,
                          "#0d0887"
                        ],
                        [
                          0.1111111111111111,
                          "#46039f"
                        ],
                        [
                          0.2222222222222222,
                          "#7201a8"
                        ],
                        [
                          0.3333333333333333,
                          "#9c179e"
                        ],
                        [
                          0.4444444444444444,
                          "#bd3786"
                        ],
                        [
                          0.5555555555555556,
                          "#d8576b"
                        ],
                        [
                          0.6666666666666666,
                          "#ed7953"
                        ],
                        [
                          0.7777777777777778,
                          "#fb9f3a"
                        ],
                        [
                          0.8888888888888888,
                          "#fdca26"
                        ],
                        [
                          1,
                          "#f0f921"
                        ]
                      ]
                    },
                    "colorway": [
                      "#636efa",
                      "#EF553B",
                      "#00cc96",
                      "#ab63fa",
                      "#FFA15A",
                      "#19d3f3",
                      "#FF6692",
                      "#B6E880",
                      "#FF97FF",
                      "#FECB52"
                    ],
                    "font": {
                      "color": "#2a3f5f"
                    },
                    "geo": {
                      "bgcolor": "white",
                      "lakecolor": "white",
                      "landcolor": "#E5ECF6",
                      "showlakes": true,
                      "showland": true,
                      "subunitcolor": "white"
                    },
                    "hoverlabel": {
                      "align": "left"
                    },
                    "hovermode": "closest",
                    "mapbox": {
                      "style": "light"
                    },
                    "paper_bgcolor": "white",
                    "plot_bgcolor": "#E5ECF6",
                    "polar": {
                      "angularaxis": {
                        "gridcolor": "white",
                        "linecolor": "white",
                        "ticks": ""
                      },
                      "bgcolor": "#E5ECF6",
                      "radialaxis": {
                        "gridcolor": "white",
                        "linecolor": "white",
                        "ticks": ""
                      }
                    },
                    "scene": {
                      "xaxis": {
                        "backgroundcolor": "#E5ECF6",
                        "gridcolor": "white",
                        "gridwidth": 2,
                        "linecolor": "white",
                        "showbackground": true,
                        "ticks": "",
                        "zerolinecolor": "white"
                      },
                      "yaxis": {
                        "backgroundcolor": "#E5ECF6",
                        "gridcolor": "white",
                        "gridwidth": 2,
                        "linecolor": "white",
                        "showbackground": true,
                        "ticks": "",
                        "zerolinecolor": "white"
                      },
                      "zaxis": {
                        "backgroundcolor": "#E5ECF6",
                        "gridcolor": "white",
                        "gridwidth": 2,
                        "linecolor": "white",
                        "showbackground": true,
                        "ticks": "",
                        "zerolinecolor": "white"
                      }
                    },
                    "shapedefaults": {
                      "line": {
                        "color": "#2a3f5f"
                      }
                    },
                    "ternary": {
                      "aaxis": {
                        "gridcolor": "white",
                        "linecolor": "white",
                        "ticks": ""
                      },
                      "baxis": {
                        "gridcolor": "white",
                        "linecolor": "white",
                        "ticks": ""
                      },
                      "bgcolor": "#E5ECF6",
                      "caxis": {
                        "gridcolor": "white",
                        "linecolor": "white",
                        "ticks": ""
                      }
                    },
                    "title": {
                      "x": 0.05
                    },
                    "xaxis": {
                      "automargin": true,
                      "gridcolor": "white",
                      "linecolor": "white",
                      "ticks": "",
                      "title": {
                        "standoff": 15
                      },
                      "zerolinecolor": "white",
                      "zerolinewidth": 2
                    },
                    "yaxis": {
                      "automargin": true,
                      "gridcolor": "white",
                      "linecolor": "white",
                      "ticks": "",
                      "title": {
                        "standoff": 15
                      },
                      "zerolinecolor": "white",
                      "zerolinewidth": 2
                    }
                  }
                },
                "title": {
                  "text": "Facilities and hospitals"
                },
                "xaxis": {
                  "title": {
                    "text": "x"
                  }
                },
                "yaxis": {
                  "title": {
                    "text": "y"
                  }
                }
              }
            }
          },
          "metadata": {},
          "output_type": "display_data"
        }
      ],
      "source": [
        "# Depict the optimal solution in plotly figure, use lines to depict  allocation of customers to facilities\n",
        "\n",
        "fig = go.Figure()\n",
        "fig.add_trace(go.Scatter(x=[x for x,y in facilities], y=[y for x,y in facilities], mode='markers', name='Facilities'))\n",
        "fig.add_trace(go.Scatter(x=[x for x,y in customers], y=[y for x,y in customers], mode='markers', name='Hospitals'))\n",
        "for c,f in cartesian_prod:\n",
        "    if assign[(c,f)].varValue > 0:\n",
        "        fig.add_trace(go.Scatter(x=[customers[c][0], facilities[f][0]], y=[customers[c][1], facilities[f][1]], mode='lines', line=dict(color='gray', width=1), showlegend=False))\n",
        "fig.update_layout(title='Facilities and hospitals', xaxis_title='x', yaxis_title='y')\n",
        "fig.show()"
      ]
    },
    {
      "cell_type": "markdown",
      "metadata": {
        "id": "2_TPnpucsVtP"
      },
      "source": [
        "### Plan de Envío\n",
        "Este plan determina el porcentaje de envíos que se enviarán desde cada instalación construida a cada cliente."
      ]
    },
    {
      "cell_type": "code",
      "execution_count": null,
      "metadata": {
        "id": "IyIis9dHsVtQ",
        "outputId": "a74205ab-47fa-4d40-daa5-f9c9bedbf3fb"
      },
      "outputs": [
        {
          "name": "stdout",
          "output_type": "stream",
          "text": [
            "\n",
            " Hospital 1 receives from Warehouse 1 100% of its needs\n",
            "\n",
            " Hospital 2 receives from Warehouse 14 100% of its needs\n",
            "\n",
            " Hospital 3 receives from Warehouse 10 100% of its needs\n",
            "\n",
            " Hospital 4 receives from Warehouse 10 100% of its needs\n",
            "\n",
            " Hospital 5 receives from Warehouse 15 100% of its needs\n",
            "\n",
            " Hospital 6 receives from Warehouse 1 100% of its needs\n",
            "\n",
            " Hospital 7 receives from Warehouse 14 100% of its needs\n",
            "\n",
            " Hospital 8 receives from Warehouse 10 100% of its needs\n",
            "\n",
            " Hospital 9 receives from Warehouse 10 100% of its needs\n",
            "\n",
            " Hospital 10 receives from Warehouse 15 100% of its needs\n",
            "\n",
            " Hospital 11 receives from Warehouse 1 100% of its needs\n",
            "\n",
            " Hospital 12 receives from Warehouse 14 100% of its needs\n",
            "\n",
            " Hospital 13 receives from Warehouse 14 100% of its needs\n",
            "\n",
            " Hospital 14 receives from Warehouse 3 100% of its needs\n",
            "\n",
            " Hospital 15 receives from Warehouse 15 100% of its needs\n",
            "\n",
            " Hospital 16 receives from Warehouse 1 100% of its needs\n",
            "\n",
            " Hospital 17 receives from Warehouse 14 100% of its needs\n",
            "\n",
            " Hospital 18 receives from Warehouse 14 100% of its needs\n",
            "\n",
            " Hospital 19 receives from Warehouse 3 100% of its needs\n",
            "\n",
            " Hospital 20 receives from Warehouse 1 100% of its needs\n"
          ]
        }
      ],
      "source": [
        "# Shipments from facilities to customers.\n",
        "\n",
        "for customer, facility in assign.keys():\n",
        "    if (abs(assign[customer, facility].varValue) > 1e-6):\n",
        "        print(f\"\\n Hospital {customer + 1} receives from Warehouse {facility + 1} {round(100*assign[customer, facility].varValue)}% of its needs\")\n"
      ]
    },
    {
      "cell_type": "markdown",
      "metadata": {
        "id": "0s2f2aHLsVtQ"
      },
      "source": [
        "##  Conclusión\n",
        "En este ejemplo, abordamos un problema de ubicación de instalaciones en el que deseamos construir almacenes para suministrar a una gran cantidad de hospitales, minimizando los costos totales fijos de construcción de almacenes y los costos variables totales de envío desde los almacenes hasta los hospitales. Aprendimos cómo formular el problema como un modelo MIP. También aprendimos cómo implementar la formulación del modelo MIP y resolverlo utilizando la API de Python de Cbc Solver. "
      ]
    },
    {
      "cell_type": "markdown",
      "metadata": {
        "id": "eEeB4VLAsVtQ"
      },
      "source": [
        "##  Referencias\n",
        "[1] Laporte, Gilbert, Stefan Nickel, and Saldanha da Gama, Francisco. Location Science. Springer, 2015."
      ]
    }
  ],
  "metadata": {
    "kernelspec": {
      "display_name": "Python 3",
      "language": "python",
      "name": "python3"
    },
    "language_info": {
      "codemirror_mode": {
        "name": "ipython",
        "version": 3
      },
      "file_extension": ".py",
      "mimetype": "text/x-python",
      "name": "python",
      "nbconvert_exporter": "python",
      "pygments_lexer": "ipython3",
      "version": "3.9.12"
    },
    "colab": {
      "provenance": [],
      "include_colab_link": true
    }
  },
  "nbformat": 4,
  "nbformat_minor": 0
}